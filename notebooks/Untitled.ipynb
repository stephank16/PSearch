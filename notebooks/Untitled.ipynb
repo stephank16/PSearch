{
 "cells": [
  {
   "cell_type": "code",
   "execution_count": null,
   "metadata": {},
   "outputs": [],
   "source": [
    "import json\n",
    "import requests\n",
    "\n",
    "# get mapping fields for a specific index:\n",
    "index = \"cmip6\"\n",
    "elastic_url = \"http://localhost:9200\"\n",
    "doc_type = \"DOC_TYPE\"\n",
    "mapping_fields_request = \"_mapping/field/*?ignore_unavailable=false&allow_no_indices=false&include_defaults=true\"\n",
    "mapping_fields_url = \"/\".join([elastic_url, index, doc_type, mapping_fields_request])\n",
    "response = requests.get(mapping_fields_url)\n",
    "\n",
    "# parse the data:\n",
    "data = response.content.decode()\n",
    "parsed_data = json.loads(data)\n",
    "keys = sorted(parsed_data[index][\"mappings\"][doc_type].keys())\n",
    "print(\"index= {} has a total of {} keys\".format(index, len(keys)))\n",
    "\n",
    "# print the keys of the fields:\n",
    "for i, key in enumerate(keys):\n",
    "    if i % 43 == 0:\n",
    "        input()"
   ]
  },
  {
   "cell_type": "code",
   "execution_count": null,
   "metadata": {},
   "outputs": [],
   "source": []
  }
 ],
 "metadata": {
  "kernelspec": {
   "display_name": "Python 3",
   "language": "python",
   "name": "python3"
  },
  "language_info": {
   "file_extension": ".jl",
   "mimetype": "application/julia",
   "name": "julia",
   "version": "1.1.0"
  }
 },
 "nbformat": 4,
 "nbformat_minor": 4
}
