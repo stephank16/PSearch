{
 "cells": [
  {
   "cell_type": "markdown",
   "metadata": {},
   "source": [
    "# PID resolution example\n",
    "\n",
    "- **Dependencies**:\n",
    "   - xarray (optional, used just for data attribute inspection)\n",
    "   - PYHANDLE client \n",
    "        - code and installation: https://github.com/EUDAT-B2SAFE/PYHANDLE\n",
    "        - documentation: https://eudat-b2safe.github.io/PYHANDLE/\n",
    "    \n",
    "- **Content**:\n",
    "    - get tracking id from files\n",
    "    - resolve tracking id associated metadata\n",
    "    - get specific metadata items (e.g. replica, version and dataset relationships)"
   ]
  },
  {
   "cell_type": "code",
   "execution_count": 1,
   "metadata": {},
   "outputs": [],
   "source": [
    "import xarray as xr\n",
    "import os\n",
    "from glob import glob as glob\n",
    "from pathlib import Path, PureWindowsPath"
   ]
  },
  {
   "cell_type": "markdown",
   "metadata": {},
   "source": [
    "### Open CMIP6 test file with tracking_id global attribute"
   ]
  },
  {
   "cell_type": "code",
   "execution_count": 2,
   "metadata": {},
   "outputs": [],
   "source": [
    "prefix = '/run/media/stephan/Volume/data/tas'\n",
    "access_tas_file = os.path.join(prefix,'tas_Amon_GFDL-CM4_piControl_r1i1p1f1_gr1_015101-025012.nc')\n",
    "#other_tas_file = os.path.join(prefix,\"tas_Amon_CESM2_piControl_r1i1p1f1_gn_000101-009912.nc\")\n",
    "dset = xr.open_dataset(access_tas_file, decode_times=True)\n",
    "#dset2 = xr.open_dataset(other_tas_file,decode_times=True)"
   ]
  },
  {
   "cell_type": "code",
   "execution_count": 3,
   "metadata": {},
   "outputs": [
    {
     "data": {
      "text/plain": [
       "'hdl:21.14100/7ba3c844-8001-404b-b3df-7e5b680b4000'"
      ]
     },
     "execution_count": 3,
     "metadata": {},
     "output_type": "execute_result"
    }
   ],
   "source": [
    "#dset.attrs\n",
    "dset.attrs['tracking_id']"
   ]
  },
  {
   "cell_type": "code",
   "execution_count": 4,
   "metadata": {},
   "outputs": [
    {
     "name": "stdout",
     "output_type": "stream",
     "text": [
      "21.14100/7ba3c844-8001-404b-b3df-7e5b680b4000\n"
     ]
    }
   ],
   "source": [
    "tracking_id = dset.tracking_id.split(':')[1]\n",
    "print(tracking_id)"
   ]
  },
  {
   "cell_type": "markdown",
   "metadata": {},
   "source": [
    "### Use PyHandle Client to retrieve tracking_id associated metadata"
   ]
  },
  {
   "cell_type": "code",
   "execution_count": 5,
   "metadata": {},
   "outputs": [
    {
     "name": "stderr",
     "output_type": "stream",
     "text": [
      "INFO:pyhandle.client.resthandleclient:Instantiating RESTHandleClient at 2019-06-28_15:16\n",
      "INFO:pyhandle.handlesystemconnector:Instantiating HandleSystemConnector\n",
      "INFO:pyhandle.handlesystemconnector: - handle_server_url set to default: https://hdl.handle.net\n",
      "INFO:pyhandle.handlesystemconnector: - url_extension_REST_API set to default: /api/handles/\n",
      "INFO:pyhandle.handlesystemconnector: - https_verify set to default: True\n",
      "INFO:pyhandle.searcher:Instantiating Searcher\n",
      "INFO:pyhandle.searcher: - https_verify set to default: True\n",
      "INFO:pyhandle.searcher: - allowed_search_keys set to default: ['URL', 'CHECKSUM']\n",
      "INFO:pyhandle.searcher: - solrbaseurl: No default.\n",
      "INFO:pyhandle.searcher: - reverselookup_url_extension set to default: /hrls/handles/\n",
      "INFO:pyhandle.searcher: - reverselookup_username: Not specified. No default.\n",
      "INFO:pyhandle.searcher: - reverselookup_password: Not specified. No default.\n",
      "INFO:pyhandle.searcher:Reverse lookup not possible. Neither username nor password were provided.\n",
      "INFO:pyhandle.searcher:Reverse lookup not possible. No URL for reverse lookup provided.\n",
      "INFO:pyhandle.client.resthandleclient: - HS_ADMIN_permissions set to default: 011111110011\n",
      "INFO:pyhandle.client.resthandleclient: - modify_HS_ADMIN set to default: False\n",
      "INFO:pyhandle.client.resthandleclient: - handleowner: Will be set to default for each created handle separately.\n"
     ]
    }
   ],
   "source": [
    "from pyhandle.handleclient import PyHandleClient\n",
    "client = PyHandleClient('rest')"
   ]
  },
  {
   "cell_type": "markdown",
   "metadata": {},
   "source": [
    "### Looking into the json metadata record"
   ]
  },
  {
   "cell_type": "code",
   "execution_count": 6,
   "metadata": {},
   "outputs": [
    {
     "name": "stdout",
     "output_type": "stream",
     "text": [
      "Metadata entry types supported:\n",
      "URL\n",
      "AGGREGATION_LEVEL\n",
      "FIXED_CONTENT\n",
      "FILE_NAME\n",
      "FILE_SIZE\n",
      "IS_PART_OF\n",
      "FILE_VERSION\n",
      "CHECKSUM\n",
      "CHECKSUM_METHOD\n",
      "URL_ORIGINAL_DATA\n",
      "URL_REPLICA\n",
      "HS_ADMIN\n"
     ]
    }
   ],
   "source": [
    "from pprint import pprint\n",
    "\n",
    "result = client.retrieve_handle_record_json(tracking_id)\n",
    "info_types = ['FILE_SIZE', 'CHECKSUM','URL_ORIGINAL_DATA','URL_REPLICA','IS_PART_OF']\n",
    "\n",
    "# print metadata entry types and get specific type related entries\n",
    "print(\"Metadata entry types supported:\")\n",
    "res = {}\n",
    "for entry in result['values']:\n",
    "    print(entry['type'])\n",
    "    if entry['type'] in info_types:\n",
    "        res[entry['type']] = entry['data']['value'] "
   ]
  },
  {
   "cell_type": "code",
   "execution_count": 7,
   "metadata": {},
   "outputs": [
    {
     "name": "stdout",
     "output_type": "stream",
     "text": [
      "{'CHECKSUM': '81b93009445bb962c0df852e9ae3a637719fb4a070790def2dd388e2ec9af427',\n",
      " 'FILE_SIZE': '139975118',\n",
      " 'IS_PART_OF': 'hdl:21.14100/c6dd2530-655c-33be-b03c-7c981bcf704b',\n",
      " 'URL_ORIGINAL_DATA': '<locations><location '\n",
      "                      'href=\"http://esgdata.gfdl.noaa.gov/thredds/fileServer/gfdl_dataroot3/CMIP/NOAA-GFDL/GFDL-CM4/piControl/r1i1p1f1/Amon/tas/gr1/v20180701/tas_Amon_GFDL-CM4_piControl_r1i1p1f1_gr1_015101-025012.nc\" '\n",
      "                      'publishedOn=\"2018-10-04T18:12:27.152+00:00\" '\n",
      "                      'host=\"esgdata.gfdl.noaa.gov\" '\n",
      "                      'dataset=\"hdl:21.14100/c6dd2530-655c-33be-b03c-7c981bcf704b\" '\n",
      "                      '/></locations>',\n",
      " 'URL_REPLICA': '<locations><location '\n",
      "                'href=\"http://esgf-data3.ceda.ac.uk/thredds/fileServer/esg_cmip6/CMIP6/CMIP/NOAA-GFDL/GFDL-CM4/piControl/r1i1p1f1/Amon/tas/gr1/v20180701/tas_Amon_GFDL-CM4_piControl_r1i1p1f1_gr1_015101-025012.nc\" '\n",
      "                'publishedOn=\"2019-03-13T16:56:48.187+00:00\" '\n",
      "                'host=\"esgf-data3.ceda.ac.uk\" '\n",
      "                'dataset=\"hdl:21.14100/c6dd2530-655c-33be-b03c-7c981bcf704b\" '\n",
      "                '/><location '\n",
      "                'href=\"http://aims3.llnl.gov/thredds/fileServer/css03_data/CMIP6/CMIP/NOAA-GFDL/GFDL-CM4/piControl/r1i1p1f1/Amon/tas/gr1/v20180701/tas_Amon_GFDL-CM4_piControl_r1i1p1f1_gr1_015101-025012.nc\" '\n",
      "                'publishedOn=\"2019-03-19T13:19:59.546+00:00\" '\n",
      "                'host=\"aims3.llnl.gov\" '\n",
      "                'dataset=\"hdl:21.14100/c6dd2530-655c-33be-b03c-7c981bcf704b\" '\n",
      "                '/><location '\n",
      "                'href=\"http://esgf.nci.org.au/thredds/fileServer/replica/CMIP6/CMIP/NOAA-GFDL/GFDL-CM4/piControl/r1i1p1f1/Amon/tas/gr1/v20180701/tas_Amon_GFDL-CM4_piControl_r1i1p1f1_gr1_015101-025012.nc\" '\n",
      "                'publishedOn=\"2019-04-01T15:10:15.314+00:00\" '\n",
      "                'host=\"esgf.nci.org.au\" '\n",
      "                'dataset=\"hdl:21.14100/c6dd2530-655c-33be-b03c-7c981bcf704b\" '\n",
      "                '/></locations>'}\n"
     ]
    }
   ],
   "source": [
    "# print retrieved metadata\n",
    "pprint(res) "
   ]
  },
  {
   "cell_type": "markdown",
   "metadata": {},
   "source": [
    "### Using the get_value_from_handle method to retrieve specific handle metadata entries"
   ]
  },
  {
   "cell_type": "code",
   "execution_count": 8,
   "metadata": {},
   "outputs": [
    {
     "name": "stdout",
     "output_type": "stream",
     "text": [
      "FILE_SIZE  : 139975118\n",
      "CHECKSUM  : 81b93009445bb962c0df852e9ae3a637719fb4a070790def2dd388e2ec9af427\n",
      "URL_ORIGINAL_DATA  : <locations><location href=\"http://esgdata.gfdl.noaa.gov/thredds/fileServer/gfdl_dataroot3/CMIP/NOAA-GFDL/GFDL-CM4/piControl/r1i1p1f1/Amon/tas/gr1/v20180701/tas_Amon_GFDL-CM4_piControl_r1i1p1f1_gr1_015101-025012.nc\" publishedOn=\"2018-10-04T18:12:27.152+00:00\" host=\"esgdata.gfdl.noaa.gov\" dataset=\"hdl:21.14100/c6dd2530-655c-33be-b03c-7c981bcf704b\" /></locations>\n",
      "URL_REPLICA  : <locations><location href=\"http://esgf-data3.ceda.ac.uk/thredds/fileServer/esg_cmip6/CMIP6/CMIP/NOAA-GFDL/GFDL-CM4/piControl/r1i1p1f1/Amon/tas/gr1/v20180701/tas_Amon_GFDL-CM4_piControl_r1i1p1f1_gr1_015101-025012.nc\" publishedOn=\"2019-03-13T16:56:48.187+00:00\" host=\"esgf-data3.ceda.ac.uk\" dataset=\"hdl:21.14100/c6dd2530-655c-33be-b03c-7c981bcf704b\" /><location href=\"http://aims3.llnl.gov/thredds/fileServer/css03_data/CMIP6/CMIP/NOAA-GFDL/GFDL-CM4/piControl/r1i1p1f1/Amon/tas/gr1/v20180701/tas_Amon_GFDL-CM4_piControl_r1i1p1f1_gr1_015101-025012.nc\" publishedOn=\"2019-03-19T13:19:59.546+00:00\" host=\"aims3.llnl.gov\" dataset=\"hdl:21.14100/c6dd2530-655c-33be-b03c-7c981bcf704b\" /><location href=\"http://esgf.nci.org.au/thredds/fileServer/replica/CMIP6/CMIP/NOAA-GFDL/GFDL-CM4/piControl/r1i1p1f1/Amon/tas/gr1/v20180701/tas_Amon_GFDL-CM4_piControl_r1i1p1f1_gr1_015101-025012.nc\" publishedOn=\"2019-04-01T15:10:15.314+00:00\" host=\"esgf.nci.org.au\" dataset=\"hdl:21.14100/c6dd2530-655c-33be-b03c-7c981bcf704b\" /></locations>\n",
      "IS_PART_OF  : hdl:21.14100/c6dd2530-655c-33be-b03c-7c981bcf704b\n"
     ]
    }
   ],
   "source": [
    "for info_type in info_types:   \n",
    "  result = client.get_value_from_handle(tracking_id, info_type)\n",
    "  print(info_type, \" :\", result)"
   ]
  },
  {
   "cell_type": "code",
   "execution_count": 9,
   "metadata": {},
   "outputs": [
    {
     "name": "stdout",
     "output_type": "stream",
     "text": [
      "{'handle': '21.14100/c6dd2530-655c-33be-b03c-7c981bcf704b',\n",
      " 'responseCode': 1,\n",
      " 'values': [{'data': {'format': 'string',\n",
      "                      'value': 'https://handle-esgf.dkrz.de/lp/21.14100/c6dd2530-655c-33be-b03c-7c981bcf704b'},\n",
      "             'index': 1,\n",
      "             'timestamp': '2018-10-04T18:12:30Z',\n",
      "             'ttl': 86400,\n",
      "             'type': 'URL'},\n",
      "            {'data': {'format': 'string', 'value': 'DATASET'},\n",
      "             'index': 2,\n",
      "             'timestamp': '2018-10-04T18:12:30Z',\n",
      "             'ttl': 86400,\n",
      "             'type': 'AGGREGATION_LEVEL'},\n",
      "            {'data': {'format': 'string', 'value': 'TRUE'},\n",
      "             'index': 3,\n",
      "             'timestamp': '2018-10-04T18:12:30Z',\n",
      "             'ttl': 86400,\n",
      "             'type': 'FIXED_CONTENT'},\n",
      "            {'data': {'format': 'string',\n",
      "                      'value': 'CMIP6.CMIP.NOAA-GFDL.GFDL-CM4.piControl.r1i1p1f1.Amon.tas.gr1'},\n",
      "             'index': 4,\n",
      "             'timestamp': '2018-10-04T18:12:30Z',\n",
      "             'ttl': 86400,\n",
      "             'type': 'DRS_ID'},\n",
      "            {'data': {'format': 'string',\n",
      "                      'value': 'hdl:21.14100/970aa0b5-8681-4332-a1eb-78819c857ad3;hdl:21.14100/f3913786-b069-4461-8a17-65a7140a3b6e;hdl:21.14100/7ba3c844-8001-404b-b3df-7e5b680b4000;hdl:21.14100/c2669cfe-c044-4a86-a1e3-7526466bf145;hdl:21.14100/3d94e779-32af-4f9f-b0b3-2cb494ca890c'},\n",
      "             'index': 5,\n",
      "             'timestamp': '2018-10-04T18:12:30Z',\n",
      "             'ttl': 86400,\n",
      "             'type': 'HAS_PARTS'},\n",
      "            {'data': {'format': 'string', 'value': '20180701'},\n",
      "             'index': 6,\n",
      "             'timestamp': '2018-10-04T18:12:30Z',\n",
      "             'ttl': 86400,\n",
      "             'type': 'VERSION_NUMBER'},\n",
      "            {'data': {'format': 'string',\n",
      "                      'value': '<locations><location '\n",
      "                               'publishedOn=\"2018-10-04T18:12:27.152+00:00\" '\n",
      "                               'host=\"esgdata.gfdl.noaa.gov\" /></locations>'},\n",
      "             'index': 7,\n",
      "             'timestamp': '2018-10-04T18:12:30Z',\n",
      "             'ttl': 86400,\n",
      "             'type': 'HOSTING_NODE'},\n",
      "            {'data': {'format': 'string',\n",
      "                      'value': '<locations><location '\n",
      "                               'publishedOn=\"2019-03-13T16:56:48.187+00:00\" '\n",
      "                               'host=\"esgf-data3.ceda.ac.uk\" /><location '\n",
      "                               'publishedOn=\"2019-03-19T13:19:59.546+00:00\" '\n",
      "                               'host=\"aims3.llnl.gov\" /><location '\n",
      "                               'publishedOn=\"2019-04-01T15:10:15.314+00:00\" '\n",
      "                               'host=\"esgf.nci.org.au\" /></locations>'},\n",
      "             'index': 8,\n",
      "             'timestamp': '2019-04-01T15:10:20Z',\n",
      "             'ttl': 86400,\n",
      "             'type': 'REPLICA_NODE'},\n",
      "            {'data': {'format': 'string',\n",
      "                      'value': 'hdl:21.14100/eaf68f3f-21de-318e-ab64-3937d631cf70'},\n",
      "             'index': 9,\n",
      "             'timestamp': '2019-03-13T17:09:41Z',\n",
      "             'ttl': 86400,\n",
      "             'type': 'REPLACED_BY'},\n",
      "            {'data': {'format': 'string',\n",
      "                      'value': 'b6302400-3620-c8f1-999b-d192c0349084'},\n",
      "             'index': 10,\n",
      "             'timestamp': '2019-05-29T21:35:02Z',\n",
      "             'ttl': 86400,\n",
      "             'type': 'ERRATA_IDS'},\n",
      "            {'data': {'format': 'string',\n",
      "                      'value': 'b6302400-3620-c8f1-999b-d192c0349084###2019-05-29T21:35:02.653+00:00'},\n",
      "             'index': 11,\n",
      "             'timestamp': '2019-05-29T21:35:02Z',\n",
      "             'ttl': 86400,\n",
      "             'type': '_ADDED_ERRATA_IDS'},\n",
      "            {'data': {'format': 'admin',\n",
      "                      'value': {'handle': '21.14100/ADMINLIST',\n",
      "                                'index': 200,\n",
      "                                'permissions': '111111111111'}},\n",
      "             'index': 100,\n",
      "             'timestamp': '2018-10-04T18:12:30Z',\n",
      "             'ttl': 86400,\n",
      "             'type': 'HS_ADMIN'}]}\n"
     ]
    }
   ],
   "source": [
    "# get metadata of the containing dataset\n",
    "resultm = client.retrieve_handle_record_json(res['IS_PART_OF'].split(':')[1])\n",
    "pprint(resultm)"
   ]
  },
  {
   "cell_type": "code",
   "execution_count": null,
   "metadata": {},
   "outputs": [],
   "source": []
  }
 ],
 "metadata": {
  "kernelspec": {
   "display_name": "Python 3",
   "language": "python",
   "name": "python3"
  },
  "language_info": {
   "codemirror_mode": {
    "name": "ipython",
    "version": 3
   },
   "file_extension": ".py",
   "mimetype": "text/x-python",
   "name": "python",
   "nbconvert_exporter": "python",
   "pygments_lexer": "ipython3",
   "version": "3.6.7"
  }
 },
 "nbformat": 4,
 "nbformat_minor": 2
}
