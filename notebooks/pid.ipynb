{
 "cells": [
  {
   "cell_type": "markdown",
   "metadata": {},
   "source": [
    "# PID resolution example"
   ]
  },
  {
   "cell_type": "code",
   "execution_count": 1,
   "metadata": {},
   "outputs": [],
   "source": [
    "import numpy as np\n",
    "import matplotlib.pyplot as plt\n",
    "import xarray as xr\n",
    "import cartopy.crs as ccrs\n",
    "#import iris\n",
    "#import iris.plot as iplt\n",
    "#import iris.quickplot as qplt\n",
    "#import iris.analysis.cartography\n",
    "\n",
    "#set path to data \n",
    "import os\n",
    "from glob import glob as glob\n",
    "from pathlib import Path, PureWindowsPath\n",
    "prefix = '/media/stephan/Volume/data/tas'"
   ]
  },
  {
   "cell_type": "code",
   "execution_count": 2,
   "metadata": {},
   "outputs": [
    {
     "name": "stderr",
     "output_type": "stream",
     "text": [
      "/home/stephan/anaconda3/lib/python3.6/site-packages/xarray/conventions.py:401: SerializationWarning: variable 'tas' has multiple fill values {1e+20, 1e+20}, decoding all values to NaN.\n",
      "  stack_char_dim=stack_char_dim, use_cftime=use_cftime)\n"
     ]
    }
   ],
   "source": [
    "access_tas_file = os.path.join(prefix,'tas_Amon_GFDL-CM4_piControl_r1i1p1f1_gr1_015101-025012.nc')\n",
    "other_tas_file = os.path.join(prefix,\"tas_Amon_CESM2_piControl_r1i1p1f1_gn_000101-009912.nc\")\n",
    "dset = xr.open_dataset(access_tas_file, decode_times=True)\n",
    "dset2 = xr.open_dataset(other_tas_file,decode_times=True)"
   ]
  },
  {
   "cell_type": "code",
   "execution_count": 24,
   "metadata": {},
   "outputs": [
    {
     "data": {
      "text/plain": [
       "OrderedDict([('external_variables', 'areacella'),\n",
       "             ('table_id', 'Amon'),\n",
       "             ('history',\n",
       "              'File was processed by fremetar (GFDL analog of CMOR). TripleID: [exper_id_h00qmi1FiU,realiz_id_TqObYMN1oJ,run_id_HIk9ZMnWD2]'),\n",
       "             ('contact', 'gfdl.climate.model.info@noaa.gov'),\n",
       "             ('comment', '<null ref>'),\n",
       "             ('tracking_id',\n",
       "              'hdl:21.14100/7ba3c844-8001-404b-b3df-7e5b680b4000'),\n",
       "             ('further_info_url',\n",
       "              'https://furtherinfo.es-doc.org/CMIP6.NOAA-GFDL.GFDL-CM4.piControl.none.r1i1p1f1'),\n",
       "             ('branch_time_in_child', 0.0),\n",
       "             ('branch_method', 'standard'),\n",
       "             ('branch_time_in_parent', 54750.0),\n",
       "             ('creation_date', '2018-09-13T23:14:27Z'),\n",
       "             ('Conventions', 'CF-1.7 CMIP-6.0 UGRID-1.0'),\n",
       "             ('sub_experiment', 'none'),\n",
       "             ('frequency', 'monC'),\n",
       "             ('forcing_index', 1),\n",
       "             ('physics_index', 1),\n",
       "             ('initialization_index', 1),\n",
       "             ('realization_index', 1),\n",
       "             ('parent_variant_label', 'r1i1p1f1'),\n",
       "             ('parent_experiment_id', 'piControl-spinup'),\n",
       "             ('data_specs_version', '01.00.27'),\n",
       "             ('experiment_id', 'piControl'),\n",
       "             ('experiment', 'pre-industrial control'),\n",
       "             ('activity_id', 'CMIP'),\n",
       "             ('source_id', 'GFDL-CM4'),\n",
       "             ('source_type', 'AOGCM'),\n",
       "             ('institution_id', 'NOAA-GFDL'),\n",
       "             ('institution',\n",
       "              'National Oceanic and Atmospheric Administration, Geophysical Fluid Dynamics Laboratory, Princeton, NJ 08540, USA'),\n",
       "             ('variable_id', 'tas'),\n",
       "             ('variant_info', 'N/A'),\n",
       "             ('mip_era', 'CMIP6'),\n",
       "             ('title',\n",
       "              'NOAA GFDL GFDL-CM4 model output prepared for CMIP6 pre-industrial control'),\n",
       "             ('source',\n",
       "              'GFDL-CM4 (2018): \\naerosol: interactive\\natmos: GFDL-AM4.0.1 (Cubed-sphere (c96) - 1 degree nominal horizontal resolution; 360 x 180 longitude/latitude; 33 levels; top level 1 hPa)\\natmosChem: fast chemistry, aerosol only\\nland: GFDL-LM4.0.1 (1 degree nominal horizontal resolution; 360 x 180 longitude/latitude; 20 levels; bot level 10m); land:Veg:unnamed (dynamic vegetation, dynamic land use); land:Hydro:unnamed (soil water and ice, multi-layer snow, rivers and lakes)\\nlandIce: GFDL-LM4.0.1\\nocean: GFDL-OM4p25 (GFDL-MOM6, tripolar - nominal 0.25 deg; 1440 x 1080 longitude/latitude; 75 levels; top grid cell 0-2 m)\\nocnBgchem: GFDL-BLINGv2\\nseaIce: GFDL-SIM4p25 (GFDL-SIS2.0, tripolar - nominal 0.25 deg; 1440 x 1080 longitude/latitude; 5 layers; 5 thickness categories)\\n(GFDL ID: 2018_0530)'),\n",
       "             ('parent_activity_id', 'CMIP'),\n",
       "             ('parent_mip_era', 'CMIP6'),\n",
       "             ('parent_source_id', 'GFDL-CM4'),\n",
       "             ('parent_time_units', 'days since 1700-1-1'),\n",
       "             ('sub_experiment_id', 'none'),\n",
       "             ('grid',\n",
       "              'atmos data regridded from Cubed-sphere (c96) to 180,288; interpolation method: conserve_order2'),\n",
       "             ('variant_label', 'r1i1p1f1'),\n",
       "             ('grid_label', 'gr1'),\n",
       "             ('license',\n",
       "              'CMIP6 model data produced by NOAA-GFDL is licensed under a Creative Commons Attribution-ShareAlike 4.0 International License (https://creativecommons.org/licenses/). Consult https://pcmdi.llnl.gov/CMIP6/TermsOfUse for terms of use governing CMIP6 output, including citation requirements and proper acknowledgment. Further information about this data, including some limitations, can be found via the further_info_url (recorded as a global attribute in this file). The data producers and data providers make no warranty, either express or implied, including, but not limited to, warranties of merchantability and fitness for a particular purpose. All liabilities arising from the supply of the information (including any liability arising in negligence) are excluded to the fullest extent permitted by law.'),\n",
       "             ('nominal_resolution', '100 km'),\n",
       "             ('product', 'model-output'),\n",
       "             ('realm', 'atmos'),\n",
       "             ('references', 'see further_info_url attribute')])"
      ]
     },
     "execution_count": 24,
     "metadata": {},
     "output_type": "execute_result"
    }
   ],
   "source": [
    "dset.attrs\n",
    "#dset.attrs['contact']"
   ]
  },
  {
   "cell_type": "code",
   "execution_count": 3,
   "metadata": {},
   "outputs": [
    {
     "name": "stdout",
     "output_type": "stream",
     "text": [
      "21.14100/7ba3c844-8001-404b-b3df-7e5b680b4000\n"
     ]
    }
   ],
   "source": [
    "tracking_id = dset.tracking_id.split(':')[1]\n",
    "print(tracking_id)\n"
   ]
  },
  {
   "cell_type": "code",
   "execution_count": 4,
   "metadata": {},
   "outputs": [
    {
     "name": "stdout",
     "output_type": "stream",
     "text": [
      "hdl:21.14100/7ba3c844-8001-404b-b3df-7e5b680b4000\n"
     ]
    }
   ],
   "source": [
    "tr_id = dset.tracking_id\n",
    "print(tr_id)"
   ]
  },
  {
   "cell_type": "code",
   "execution_count": 5,
   "metadata": {},
   "outputs": [
    {
     "name": "stderr",
     "output_type": "stream",
     "text": [
      "INFO:pyhandle.client.resthandleclient:Instantiating RESTHandleClient at 2019-05-21_22:22\n",
      "INFO:pyhandle.handlesystemconnector:Instantiating HandleSystemConnector\n",
      "INFO:pyhandle.handlesystemconnector: - handle_server_url set to default: https://hdl.handle.net\n",
      "INFO:pyhandle.handlesystemconnector: - url_extension_REST_API set to default: /api/handles/\n",
      "INFO:pyhandle.handlesystemconnector: - https_verify set to default: True\n",
      "INFO:pyhandle.searcher:Instantiating Searcher\n",
      "INFO:pyhandle.searcher: - https_verify set to default: True\n",
      "INFO:pyhandle.searcher: - allowed_search_keys set to default: ['URL', 'CHECKSUM']\n",
      "INFO:pyhandle.searcher: - solrbaseurl: No default.\n",
      "INFO:pyhandle.searcher: - reverselookup_url_extension set to default: /hrls/handles/\n",
      "INFO:pyhandle.searcher: - reverselookup_username: Not specified. No default.\n",
      "INFO:pyhandle.searcher: - reverselookup_password: Not specified. No default.\n",
      "INFO:pyhandle.searcher:Reverse lookup not possible. Neither username nor password were provided.\n",
      "INFO:pyhandle.searcher:Reverse lookup not possible. No URL for reverse lookup provided.\n",
      "INFO:pyhandle.client.resthandleclient: - HS_ADMIN_permissions set to default: 011111110011\n",
      "INFO:pyhandle.client.resthandleclient: - modify_HS_ADMIN set to default: False\n",
      "INFO:pyhandle.client.resthandleclient: - handleowner: Will be set to default for each created handle separately.\n"
     ]
    }
   ],
   "source": [
    "from pyhandle.handleclient import PyHandleClient\n",
    "client = PyHandleClient('rest')"
   ]
  },
  {
   "cell_type": "code",
   "execution_count": 13,
   "metadata": {},
   "outputs": [
    {
     "data": {
      "text/plain": [
       "{'FILE_SIZE': '139975118',\n",
       " 'IS_PART_OF': 'hdl:21.14100/c6dd2530-655c-33be-b03c-7c981bcf704b',\n",
       " 'CHECKSUM': '81b93009445bb962c0df852e9ae3a637719fb4a070790def2dd388e2ec9af427',\n",
       " 'URL_ORIGINAL_DATA': '<locations><location href=\"http://esgdata.gfdl.noaa.gov/thredds/fileServer/gfdl_dataroot3/CMIP/NOAA-GFDL/GFDL-CM4/piControl/r1i1p1f1/Amon/tas/gr1/v20180701/tas_Amon_GFDL-CM4_piControl_r1i1p1f1_gr1_015101-025012.nc\" publishedOn=\"2018-10-04T18:12:27.152+00:00\" host=\"esgdata.gfdl.noaa.gov\" dataset=\"hdl:21.14100/c6dd2530-655c-33be-b03c-7c981bcf704b\" /></locations>',\n",
       " 'URL_REPLICA': '<locations><location href=\"http://esgf-data3.ceda.ac.uk/thredds/fileServer/esg_cmip6/CMIP6/CMIP/NOAA-GFDL/GFDL-CM4/piControl/r1i1p1f1/Amon/tas/gr1/v20180701/tas_Amon_GFDL-CM4_piControl_r1i1p1f1_gr1_015101-025012.nc\" publishedOn=\"2019-03-13T16:56:48.187+00:00\" host=\"esgf-data3.ceda.ac.uk\" dataset=\"hdl:21.14100/c6dd2530-655c-33be-b03c-7c981bcf704b\" /><location href=\"http://aims3.llnl.gov/thredds/fileServer/css03_data/CMIP6/CMIP/NOAA-GFDL/GFDL-CM4/piControl/r1i1p1f1/Amon/tas/gr1/v20180701/tas_Amon_GFDL-CM4_piControl_r1i1p1f1_gr1_015101-025012.nc\" publishedOn=\"2019-03-19T13:19:59.546+00:00\" host=\"aims3.llnl.gov\" dataset=\"hdl:21.14100/c6dd2530-655c-33be-b03c-7c981bcf704b\" /><location href=\"http://esgf.nci.org.au/thredds/fileServer/replica/CMIP6/CMIP/NOAA-GFDL/GFDL-CM4/piControl/r1i1p1f1/Amon/tas/gr1/v20180701/tas_Amon_GFDL-CM4_piControl_r1i1p1f1_gr1_015101-025012.nc\" publishedOn=\"2019-04-01T15:10:15.314+00:00\" host=\"esgf.nci.org.au\" dataset=\"hdl:21.14100/c6dd2530-655c-33be-b03c-7c981bcf704b\" /></locations>'}"
      ]
     },
     "execution_count": 13,
     "metadata": {},
     "output_type": "execute_result"
    }
   ],
   "source": [
    "from pprint import pprint\n",
    "\n",
    "result = client.retrieve_handle_record_json(tracking_id)\n",
    "#pprint(result)\n",
    "#pprint(result['values'][3]['data']['value'])\n",
    "\n",
    "res = {}\n",
    "for entry in result['values']:\n",
    "    if entry['type'] in ['FILE_SIZE', 'CHECKSUM','URL_ORIGINAL_DATA','URL_REPLICA','IS_PART_OF']:\n",
    "        res[entry['type']] = entry['data']['value']\n",
    "res   "
   ]
  },
  {
   "cell_type": "code",
   "execution_count": 14,
   "metadata": {},
   "outputs": [
    {
     "name": "stdout",
     "output_type": "stream",
     "text": [
      "None\n",
      "hdl:21.14100/c6dd2530-655c-33be-b03c-7c981bcf704b\n"
     ]
    }
   ],
   "source": [
    "result1 = client.get_value_from_handle(tracking_id, '2018-10-04T18:12:30Z')\n",
    "#result1 = client.get_value_from_handle(tracking_id, 'FILE_NAME')\n",
    "result2 = client.get_value_from_handle(tracking_id, 'IS_PART_OF')\n",
    "print(result1)\n",
    "print(result2)"
   ]
  },
  {
   "cell_type": "code",
   "execution_count": 18,
   "metadata": {},
   "outputs": [
    {
     "name": "stdout",
     "output_type": "stream",
     "text": [
      "{'handle': '21.14100/c6dd2530-655c-33be-b03c-7c981bcf704b',\n",
      " 'responseCode': 1,\n",
      " 'values': [{'data': {'format': 'string',\n",
      "                      'value': 'https://handle-esgf.dkrz.de/lp/21.14100/c6dd2530-655c-33be-b03c-7c981bcf704b'},\n",
      "             'index': 1,\n",
      "             'timestamp': '2018-10-04T18:12:30Z',\n",
      "             'ttl': 86400,\n",
      "             'type': 'URL'},\n",
      "            {'data': {'format': 'string', 'value': 'DATASET'},\n",
      "             'index': 2,\n",
      "             'timestamp': '2018-10-04T18:12:30Z',\n",
      "             'ttl': 86400,\n",
      "             'type': 'AGGREGATION_LEVEL'},\n",
      "            {'data': {'format': 'string', 'value': 'TRUE'},\n",
      "             'index': 3,\n",
      "             'timestamp': '2018-10-04T18:12:30Z',\n",
      "             'ttl': 86400,\n",
      "             'type': 'FIXED_CONTENT'},\n",
      "            {'data': {'format': 'string',\n",
      "                      'value': 'CMIP6.CMIP.NOAA-GFDL.GFDL-CM4.piControl.r1i1p1f1.Amon.tas.gr1'},\n",
      "             'index': 4,\n",
      "             'timestamp': '2018-10-04T18:12:30Z',\n",
      "             'ttl': 86400,\n",
      "             'type': 'DRS_ID'},\n",
      "            {'data': {'format': 'string',\n",
      "                      'value': 'hdl:21.14100/970aa0b5-8681-4332-a1eb-78819c857ad3;hdl:21.14100/f3913786-b069-4461-8a17-65a7140a3b6e;hdl:21.14100/7ba3c844-8001-404b-b3df-7e5b680b4000;hdl:21.14100/c2669cfe-c044-4a86-a1e3-7526466bf145;hdl:21.14100/3d94e779-32af-4f9f-b0b3-2cb494ca890c'},\n",
      "             'index': 5,\n",
      "             'timestamp': '2018-10-04T18:12:30Z',\n",
      "             'ttl': 86400,\n",
      "             'type': 'HAS_PARTS'},\n",
      "            {'data': {'format': 'string', 'value': '20180701'},\n",
      "             'index': 6,\n",
      "             'timestamp': '2018-10-04T18:12:30Z',\n",
      "             'ttl': 86400,\n",
      "             'type': 'VERSION_NUMBER'},\n",
      "            {'data': {'format': 'string',\n",
      "                      'value': '<locations><location '\n",
      "                               'publishedOn=\"2018-10-04T18:12:27.152+00:00\" '\n",
      "                               'host=\"esgdata.gfdl.noaa.gov\" /></locations>'},\n",
      "             'index': 7,\n",
      "             'timestamp': '2018-10-04T18:12:30Z',\n",
      "             'ttl': 86400,\n",
      "             'type': 'HOSTING_NODE'},\n",
      "            {'data': {'format': 'string',\n",
      "                      'value': '<locations><location '\n",
      "                               'publishedOn=\"2019-03-13T16:56:48.187+00:00\" '\n",
      "                               'host=\"esgf-data3.ceda.ac.uk\" /><location '\n",
      "                               'publishedOn=\"2019-03-19T13:19:59.546+00:00\" '\n",
      "                               'host=\"aims3.llnl.gov\" /><location '\n",
      "                               'publishedOn=\"2019-04-01T15:10:15.314+00:00\" '\n",
      "                               'host=\"esgf.nci.org.au\" /></locations>'},\n",
      "             'index': 8,\n",
      "             'timestamp': '2019-04-01T15:10:20Z',\n",
      "             'ttl': 86400,\n",
      "             'type': 'REPLICA_NODE'},\n",
      "            {'data': {'format': 'string',\n",
      "                      'value': 'hdl:21.14100/eaf68f3f-21de-318e-ab64-3937d631cf70'},\n",
      "             'index': 9,\n",
      "             'timestamp': '2019-03-13T17:09:41Z',\n",
      "             'ttl': 86400,\n",
      "             'type': 'REPLACED_BY'},\n",
      "            {'data': {'format': 'admin',\n",
      "                      'value': {'handle': '21.14100/ADMINLIST',\n",
      "                                'index': 200,\n",
      "                                'permissions': '111111111111'}},\n",
      "             'index': 100,\n",
      "             'timestamp': '2018-10-04T18:12:30Z',\n",
      "             'ttl': 86400,\n",
      "             'type': 'HS_ADMIN'}]}\n"
     ]
    }
   ],
   "source": [
    "resultm = client.retrieve_handle_record_json(res['IS_PART_OF'].split(':')[1])\n",
    "pprint(resultm)"
   ]
  },
  {
   "cell_type": "code",
   "execution_count": null,
   "metadata": {},
   "outputs": [],
   "source": [
    "- pyCAT: https://github.com/wegener-center/pyCAT  bias correction facilities for climate model data"
   ]
  }
 ],
 "metadata": {
  "kernelspec": {
   "display_name": "Python 3",
   "language": "python",
   "name": "python3"
  },
  "language_info": {
   "codemirror_mode": {
    "name": "ipython",
    "version": 3
   },
   "file_extension": ".py",
   "mimetype": "text/x-python",
   "name": "python",
   "nbconvert_exporter": "python",
   "pygments_lexer": "ipython3",
   "version": "3.6.8"
  }
 },
 "nbformat": 4,
 "nbformat_minor": 2
}
