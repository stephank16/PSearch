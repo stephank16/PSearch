{
 "cells": [
  {
   "cell_type": "code",
   "execution_count": 1,
   "metadata": {},
   "outputs": [
    {
     "data": {
      "text/plain": [
       "<Elasticsearch([{'host': '192.168.178.43', 'port': 9200}])>"
      ]
     },
     "execution_count": 1,
     "metadata": {},
     "output_type": "execute_result"
    }
   ],
   "source": [
    "from elasticsearch import Elasticsearch\n",
    "es = Elasticsearch([{'host': '192.168.178.43','port': 9200}])\n",
    "es"
   ]
  },
  {
   "cell_type": "code",
   "execution_count": 2,
   "metadata": {},
   "outputs": [
    {
     "name": "stdout",
     "output_type": "stream",
     "text": [
      "b'{\\n  \"name\" : \"nuc\",\\n  \"cluster_name\" : \"elasticsearch\",\\n  \"cluster_uuid\" : \"XaVn2UyNR0OD5ymUFyxvbw\",\\n  \"version\" : {\\n    \"number\" : \"7.1.1\",\\n    \"build_flavor\" : \"default\",\\n    \"build_type\" : \"tar\",\\n    \"build_hash\" : \"7a013de\",\\n    \"build_date\" : \"2019-05-23T14:04:00.380842Z\",\\n    \"build_snapshot\" : false,\\n    \"lucene_version\" : \"8.0.0\",\\n    \"minimum_wire_compatibility_version\" : \"6.8.0\",\\n    \"minimum_index_compatibility_version\" : \"6.0.0-beta1\"\\n  },\\n  \"tagline\" : \"You Know, for Search\"\\n}\\n'\n"
     ]
    }
   ],
   "source": [
    "import requests\n",
    "res = requests.get('http://nuc:9200')\n",
    "print(res.content)"
   ]
  },
  {
   "cell_type": "code",
   "execution_count": null,
   "metadata": {},
   "outputs": [],
   "source": [
    "import json\n",
    "r = requests.get('http://nuc:9200') \n",
    "i = 1\n",
    "while r.status_code == 200:\n",
    "    r = requests.get('http://swapi.co/api/people/'+ str(i))\n",
    "    es.index(index='sw', doc_type='people', id=i, body=json.loads(r.content))\n",
    "    i=i+1\n",
    " \n",
    "print(i)"
   ]
  },
  {
   "cell_type": "code",
   "execution_count": null,
   "metadata": {},
   "outputs": [],
   "source": [
    "e1={\n",
    "    \"file_name\":\"n_x_y_z\",\n",
    "    \"project\":\"CMIP6\",\n",
    "    \"size\": 27098,\n",
    "    \"pid\": \"a:alsjfalsjflsajf\",\n",
    "    \"collection\": ['n_x_y'],\n",
    "}"
   ]
  },
  {
   "cell_type": "code",
   "execution_count": null,
   "metadata": {},
   "outputs": [],
   "source": [
    "res = es.index(index='cmip6',doc_type='file',id=1,body=e1)"
   ]
  },
  {
   "cell_type": "code",
   "execution_count": null,
   "metadata": {},
   "outputs": [],
   "source": [
    "es.get(index='sw', doc_type='people', id=5)"
   ]
  },
  {
   "cell_type": "code",
   "execution_count": 5,
   "metadata": {},
   "outputs": [
    {
     "name": "stdout",
     "output_type": "stream",
     "text": [
      "=============================\n",
      "============================\n",
      "=============================\n",
      "============================\n",
      "=============================\n",
      "============================\n",
      "=============================\n",
      "============================\n",
      "=============================\n",
      "============================\n",
      "=============================\n",
      "============================\n",
      "=============================\n",
      "============================\n",
      "=============================\n",
      "============================\n",
      "=============================\n",
      "============================\n",
      "=============================\n",
      "============================\n",
      "=============================\n",
      "============================\n",
      "=============================\n",
      "============================\n",
      "=============================\n",
      "============================\n",
      "=============================\n",
      "============================\n",
      "=============================\n",
      "============================\n"
     ]
    }
   ],
   "source": [
    "#%%time\n",
    "import os\n",
    "import itertools\n",
    "import multiprocessing\n",
    "import xarray as xr\n",
    "from netCDF4 import Dataset\n",
    "\n",
    "ATTR = {}\n",
    "DIR_PATTERN = {}\n",
    "FILE_PATTERN = {}\n",
    "DIR_PATTERN['CMIP5']=['activity','product','institute','model','experiment','frequency','realm','variable','ensemble','lfile']\n",
    "FILE_PATTERN['CMIP5'] = ['variable','table','model','experiment','ensemble','time']\n",
    "DIR_PATTERN['CMIP6'] = ['mip_era','activity','institution','model','experiment','member','table','variable','grid','version','lfile']\n",
    "FILE_PATTERN['CMIP6'] = ['variable','table','model','experiment','member','grid','time']\n",
    "\n",
    "ATTR['CMIP6'] = ['tracking_id','contact']\n",
    "def match(proj,path,file):\n",
    "    p_dict = {}\n",
    "    f_dict = {}  \n",
    "    file_name = file.split('.')[0]\n",
    "    f_parts = file_name.split('_')\n",
    "    f_dict = dict(zip(FILE_PATTERN[proj],f_parts))\n",
    "    return f_dict\n",
    "  \n",
    "def get_md(type,proj,root,file):\n",
    "    ratts={}\n",
    "    path = os.path.join(root,file)\n",
    "    if type ==\"xarray\":      \n",
    "        data = xr.open_dataset(path, decode_times=False)\n",
    "        attrs = data.attrs\n",
    "        for key in ATTR[proj]:\n",
    "            ratts[key]=attrs[key]\n",
    "        data.close()    \n",
    "    if type ==\"netcdf4\":\n",
    "        data = Dataset(path,mode='r')\n",
    "        for key in ATTR[proj]:\n",
    "            ratts[key]=getattr(data,key)\n",
    "        data.close()    \n",
    "                \n",
    "    return(ratts)\n",
    "\n",
    "def worker(proj,root,dirs,files):\n",
    "    \n",
    "    tdict={}\n",
    "    for mfile in files: \n",
    "        tdict[mfile]={}\n",
    "        tdict[mfile] = match(proj,root,mfile)\n",
    "        tdict[mfile]['file_name']=mfile\n",
    "        tdict[mfile]['project']=proj\n",
    "        #ratts = get_md(\"netcdf4\",proj,root,mfile)\n",
    "        #for key,val in ratts.items():\n",
    "            #tdict[mfile][key]=val\n",
    "    if len(files)>0:\n",
    "        tdict[mfile]['dataset_id']=root \n",
    "        tt = tdict[mfile]['time'].split(\"-\")\n",
    "        tdict[mfile]['stime']=tt[0]\n",
    "        tdict[mfile]['etime']=tt[1]\n",
    "    return tdict\n",
    "        \n",
    "walk = os.walk(\"/run/media/stephan/Volume/data\")   \n",
    "\n",
    "for root,dirs,files in walk:\n",
    "    print(\"=============================\")\n",
    "    res = worker('CMIP6',root,dirs,files)   \n",
    "    # update elastic search\n",
    "    i = 0\n",
    "    for item,i_dict in res.items():\n",
    "        i+=1\n",
    "        res = es.index(index='cmip6',id=i,body=i_dict)\n",
    "    print(\"============================\")"
   ]
  },
  {
   "cell_type": "code",
   "execution_count": null,
   "metadata": {},
   "outputs": [],
   "source": [
    "res = es.get(index='cmip6',id=1)\n",
    "print(res)"
   ]
  },
  {
   "cell_type": "code",
   "execution_count": 43,
   "metadata": {},
   "outputs": [],
   "source": [
    "q_string = {\"query\": {\n",
    "               \"bool\": {\n",
    "                   \"must\": [\n",
    "                       {\"match\": {\"variable\": \"tas\"}},\n",
    "                       {\"match\": {\"model\":\"GFDL-CM4\"}},\n",
    "                       {\"match\": {\"time\":'015101-025012'}}\n",
    "                                  ]             \n",
    "                      }\n",
    "               }\n",
    "           }\n",
    "r_string = {\"query\": {\n",
    "               \"bool\": {\n",
    "                   \"must\": [\n",
    "                       {\"match\": {\"stime\": \"055101\"}},\n",
    "                       {\"match\": {\"model\":\"GFDL-CM4\"}}                   \n",
    "                                  ]             \n",
    "                      }\n",
    "               }\n",
    "           }\n",
    "\n",
    "r_string = {\"query\": {\n",
    "               \"bool\": {\n",
    "                   \"filter\": [\n",
    "                       {\"term\": {\"stime\":\"055101\"}}\n",
    "                   ]\n",
    "                      }\n",
    "               }\n",
    "           }\n",
    "\n",
    "t_string = {\"query\": {\n",
    "              \"filter\" : {\n",
    "                 \"term\" : { \"stime\": \"015101\"}\n",
    "                }\n",
    "            }}"
   ]
  },
  {
   "cell_type": "code",
   "execution_count": 44,
   "metadata": {},
   "outputs": [
    {
     "name": "stdout",
     "output_type": "stream",
     "text": [
      "[   {   '_id': '17',\n",
      "        '_index': 'cmip6',\n",
      "        '_score': 0.0,\n",
      "        '_source': {   'contact': 'gfdl.climate.model.info@noaa.gov',\n",
      "                       'dataset_id': '/run/media/stephan/Volume/data/tas',\n",
      "                       'etime': '065012',\n",
      "                       'experiment': 'piControl',\n",
      "                       'file_name': 'tas_Amon_GFDL-CM4_piControl_r1i1p1f1_gr1_055101-065012.nc',\n",
      "                       'grid': 'gr1',\n",
      "                       'member': 'r1i1p1f1',\n",
      "                       'model': 'GFDL-CM4',\n",
      "                       'project': 'CMIP6',\n",
      "                       'stime': '055101',\n",
      "                       'table': 'Amon',\n",
      "                       'time': '055101-065012',\n",
      "                       'tracking_id': 'hdl:21.14100/c2669cfe-c044-4a86-a1e3-7526466bf145',\n",
      "                       'variable': 'tas'},\n",
      "        '_type': 'file'},\n",
      "    {   '_id': '5',\n",
      "        '_index': 'cmip6',\n",
      "        '_score': 0.0,\n",
      "        '_source': {   'contact': 'gfdl.climate.model.info@noaa.gov',\n",
      "                       'dataset_id': '/run/media/stephan/Volume/data/tasmin/gr1/v20180701',\n",
      "                       'etime': '065012',\n",
      "                       'experiment': 'piControl',\n",
      "                       'file_name': 'tasmin_Amon_GFDL-CM4_piControl_r1i1p1f1_gr1_055101-065012.nc',\n",
      "                       'grid': 'gr1',\n",
      "                       'member': 'r1i1p1f1',\n",
      "                       'model': 'GFDL-CM4',\n",
      "                       'project': 'CMIP6',\n",
      "                       'stime': '055101',\n",
      "                       'table': 'Amon',\n",
      "                       'time': '055101-065012',\n",
      "                       'tracking_id': 'hdl:21.14100/918a4c24-08a0-4527-82a9-fabf3e870ef9',\n",
      "                       'variable': 'tasmin'},\n",
      "        '_type': 'file'}]\n"
     ]
    }
   ],
   "source": [
    "import pprint\n",
    "pp=pprint.PrettyPrinter(indent=4)\n",
    "res = es.search(index=\"cmip6\", body=r_string)\n",
    "pp.pprint(res['hits']['hits'])\n"
   ]
  },
  {
   "cell_type": "code",
   "execution_count": null,
   "metadata": {},
   "outputs": [],
   "source": [
    "t_d = {}\n",
    "t_d1 = {'a':'b'}\n",
    "print(len(t_d))\n",
    "print(len(t_d1))"
   ]
  },
  {
   "cell_type": "code",
   "execution_count": null,
   "metadata": {},
   "outputs": [],
   "source": [
    "import itertools\n",
    "import multiprocessing\n",
    "\n",
    "def worker(filename,dset):\n",
    "    print(filename,dset)\n",
    "      # do something here!\n",
    "\n",
    "def main():\n",
    "    with multiprocessing.Pool(2) as Pool: # pool of 48 processes\n",
    "\n",
    "        walk = os.walk(\"/run/media/stephan/Volume/data\")\n",
    "        fn_gen = itertools.chain.from_iterable((os.path.join(root, file)\n",
    "                                                for file in files)\n",
    "                                                for root, dirs, files in walk)\n",
    "\n",
    "        results_of_work = pool.map(worker, fn_gen) # this does the parallel processin"
   ]
  },
  {
   "cell_type": "code",
   "execution_count": null,
   "metadata": {},
   "outputs": [],
   "source": [
    "!pip install elasticsearch-dsl\n"
   ]
  },
  {
   "cell_type": "code",
   "execution_count": null,
   "metadata": {},
   "outputs": [],
   "source": [
    "from elasticsearch_dsl import Document, Date, Text, Keyword, Boolean, InnerDoc, \\\n",
    "Nested, Object, Join, Long, connections"
   ]
  },
  {
   "cell_type": "code",
   "execution_count": 12,
   "metadata": {},
   "outputs": [],
   "source": [
    "from elasticsearch_dsl import Search\n",
    "from elasticsearch import Elasticsearch\n",
    "es = Elasticsearch([{'host': '192.168.178.43','port': 9200}])\n",
    "\n",
    "s = Search(using=es,index=\"cmip6\").filter(\"term\",stime=\"015101\")"
   ]
  },
  {
   "cell_type": "code",
   "execution_count": 13,
   "metadata": {},
   "outputs": [],
   "source": [
    "response = s.execute()"
   ]
  },
  {
   "cell_type": "code",
   "execution_count": 15,
   "metadata": {},
   "outputs": [],
   "source": [
    "for hit in response:\n",
    "    print(hit.file_name)"
   ]
  },
  {
   "cell_type": "code",
   "execution_count": 30,
   "metadata": {},
   "outputs": [],
   "source": [
    "import xarray as xr\n",
    "from netCDF4 import Dataset\n",
    "\n",
    "file = \"/run/media/stephan/Volume/data/hus/hus_day_IPSL-CM6A-LR_abrupt-4xCO2_r10i1p1f1_gr_18501001-18541231.nc\"\n",
    "tst = Dataset(file,format=\"NETCDF4\")"
   ]
  },
  {
   "cell_type": "code",
   "execution_count": 31,
   "metadata": {},
   "outputs": [
    {
     "data": {
      "text/plain": [
       "'NETCDF4'"
      ]
     },
     "execution_count": 31,
     "metadata": {},
     "output_type": "execute_result"
    }
   ],
   "source": [
    "tst.data_model"
   ]
  },
  {
   "cell_type": "code",
   "execution_count": 32,
   "metadata": {},
   "outputs": [
    {
     "data": {
      "text/plain": [
       "['name',\n",
       " 'Conventions',\n",
       " 'creation_date',\n",
       " 'tracking_id',\n",
       " 'description',\n",
       " 'title',\n",
       " 'activity_id',\n",
       " 'contact',\n",
       " 'data_specs_version',\n",
       " 'dr2xml_version',\n",
       " 'experiment_id',\n",
       " 'experiment',\n",
       " 'external_variables',\n",
       " 'forcing_index',\n",
       " 'frequency',\n",
       " 'further_info_url',\n",
       " 'grid',\n",
       " 'grid_label',\n",
       " 'nominal_resolution',\n",
       " 'initialization_index',\n",
       " 'institution_id',\n",
       " 'institution',\n",
       " 'license',\n",
       " 'mip_era',\n",
       " 'parent_experiment_id',\n",
       " 'parent_mip_era',\n",
       " 'parent_activity_id',\n",
       " 'parent_source_id',\n",
       " 'parent_time_units',\n",
       " 'branch_method',\n",
       " 'branch_time_in_parent',\n",
       " 'branch_time_in_child',\n",
       " 'physics_index',\n",
       " 'product',\n",
       " 'realization_index',\n",
       " 'realm',\n",
       " 'source',\n",
       " 'source_id',\n",
       " 'source_type',\n",
       " 'sub_experiment_id',\n",
       " 'sub_experiment',\n",
       " 'table_id',\n",
       " 'variable_id',\n",
       " 'variant_label',\n",
       " 'EXPID',\n",
       " 'CMIP6_CV_version',\n",
       " 'dr2xml_md5sum',\n",
       " 'model_version',\n",
       " 'history',\n",
       " 'parent_variant_label',\n",
       " 'NCO',\n",
       " 'nco_openmp_thread_number']"
      ]
     },
     "execution_count": 32,
     "metadata": {},
     "output_type": "execute_result"
    }
   ],
   "source": [
    "tst.ncattrs()"
   ]
  },
  {
   "cell_type": "code",
   "execution_count": 35,
   "metadata": {},
   "outputs": [
    {
     "data": {
      "text/plain": [
       "'ipsl-cmip6@listes.ipsl.fr'"
      ]
     },
     "execution_count": 35,
     "metadata": {},
     "output_type": "execute_result"
    }
   ],
   "source": [
    "getattr(tst,'contact')"
   ]
  },
  {
   "cell_type": "code",
   "execution_count": 36,
   "metadata": {},
   "outputs": [
    {
     "data": {
      "text/plain": [
       "'ipsl-cmip6@listes.ipsl.fr'"
      ]
     },
     "execution_count": 36,
     "metadata": {},
     "output_type": "execute_result"
    }
   ],
   "source": [
    "tst.contact"
   ]
  },
  {
   "cell_type": "code",
   "execution_count": null,
   "metadata": {},
   "outputs": [],
   "source": []
  }
 ],
 "metadata": {
  "kernelspec": {
   "display_name": "Python 3",
   "language": "python",
   "name": "python3"
  },
  "language_info": {
   "codemirror_mode": {
    "name": "ipython",
    "version": 3
   },
   "file_extension": ".py",
   "mimetype": "text/x-python",
   "name": "python",
   "nbconvert_exporter": "python",
   "pygments_lexer": "ipython3",
   "version": "3.6.7"
  }
 },
 "nbformat": 4,
 "nbformat_minor": 2
}
