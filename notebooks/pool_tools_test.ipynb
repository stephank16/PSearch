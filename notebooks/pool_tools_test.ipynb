{
 "cells": [
  {
   "cell_type": "markdown",
   "metadata": {},
   "source": [
    "## References\n",
    "- https://janakiev.com/blog/python-filesystem-analysis/\n",
    "\n",
    "- dependencies:\n",
    "    - (optional - optional extension in the future: pip install persist-queue[extra] ( https://github.com/peter-wangxu/persist-queue ) \n",
    "    - pip install rq ( https://python-rq.org/ ) \n",
    "    \n",
    "- related work\n",
    "    - https://github.com/cedadev/facet-scanner\n",
    "    - https://github.com/cedadev/ceda-elasticsearch-tools"
   ]
  },
  {
   "cell_type": "markdown",
   "metadata": {},
   "source": [
    "# Elastic search ingester \n",
    "\n",
    "## Work Plan: \n",
    "\n",
    "- implement project readers in pool_tools\n",
    "   - every reader returns elastic search ingest items\n",
    "- implement directory walker, generating ingest reqests\n",
    "   - ingest request is input to project reader\n",
    "- track index status information in index itself    \n",
    "- use http://python-rq.org/ to queue ingest items\n",
    "- use parallel workers to run elastic search ingest items\n",
    "   - each worker maintains an elesticsearch endpoint\n"
   ]
  },
  {
   "cell_type": "code",
   "execution_count": 1,
   "metadata": {},
   "outputs": [],
   "source": [
    "# for development: auto reload of packages\n",
    "%load_ext autoreload"
   ]
  },
  {
   "cell_type": "code",
   "execution_count": 2,
   "metadata": {},
   "outputs": [],
   "source": [
    "import os\n",
    "from pindex import pool_tools"
   ]
  },
  {
   "cell_type": "code",
   "execution_count": 3,
   "metadata": {},
   "outputs": [
    {
     "name": "stdout",
     "output_type": "stream",
     "text": [
      "Project handler initialized: /home/stephan/sshik1017/CMIP6/data/CMIP6/CMIP/IPSL/IPSL-CM6A-LR/1pctCO2/r1i1p1f1/day\n",
      "EL connected\n",
      "Elastic search endpoint:  [{'host': 'localhost', 'port': 9200}]\n",
      "<Elasticsearch([{'host': 'localhost', 'port': 9200}])>\n",
      "-- removed existing mapping\n",
      "-- mapping created\n",
      "=============================:  /home/stephan/sshik1017/CMIP6/data/CMIP6/CMIP/IPSL/IPSL-CM6A-LR/1pctCO2/r1i1p1f1/day/rlus/gr/v20180727 [] ['rlus_day_IPSL-CM6A-LR_1pctCO2_r1i1p1f1_gr_18500101-19991231.nc']\n",
      "opening:  /home/stephan/sshik1017/CMIP6/data/CMIP6/CMIP/IPSL/IPSL-CM6A-LR/1pctCO2/r1i1p1f1/day/rlus/gr/v20180727/rlus_day_IPSL-CM6A-LR_1pctCO2_r1i1p1f1_gr_18500101-19991231.nc\n",
      "{'rlus_day_IPSL-CM6A-LR_1pctCO2_r1i1p1f1_gr_18500101-19991231.nc': {'variable': 'rlus', 'table': 'day', 'model': 'IPSL-CM6A-LR', 'experiment': '1pctCO2', 'member': 'r1i1p1f1', 'grid': 'gr', 'time': '18500101-19991231', 'file_name': 'rlus_day_IPSL-CM6A-LR_1pctCO2_r1i1p1f1_gr_18500101-19991231.nc', 'project': 'cmip6', 'dataset_id': '/home/stephan/sshik1017/CMIP6/data/CMIP6/CMIP/IPSL/IPSL-CM6A-LR/1pctCO2/r1i1p1f1/day/rlus/gr/v20180727', 'stime': '18500101', 'etime': '19991231', 'tracking_id': 'hdl:21.14100/d9eb0c49-4ec5-4091-88fd-2ded12ea3659', 'contact': 'ipsl-cmip6@listes.ipsl.fr', 'st_size': 3038073309, 'st_atime': 1561971451.0, 'st_mtime': 1539023363.0, 'st_ctime': 1539023363.0}}\n",
      "index update:  1\n",
      "============================\n",
      "=============================:  /home/stephan/sshik1017/CMIP6/data/CMIP6/CMIP/IPSL/IPSL-CM6A-LR/1pctCO2/r1i1p1f1/day/mrsos/gr/v20180727 [] ['mrsos_day_IPSL-CM6A-LR_1pctCO2_r1i1p1f1_gr_18500101-19991231.nc']\n",
      "opening:  /home/stephan/sshik1017/CMIP6/data/CMIP6/CMIP/IPSL/IPSL-CM6A-LR/1pctCO2/r1i1p1f1/day/mrsos/gr/v20180727/mrsos_day_IPSL-CM6A-LR_1pctCO2_r1i1p1f1_gr_18500101-19991231.nc\n",
      "{'mrsos_day_IPSL-CM6A-LR_1pctCO2_r1i1p1f1_gr_18500101-19991231.nc': {'variable': 'mrsos', 'table': 'day', 'model': 'IPSL-CM6A-LR', 'experiment': '1pctCO2', 'member': 'r1i1p1f1', 'grid': 'gr', 'time': '18500101-19991231', 'file_name': 'mrsos_day_IPSL-CM6A-LR_1pctCO2_r1i1p1f1_gr_18500101-19991231.nc', 'project': 'cmip6', 'dataset_id': '/home/stephan/sshik1017/CMIP6/data/CMIP6/CMIP/IPSL/IPSL-CM6A-LR/1pctCO2/r1i1p1f1/day/mrsos/gr/v20180727', 'stime': '18500101', 'etime': '19991231', 'tracking_id': 'hdl:21.14100/c76cda8d-acdc-41b0-8a79-a74d7cc5112d', 'contact': 'ipsl-cmip6@listes.ipsl.fr', 'st_size': 1248279709, 'st_atime': 1561971452.0, 'st_mtime': 1539046765.0, 'st_ctime': 1539046765.0}}\n",
      "index update:  2\n",
      "============================\n",
      "=============================:  /home/stephan/sshik1017/CMIP6/data/CMIP6/CMIP/IPSL/IPSL-CM6A-LR/1pctCO2/r1i1p1f1/day/tas/gr/v20180727 [] ['tas_day_IPSL-CM6A-LR_1pctCO2_r1i1p1f1_gr_18500101-19991231.nc']\n",
      "opening:  /home/stephan/sshik1017/CMIP6/data/CMIP6/CMIP/IPSL/IPSL-CM6A-LR/1pctCO2/r1i1p1f1/day/tas/gr/v20180727/tas_day_IPSL-CM6A-LR_1pctCO2_r1i1p1f1_gr_18500101-19991231.nc\n",
      "{'tas_day_IPSL-CM6A-LR_1pctCO2_r1i1p1f1_gr_18500101-19991231.nc': {'variable': 'tas', 'table': 'day', 'model': 'IPSL-CM6A-LR', 'experiment': '1pctCO2', 'member': 'r1i1p1f1', 'grid': 'gr', 'time': '18500101-19991231', 'file_name': 'tas_day_IPSL-CM6A-LR_1pctCO2_r1i1p1f1_gr_18500101-19991231.nc', 'project': 'cmip6', 'dataset_id': '/home/stephan/sshik1017/CMIP6/data/CMIP6/CMIP/IPSL/IPSL-CM6A-LR/1pctCO2/r1i1p1f1/day/tas/gr/v20180727', 'stime': '18500101', 'etime': '19991231', 'tracking_id': 'hdl:21.14100/9005af33-45c7-4c59-b3ad-20c82315bd96', 'contact': 'ipsl-cmip6@listes.ipsl.fr', 'st_size': 2684965308, 'st_atime': 1561971453.0, 'st_mtime': 1554194257.0, 'st_ctime': 1554194257.0}}\n",
      "index update:  3\n",
      "============================\n",
      "=============================:  /home/stephan/sshik1017/CMIP6/data/CMIP6/CMIP/IPSL/IPSL-CM6A-LR/1pctCO2/r1i1p1f1/day/uas/gr/v20180727 [] ['uas_day_IPSL-CM6A-LR_1pctCO2_r1i1p1f1_gr_18500101-19991231.nc']\n",
      "opening:  /home/stephan/sshik1017/CMIP6/data/CMIP6/CMIP/IPSL/IPSL-CM6A-LR/1pctCO2/r1i1p1f1/day/uas/gr/v20180727/uas_day_IPSL-CM6A-LR_1pctCO2_r1i1p1f1_gr_18500101-19991231.nc\n",
      "{'uas_day_IPSL-CM6A-LR_1pctCO2_r1i1p1f1_gr_18500101-19991231.nc': {'variable': 'uas', 'table': 'day', 'model': 'IPSL-CM6A-LR', 'experiment': '1pctCO2', 'member': 'r1i1p1f1', 'grid': 'gr', 'time': '18500101-19991231', 'file_name': 'uas_day_IPSL-CM6A-LR_1pctCO2_r1i1p1f1_gr_18500101-19991231.nc', 'project': 'cmip6', 'dataset_id': '/home/stephan/sshik1017/CMIP6/data/CMIP6/CMIP/IPSL/IPSL-CM6A-LR/1pctCO2/r1i1p1f1/day/uas/gr/v20180727', 'stime': '18500101', 'etime': '19991231', 'tracking_id': 'hdl:21.14100/bb6bcc55-8d61-4622-b85f-818b37f5dd2b', 'contact': 'ipsl-cmip6@listes.ipsl.fr', 'st_size': 3688845596, 'st_atime': 1561971453.0, 'st_mtime': 1539011320.0, 'st_ctime': 1539011320.0}}\n",
      "index update:  4\n",
      "============================\n",
      "=============================:  /home/stephan/sshik1017/CMIP6/data/CMIP6/CMIP/IPSL/IPSL-CM6A-LR/1pctCO2/r1i1p1f1/day/ta/gr/v20180727 [] ['ta_day_IPSL-CM6A-LR_1pctCO2_r1i1p1f1_gr_19500101-19991231.nc', 'ta_day_IPSL-CM6A-LR_1pctCO2_r1i1p1f1_gr_18500101-19491231.nc']\n",
      "opening:  /home/stephan/sshik1017/CMIP6/data/CMIP6/CMIP/IPSL/IPSL-CM6A-LR/1pctCO2/r1i1p1f1/day/ta/gr/v20180727/ta_day_IPSL-CM6A-LR_1pctCO2_r1i1p1f1_gr_19500101-19991231.nc\n",
      "opening:  /home/stephan/sshik1017/CMIP6/data/CMIP6/CMIP/IPSL/IPSL-CM6A-LR/1pctCO2/r1i1p1f1/day/ta/gr/v20180727/ta_day_IPSL-CM6A-LR_1pctCO2_r1i1p1f1_gr_18500101-19491231.nc\n",
      "{'ta_day_IPSL-CM6A-LR_1pctCO2_r1i1p1f1_gr_19500101-19991231.nc': {'variable': 'ta', 'table': 'day', 'model': 'IPSL-CM6A-LR', 'experiment': '1pctCO2', 'member': 'r1i1p1f1', 'grid': 'gr', 'time': '19500101-19991231', 'file_name': 'ta_day_IPSL-CM6A-LR_1pctCO2_r1i1p1f1_gr_19500101-19991231.nc', 'project': 'cmip6', 'tracking_id': 'hdl:21.14100/35217077-90d8-4424-b24a-e4110dfd82d2', 'contact': 'ipsl-cmip6@listes.ipsl.fr', 'st_size': 6433581159, 'st_atime': 1561971454.0, 'st_mtime': 1539022014.0, 'st_ctime': 1539022014.0}, 'ta_day_IPSL-CM6A-LR_1pctCO2_r1i1p1f1_gr_18500101-19491231.nc': {'variable': 'ta', 'table': 'day', 'model': 'IPSL-CM6A-LR', 'experiment': '1pctCO2', 'member': 'r1i1p1f1', 'grid': 'gr', 'time': '18500101-19491231', 'file_name': 'ta_day_IPSL-CM6A-LR_1pctCO2_r1i1p1f1_gr_18500101-19491231.nc', 'project': 'cmip6', 'dataset_id': '/home/stephan/sshik1017/CMIP6/data/CMIP6/CMIP/IPSL/IPSL-CM6A-LR/1pctCO2/r1i1p1f1/day/ta/gr/v20180727', 'stime': '18500101', 'etime': '19491231', 'tracking_id': 'hdl:21.14100/c902ce8a-e856-4a1b-92e5-06111987c6fe', 'contact': 'ipsl-cmip6@listes.ipsl.fr', 'st_size': 12903897968, 'st_atime': 1561971454.0, 'st_mtime': 1539060077.0, 'st_ctime': 1539060077.0}}\n",
      "index update:  5\n",
      "index update:  6\n",
      "============================\n",
      "=============================:  /home/stephan/sshik1017/CMIP6/data/CMIP6/CMIP/IPSL/IPSL-CM6A-LR/1pctCO2/r1i1p1f1/day/psl/gr/v20180727 [] ['psl_day_IPSL-CM6A-LR_1pctCO2_r1i1p1f1_gr_18500101-19991231.nc']\n",
      "opening:  /home/stephan/sshik1017/CMIP6/data/CMIP6/CMIP/IPSL/IPSL-CM6A-LR/1pctCO2/r1i1p1f1/day/psl/gr/v20180727/psl_day_IPSL-CM6A-LR_1pctCO2_r1i1p1f1_gr_18500101-19991231.nc\n",
      "{'psl_day_IPSL-CM6A-LR_1pctCO2_r1i1p1f1_gr_18500101-19991231.nc': {'variable': 'psl', 'table': 'day', 'model': 'IPSL-CM6A-LR', 'experiment': '1pctCO2', 'member': 'r1i1p1f1', 'grid': 'gr', 'time': '18500101-19991231', 'file_name': 'psl_day_IPSL-CM6A-LR_1pctCO2_r1i1p1f1_gr_18500101-19991231.nc', 'project': 'cmip6', 'dataset_id': '/home/stephan/sshik1017/CMIP6/data/CMIP6/CMIP/IPSL/IPSL-CM6A-LR/1pctCO2/r1i1p1f1/day/psl/gr/v20180727', 'stime': '18500101', 'etime': '19991231', 'tracking_id': 'hdl:21.14100/41641b2c-612c-445c-85a4-4073af9cd117', 'contact': 'ipsl-cmip6@listes.ipsl.fr', 'st_size': 2486168485, 'st_atime': 1561971455.0, 'st_mtime': 1554194267.0, 'st_ctime': 1554194267.0}}\n",
      "index update:  7\n",
      "============================\n",
      "=============================:  /home/stephan/sshik1017/CMIP6/data/CMIP6/CMIP/IPSL/IPSL-CM6A-LR/1pctCO2/r1i1p1f1/day/huss/gr/v20180727 [] ['huss_day_IPSL-CM6A-LR_1pctCO2_r1i1p1f1_gr_18500101-19991231.nc']\n",
      "opening:  /home/stephan/sshik1017/CMIP6/data/CMIP6/CMIP/IPSL/IPSL-CM6A-LR/1pctCO2/r1i1p1f1/day/huss/gr/v20180727/huss_day_IPSL-CM6A-LR_1pctCO2_r1i1p1f1_gr_18500101-19991231.nc\n",
      "{'huss_day_IPSL-CM6A-LR_1pctCO2_r1i1p1f1_gr_18500101-19991231.nc': {'variable': 'huss', 'table': 'day', 'model': 'IPSL-CM6A-LR', 'experiment': '1pctCO2', 'member': 'r1i1p1f1', 'grid': 'gr', 'time': '18500101-19991231', 'file_name': 'huss_day_IPSL-CM6A-LR_1pctCO2_r1i1p1f1_gr_18500101-19991231.nc', 'project': 'cmip6', 'dataset_id': '/home/stephan/sshik1017/CMIP6/data/CMIP6/CMIP/IPSL/IPSL-CM6A-LR/1pctCO2/r1i1p1f1/day/huss/gr/v20180727', 'stime': '18500101', 'etime': '19991231', 'tracking_id': 'hdl:21.14100/7013a0e5-02c3-4315-ae8b-2f3de6feb410', 'contact': 'ipsl-cmip6@listes.ipsl.fr', 'st_size': 3412628651, 'st_atime': 1561971455.0, 'st_mtime': 1554194278.0, 'st_ctime': 1554194278.0}}\n",
      "index update:  8\n",
      "============================\n",
      "=============================:  /home/stephan/sshik1017/CMIP6/data/CMIP6/CMIP/IPSL/IPSL-CM6A-LR/1pctCO2/r1i1p1f1/day/rlut/gr/v20180727 [] ['rlut_day_IPSL-CM6A-LR_1pctCO2_r1i1p1f1_gr_18500101-19991231.nc']\n",
      "opening:  /home/stephan/sshik1017/CMIP6/data/CMIP6/CMIP/IPSL/IPSL-CM6A-LR/1pctCO2/r1i1p1f1/day/rlut/gr/v20180727/rlut_day_IPSL-CM6A-LR_1pctCO2_r1i1p1f1_gr_18500101-19991231.nc\n",
      "{'rlut_day_IPSL-CM6A-LR_1pctCO2_r1i1p1f1_gr_18500101-19991231.nc': {'variable': 'rlut', 'table': 'day', 'model': 'IPSL-CM6A-LR', 'experiment': '1pctCO2', 'member': 'r1i1p1f1', 'grid': 'gr', 'time': '18500101-19991231', 'file_name': 'rlut_day_IPSL-CM6A-LR_1pctCO2_r1i1p1f1_gr_18500101-19991231.nc', 'project': 'cmip6', 'dataset_id': '/home/stephan/sshik1017/CMIP6/data/CMIP6/CMIP/IPSL/IPSL-CM6A-LR/1pctCO2/r1i1p1f1/day/rlut/gr/v20180727', 'stime': '18500101', 'etime': '19991231', 'tracking_id': 'hdl:21.14100/d6dc425f-2fa3-4a84-ab2d-03219e8d9879', 'contact': 'ipsl-cmip6@listes.ipsl.fr', 'st_size': 3181473933, 'st_atime': 1561971456.0, 'st_mtime': 1554194288.0, 'st_ctime': 1554194288.0}}\n",
      "index update:  9\n",
      "============================\n",
      "=============================:  /home/stephan/sshik1017/CMIP6/data/CMIP6/CMIP/IPSL/IPSL-CM6A-LR/1pctCO2/r1i1p1f1/day/zg/gr/v20180727 [] ['zg_day_IPSL-CM6A-LR_1pctCO2_r1i1p1f1_gr_18500101-19491231.nc', 'zg_day_IPSL-CM6A-LR_1pctCO2_r1i1p1f1_gr_19500101-19991231.nc']\n",
      "opening:  /home/stephan/sshik1017/CMIP6/data/CMIP6/CMIP/IPSL/IPSL-CM6A-LR/1pctCO2/r1i1p1f1/day/zg/gr/v20180727/zg_day_IPSL-CM6A-LR_1pctCO2_r1i1p1f1_gr_18500101-19491231.nc\n",
      "opening:  /home/stephan/sshik1017/CMIP6/data/CMIP6/CMIP/IPSL/IPSL-CM6A-LR/1pctCO2/r1i1p1f1/day/zg/gr/v20180727/zg_day_IPSL-CM6A-LR_1pctCO2_r1i1p1f1_gr_19500101-19991231.nc\n",
      "{'zg_day_IPSL-CM6A-LR_1pctCO2_r1i1p1f1_gr_18500101-19491231.nc': {'variable': 'zg', 'table': 'day', 'model': 'IPSL-CM6A-LR', 'experiment': '1pctCO2', 'member': 'r1i1p1f1', 'grid': 'gr', 'time': '18500101-19491231', 'file_name': 'zg_day_IPSL-CM6A-LR_1pctCO2_r1i1p1f1_gr_18500101-19491231.nc', 'project': 'cmip6', 'tracking_id': 'hdl:21.14100/25da7df7-a85d-4fcc-97fc-5bf146f7fdaf', 'contact': 'ipsl-cmip6@listes.ipsl.fr', 'st_size': 12895904978, 'st_atime': 1561971456.0, 'st_mtime': 1539048175.0, 'st_ctime': 1539048175.0}, 'zg_day_IPSL-CM6A-LR_1pctCO2_r1i1p1f1_gr_19500101-19991231.nc': {'variable': 'zg', 'table': 'day', 'model': 'IPSL-CM6A-LR', 'experiment': '1pctCO2', 'member': 'r1i1p1f1', 'grid': 'gr', 'time': '19500101-19991231', 'file_name': 'zg_day_IPSL-CM6A-LR_1pctCO2_r1i1p1f1_gr_19500101-19991231.nc', 'project': 'cmip6', 'dataset_id': '/home/stephan/sshik1017/CMIP6/data/CMIP6/CMIP/IPSL/IPSL-CM6A-LR/1pctCO2/r1i1p1f1/day/zg/gr/v20180727', 'stime': '19500101', 'etime': '19991231', 'tracking_id': 'hdl:21.14100/3ddfa434-0c0f-45b3-a158-6fddef4a9f16', 'contact': 'ipsl-cmip6@listes.ipsl.fr', 'st_size': 6444624237, 'st_atime': 1561971456.0, 'st_mtime': 1539061034.0, 'st_ctime': 1539061034.0}}\n",
      "index update:  10\n",
      "index update:  11\n",
      "============================\n",
      "=============================:  /home/stephan/sshik1017/CMIP6/data/CMIP6/CMIP/IPSL/IPSL-CM6A-LR/1pctCO2/r1i1p1f1/day/tslsi/gr/v20180727 [] ['tslsi_day_IPSL-CM6A-LR_1pctCO2_r1i1p1f1_gr_18500101-19991231.nc']\n",
      "opening:  /home/stephan/sshik1017/CMIP6/data/CMIP6/CMIP/IPSL/IPSL-CM6A-LR/1pctCO2/r1i1p1f1/day/tslsi/gr/v20180727/tslsi_day_IPSL-CM6A-LR_1pctCO2_r1i1p1f1_gr_18500101-19991231.nc\n",
      "{'tslsi_day_IPSL-CM6A-LR_1pctCO2_r1i1p1f1_gr_18500101-19991231.nc': {'variable': 'tslsi', 'table': 'day', 'model': 'IPSL-CM6A-LR', 'experiment': '1pctCO2', 'member': 'r1i1p1f1', 'grid': 'gr', 'time': '18500101-19991231', 'file_name': 'tslsi_day_IPSL-CM6A-LR_1pctCO2_r1i1p1f1_gr_18500101-19991231.nc', 'project': 'cmip6', 'dataset_id': '/home/stephan/sshik1017/CMIP6/data/CMIP6/CMIP/IPSL/IPSL-CM6A-LR/1pctCO2/r1i1p1f1/day/tslsi/gr/v20180727', 'stime': '18500101', 'etime': '19991231', 'tracking_id': 'hdl:21.14100/2bc1993c-5502-4cc4-9f18-91ccb894a579', 'contact': 'ipsl-cmip6@listes.ipsl.fr', 'st_size': 1105782045, 'st_atime': 1561971457.0, 'st_mtime': 1539027587.0, 'st_ctime': 1539027587.0}}\n",
      "index update:  12\n",
      "============================\n",
      "=============================:  /home/stephan/sshik1017/CMIP6/data/CMIP6/CMIP/IPSL/IPSL-CM6A-LR/1pctCO2/r1i1p1f1/day/sfcWind/gr/v20180727 [] ['sfcWind_day_IPSL-CM6A-LR_1pctCO2_r1i1p1f1_gr_18500101-19991231.nc']\n",
      "opening:  /home/stephan/sshik1017/CMIP6/data/CMIP6/CMIP/IPSL/IPSL-CM6A-LR/1pctCO2/r1i1p1f1/day/sfcWind/gr/v20180727/sfcWind_day_IPSL-CM6A-LR_1pctCO2_r1i1p1f1_gr_18500101-19991231.nc\n",
      "{'sfcWind_day_IPSL-CM6A-LR_1pctCO2_r1i1p1f1_gr_18500101-19991231.nc': {'variable': 'sfcWind', 'table': 'day', 'model': 'IPSL-CM6A-LR', 'experiment': '1pctCO2', 'member': 'r1i1p1f1', 'grid': 'gr', 'time': '18500101-19991231', 'file_name': 'sfcWind_day_IPSL-CM6A-LR_1pctCO2_r1i1p1f1_gr_18500101-19991231.nc', 'project': 'cmip6', 'dataset_id': '/home/stephan/sshik1017/CMIP6/data/CMIP6/CMIP/IPSL/IPSL-CM6A-LR/1pctCO2/r1i1p1f1/day/sfcWind/gr/v20180727', 'stime': '18500101', 'etime': '19991231', 'tracking_id': 'hdl:21.14100/a66ab680-9e26-441f-abb9-61690bc47468', 'contact': 'ipsl-cmip6@listes.ipsl.fr', 'st_size': 3547003927, 'st_atime': 1561971460.0, 'st_mtime': 1539043407.0, 'st_ctime': 1539043407.0}}\n",
      "index update:  13\n",
      "============================\n",
      "=============================:  /home/stephan/sshik1017/CMIP6/data/CMIP6/CMIP/IPSL/IPSL-CM6A-LR/1pctCO2/r1i1p1f1/day/pr/gr/v20180727 [] ['pr_day_IPSL-CM6A-LR_1pctCO2_r1i1p1f1_gr_18500101-19991231.nc']\n",
      "opening:  /home/stephan/sshik1017/CMIP6/data/CMIP6/CMIP/IPSL/IPSL-CM6A-LR/1pctCO2/r1i1p1f1/day/pr/gr/v20180727/pr_day_IPSL-CM6A-LR_1pctCO2_r1i1p1f1_gr_18500101-19991231.nc\n",
      "{'pr_day_IPSL-CM6A-LR_1pctCO2_r1i1p1f1_gr_18500101-19991231.nc': {'variable': 'pr', 'table': 'day', 'model': 'IPSL-CM6A-LR', 'experiment': '1pctCO2', 'member': 'r1i1p1f1', 'grid': 'gr', 'time': '18500101-19991231', 'file_name': 'pr_day_IPSL-CM6A-LR_1pctCO2_r1i1p1f1_gr_18500101-19991231.nc', 'project': 'cmip6', 'dataset_id': '/home/stephan/sshik1017/CMIP6/data/CMIP6/CMIP/IPSL/IPSL-CM6A-LR/1pctCO2/r1i1p1f1/day/pr/gr/v20180727', 'stime': '18500101', 'etime': '19991231', 'tracking_id': 'hdl:21.14100/c9e101f3-0ab1-4283-a3a5-4a8628fb84f7', 'contact': 'ipsl-cmip6@listes.ipsl.fr', 'st_size': 3219279620, 'st_atime': 1561971462.0, 'st_mtime': 1554194300.0, 'st_ctime': 1554194300.0}}\n",
      "index update:  14\n",
      "============================\n",
      "=============================:  /home/stephan/sshik1017/CMIP6/data/CMIP6/CMIP/IPSL/IPSL-CM6A-LR/1pctCO2/r1i1p1f1/day/mrso/gr/v20180727 [] ['mrso_day_IPSL-CM6A-LR_1pctCO2_r1i1p1f1_gr_18500101-19991231.nc']\n",
      "opening:  /home/stephan/sshik1017/CMIP6/data/CMIP6/CMIP/IPSL/IPSL-CM6A-LR/1pctCO2/r1i1p1f1/day/mrso/gr/v20180727/mrso_day_IPSL-CM6A-LR_1pctCO2_r1i1p1f1_gr_18500101-19991231.nc\n",
      "{'mrso_day_IPSL-CM6A-LR_1pctCO2_r1i1p1f1_gr_18500101-19991231.nc': {'variable': 'mrso', 'table': 'day', 'model': 'IPSL-CM6A-LR', 'experiment': '1pctCO2', 'member': 'r1i1p1f1', 'grid': 'gr', 'time': '18500101-19991231', 'file_name': 'mrso_day_IPSL-CM6A-LR_1pctCO2_r1i1p1f1_gr_18500101-19991231.nc', 'project': 'cmip6', 'dataset_id': '/home/stephan/sshik1017/CMIP6/data/CMIP6/CMIP/IPSL/IPSL-CM6A-LR/1pctCO2/r1i1p1f1/day/mrso/gr/v20180727', 'stime': '18500101', 'etime': '19991231', 'tracking_id': 'hdl:21.14100/1cf9aa17-9820-43dc-83ca-9af3c820a7f9', 'contact': 'ipsl-cmip6@listes.ipsl.fr', 'st_size': 1256334475, 'st_atime': 1561971466.0, 'st_mtime': 1539055894.0, 'st_ctime': 1539055894.0}}\n",
      "index update:  15\n",
      "============================\n",
      "=============================:  /home/stephan/sshik1017/CMIP6/data/CMIP6/CMIP/IPSL/IPSL-CM6A-LR/1pctCO2/r1i1p1f1/day/hursmin/gr/v20180727 [] ['hursmin_day_IPSL-CM6A-LR_1pctCO2_r1i1p1f1_gr_18500101-19991231.nc']\n",
      "opening:  /home/stephan/sshik1017/CMIP6/data/CMIP6/CMIP/IPSL/IPSL-CM6A-LR/1pctCO2/r1i1p1f1/day/hursmin/gr/v20180727/hursmin_day_IPSL-CM6A-LR_1pctCO2_r1i1p1f1_gr_18500101-19991231.nc\n",
      "{'hursmin_day_IPSL-CM6A-LR_1pctCO2_r1i1p1f1_gr_18500101-19991231.nc': {'variable': 'hursmin', 'table': 'day', 'model': 'IPSL-CM6A-LR', 'experiment': '1pctCO2', 'member': 'r1i1p1f1', 'grid': 'gr', 'time': '18500101-19991231', 'file_name': 'hursmin_day_IPSL-CM6A-LR_1pctCO2_r1i1p1f1_gr_18500101-19991231.nc', 'project': 'cmip6', 'dataset_id': '/home/stephan/sshik1017/CMIP6/data/CMIP6/CMIP/IPSL/IPSL-CM6A-LR/1pctCO2/r1i1p1f1/day/hursmin/gr/v20180727', 'stime': '18500101', 'etime': '19991231', 'tracking_id': 'hdl:21.14100/97b2e310-3f78-474f-af54-59b151bcb0c0', 'contact': 'ipsl-cmip6@listes.ipsl.fr', 'st_size': 3240221474, 'st_atime': 1561971466.0, 'st_mtime': 1539048750.0, 'st_ctime': 1539048750.0}}\n",
      "index update:  16\n",
      "============================\n",
      "=============================:  /home/stephan/sshik1017/CMIP6/data/CMIP6/CMIP/IPSL/IPSL-CM6A-LR/1pctCO2/r1i1p1f1/day/tasmax/gr/v20180727 [] ['tasmax_day_IPSL-CM6A-LR_1pctCO2_r1i1p1f1_gr_18500101-19991231.nc']\n",
      "opening:  /home/stephan/sshik1017/CMIP6/data/CMIP6/CMIP/IPSL/IPSL-CM6A-LR/1pctCO2/r1i1p1f1/day/tasmax/gr/v20180727/tasmax_day_IPSL-CM6A-LR_1pctCO2_r1i1p1f1_gr_18500101-19991231.nc\n",
      "{'tasmax_day_IPSL-CM6A-LR_1pctCO2_r1i1p1f1_gr_18500101-19991231.nc': {'variable': 'tasmax', 'table': 'day', 'model': 'IPSL-CM6A-LR', 'experiment': '1pctCO2', 'member': 'r1i1p1f1', 'grid': 'gr', 'time': '18500101-19991231', 'file_name': 'tasmax_day_IPSL-CM6A-LR_1pctCO2_r1i1p1f1_gr_18500101-19991231.nc', 'project': 'cmip6', 'dataset_id': '/home/stephan/sshik1017/CMIP6/data/CMIP6/CMIP/IPSL/IPSL-CM6A-LR/1pctCO2/r1i1p1f1/day/tasmax/gr/v20180727', 'stime': '18500101', 'etime': '19991231', 'tracking_id': 'hdl:21.14100/ab7fe02e-1884-417a-b04c-9026e9b87b19', 'contact': 'ipsl-cmip6@listes.ipsl.fr', 'st_size': 2684348296, 'st_atime': 1561971467.0, 'st_mtime': 1554194311.0, 'st_ctime': 1554194311.0}}\n",
      "index update:  17\n",
      "============================\n",
      "=============================:  /home/stephan/sshik1017/CMIP6/data/CMIP6/CMIP/IPSL/IPSL-CM6A-LR/1pctCO2/r1i1p1f1/day/vas/gr/v20180727 [] ['vas_day_IPSL-CM6A-LR_1pctCO2_r1i1p1f1_gr_18500101-19991231.nc']\n",
      "opening:  /home/stephan/sshik1017/CMIP6/data/CMIP6/CMIP/IPSL/IPSL-CM6A-LR/1pctCO2/r1i1p1f1/day/vas/gr/v20180727/vas_day_IPSL-CM6A-LR_1pctCO2_r1i1p1f1_gr_18500101-19991231.nc\n",
      "{'vas_day_IPSL-CM6A-LR_1pctCO2_r1i1p1f1_gr_18500101-19991231.nc': {'variable': 'vas', 'table': 'day', 'model': 'IPSL-CM6A-LR', 'experiment': '1pctCO2', 'member': 'r1i1p1f1', 'grid': 'gr', 'time': '18500101-19991231', 'file_name': 'vas_day_IPSL-CM6A-LR_1pctCO2_r1i1p1f1_gr_18500101-19991231.nc', 'project': 'cmip6', 'dataset_id': '/home/stephan/sshik1017/CMIP6/data/CMIP6/CMIP/IPSL/IPSL-CM6A-LR/1pctCO2/r1i1p1f1/day/vas/gr/v20180727', 'stime': '18500101', 'etime': '19991231', 'tracking_id': 'hdl:21.14100/121ee1bb-9427-4300-ad3f-71d004ff3bfa', 'contact': 'ipsl-cmip6@listes.ipsl.fr', 'st_size': 3741524362, 'st_atime': 1561971467.0, 'st_mtime': 1539034939.0, 'st_ctime': 1539034939.0}}\n",
      "index update:  18\n",
      "============================\n",
      "=============================:  /home/stephan/sshik1017/CMIP6/data/CMIP6/CMIP/IPSL/IPSL-CM6A-LR/1pctCO2/r1i1p1f1/day/hus/gr/v20180727 [] ['hus_day_IPSL-CM6A-LR_1pctCO2_r1i1p1f1_gr_19500101-19991231.nc']\n",
      "opening:  /home/stephan/sshik1017/CMIP6/data/CMIP6/CMIP/IPSL/IPSL-CM6A-LR/1pctCO2/r1i1p1f1/day/hus/gr/v20180727/hus_day_IPSL-CM6A-LR_1pctCO2_r1i1p1f1_gr_19500101-19991231.nc\n",
      "{'hus_day_IPSL-CM6A-LR_1pctCO2_r1i1p1f1_gr_19500101-19991231.nc': {'variable': 'hus', 'table': 'day', 'model': 'IPSL-CM6A-LR', 'experiment': '1pctCO2', 'member': 'r1i1p1f1', 'grid': 'gr', 'time': '19500101-19991231', 'file_name': 'hus_day_IPSL-CM6A-LR_1pctCO2_r1i1p1f1_gr_19500101-19991231.nc', 'project': 'cmip6', 'dataset_id': '/home/stephan/sshik1017/CMIP6/data/CMIP6/CMIP/IPSL/IPSL-CM6A-LR/1pctCO2/r1i1p1f1/day/hus/gr/v20180727', 'stime': '19500101', 'etime': '19991231', 'tracking_id': 'hdl:21.14100/b9741c48-c1a4-4baf-89fc-b8901e5519a9', 'contact': 'ipsl-cmip6@listes.ipsl.fr', 'st_size': 7916957677, 'st_atime': 1561971468.0, 'st_mtime': 1539040737.0, 'st_ctime': 1539040737.0}}\n",
      "index update:  19\n",
      "============================\n",
      "=============================:  /home/stephan/sshik1017/CMIP6/data/CMIP6/CMIP/IPSL/IPSL-CM6A-LR/1pctCO2/r1i1p1f1/day/hfls/gr/v20180727 [] ['hfls_day_IPSL-CM6A-LR_1pctCO2_r1i1p1f1_gr_18500101-19991231.nc']\n",
      "opening:  /home/stephan/sshik1017/CMIP6/data/CMIP6/CMIP/IPSL/IPSL-CM6A-LR/1pctCO2/r1i1p1f1/day/hfls/gr/v20180727/hfls_day_IPSL-CM6A-LR_1pctCO2_r1i1p1f1_gr_18500101-19991231.nc\n",
      "{'hfls_day_IPSL-CM6A-LR_1pctCO2_r1i1p1f1_gr_18500101-19991231.nc': {'variable': 'hfls', 'table': 'day', 'model': 'IPSL-CM6A-LR', 'experiment': '1pctCO2', 'member': 'r1i1p1f1', 'grid': 'gr', 'time': '18500101-19991231', 'file_name': 'hfls_day_IPSL-CM6A-LR_1pctCO2_r1i1p1f1_gr_18500101-19991231.nc', 'project': 'cmip6', 'dataset_id': '/home/stephan/sshik1017/CMIP6/data/CMIP6/CMIP/IPSL/IPSL-CM6A-LR/1pctCO2/r1i1p1f1/day/hfls/gr/v20180727', 'stime': '18500101', 'etime': '19991231', 'tracking_id': 'hdl:21.14100/e5e12ecf-c7cf-41cf-8d85-900608321395', 'contact': 'ipsl-cmip6@listes.ipsl.fr', 'st_size': 3689143187, 'st_atime': 1561971468.0, 'st_mtime': 1539059697.0, 'st_ctime': 1539059697.0}}\n",
      "index update:  20\n",
      "============================\n",
      "=============================:  /home/stephan/sshik1017/CMIP6/data/CMIP6/CMIP/IPSL/IPSL-CM6A-LR/1pctCO2/r1i1p1f1/day/rlds/gr/v20180727 [] ['rlds_day_IPSL-CM6A-LR_1pctCO2_r1i1p1f1_gr_18500101-19991231.nc']\n",
      "opening:  /home/stephan/sshik1017/CMIP6/data/CMIP6/CMIP/IPSL/IPSL-CM6A-LR/1pctCO2/r1i1p1f1/day/rlds/gr/v20180727/rlds_day_IPSL-CM6A-LR_1pctCO2_r1i1p1f1_gr_18500101-19991231.nc\n",
      "{'rlds_day_IPSL-CM6A-LR_1pctCO2_r1i1p1f1_gr_18500101-19991231.nc': {'variable': 'rlds', 'table': 'day', 'model': 'IPSL-CM6A-LR', 'experiment': '1pctCO2', 'member': 'r1i1p1f1', 'grid': 'gr', 'time': '18500101-19991231', 'file_name': 'rlds_day_IPSL-CM6A-LR_1pctCO2_r1i1p1f1_gr_18500101-19991231.nc', 'project': 'cmip6', 'dataset_id': '/home/stephan/sshik1017/CMIP6/data/CMIP6/CMIP/IPSL/IPSL-CM6A-LR/1pctCO2/r1i1p1f1/day/rlds/gr/v20180727', 'stime': '18500101', 'etime': '19991231', 'tracking_id': 'hdl:21.14100/b3bb7be2-835b-4d40-9b95-53c90798e18f', 'contact': 'ipsl-cmip6@listes.ipsl.fr', 'st_size': 3207972408, 'st_atime': 1561971469.0, 'st_mtime': 1539014440.0, 'st_ctime': 1539014440.0}}\n",
      "index update:  21\n",
      "============================\n",
      "=============================:  /home/stephan/sshik1017/CMIP6/data/CMIP6/CMIP/IPSL/IPSL-CM6A-LR/1pctCO2/r1i1p1f1/day/sfcWindmax/gr/v20180727 [] ['sfcWindmax_day_IPSL-CM6A-LR_1pctCO2_r1i1p1f1_gr_18500101-19991231.nc']\n",
      "opening:  /home/stephan/sshik1017/CMIP6/data/CMIP6/CMIP/IPSL/IPSL-CM6A-LR/1pctCO2/r1i1p1f1/day/sfcWindmax/gr/v20180727/sfcWindmax_day_IPSL-CM6A-LR_1pctCO2_r1i1p1f1_gr_18500101-19991231.nc\n",
      "{'sfcWindmax_day_IPSL-CM6A-LR_1pctCO2_r1i1p1f1_gr_18500101-19991231.nc': {'variable': 'sfcWindmax', 'table': 'day', 'model': 'IPSL-CM6A-LR', 'experiment': '1pctCO2', 'member': 'r1i1p1f1', 'grid': 'gr', 'time': '18500101-19991231', 'file_name': 'sfcWindmax_day_IPSL-CM6A-LR_1pctCO2_r1i1p1f1_gr_18500101-19991231.nc', 'project': 'cmip6', 'dataset_id': '/home/stephan/sshik1017/CMIP6/data/CMIP6/CMIP/IPSL/IPSL-CM6A-LR/1pctCO2/r1i1p1f1/day/sfcWindmax/gr/v20180727', 'stime': '18500101', 'etime': '19991231', 'tracking_id': 'hdl:21.14100/f48b3707-5eb7-45c6-8d97-d4a9d88e0c76', 'contact': 'ipsl-cmip6@listes.ipsl.fr', 'st_size': 3527728692, 'st_atime': 1561971469.0, 'st_mtime': 1539026704.0, 'st_ctime': 1539026704.0}}\n",
      "index update:  22\n",
      "============================\n",
      "=============================:  /home/stephan/sshik1017/CMIP6/data/CMIP6/CMIP/IPSL/IPSL-CM6A-LR/1pctCO2/r1i1p1f1/day/mrro/gr/v20180727 [] ['mrro_day_IPSL-CM6A-LR_1pctCO2_r1i1p1f1_gr_18500101-19991231.nc']\n",
      "opening:  /home/stephan/sshik1017/CMIP6/data/CMIP6/CMIP/IPSL/IPSL-CM6A-LR/1pctCO2/r1i1p1f1/day/mrro/gr/v20180727/mrro_day_IPSL-CM6A-LR_1pctCO2_r1i1p1f1_gr_18500101-19991231.nc\n",
      "{'mrro_day_IPSL-CM6A-LR_1pctCO2_r1i1p1f1_gr_18500101-19991231.nc': {'variable': 'mrro', 'table': 'day', 'model': 'IPSL-CM6A-LR', 'experiment': '1pctCO2', 'member': 'r1i1p1f1', 'grid': 'gr', 'time': '18500101-19991231', 'file_name': 'mrro_day_IPSL-CM6A-LR_1pctCO2_r1i1p1f1_gr_18500101-19991231.nc', 'project': 'cmip6', 'dataset_id': '/home/stephan/sshik1017/CMIP6/data/CMIP6/CMIP/IPSL/IPSL-CM6A-LR/1pctCO2/r1i1p1f1/day/mrro/gr/v20180727', 'stime': '18500101', 'etime': '19991231', 'tracking_id': 'hdl:21.14100/eef7a11f-4944-42cc-b7f8-d34e6c5dad04', 'contact': 'ipsl-cmip6@listes.ipsl.fr', 'st_size': 1354344270, 'st_atime': 1561971470.0, 'st_mtime': 1539009083.0, 'st_ctime': 1539009083.0}}\n",
      "index update:  23\n",
      "============================\n",
      "=============================:  /home/stephan/sshik1017/CMIP6/data/CMIP6/CMIP/IPSL/IPSL-CM6A-LR/1pctCO2/r1i1p1f1/day/snw/gr/v20180727 [] ['snw_day_IPSL-CM6A-LR_1pctCO2_r1i1p1f1_gr_18500101-19991231.nc']\n",
      "opening:  /home/stephan/sshik1017/CMIP6/data/CMIP6/CMIP/IPSL/IPSL-CM6A-LR/1pctCO2/r1i1p1f1/day/snw/gr/v20180727/snw_day_IPSL-CM6A-LR_1pctCO2_r1i1p1f1_gr_18500101-19991231.nc\n",
      "{'snw_day_IPSL-CM6A-LR_1pctCO2_r1i1p1f1_gr_18500101-19991231.nc': {'variable': 'snw', 'table': 'day', 'model': 'IPSL-CM6A-LR', 'experiment': '1pctCO2', 'member': 'r1i1p1f1', 'grid': 'gr', 'time': '18500101-19991231', 'file_name': 'snw_day_IPSL-CM6A-LR_1pctCO2_r1i1p1f1_gr_18500101-19991231.nc', 'project': 'cmip6', 'dataset_id': '/home/stephan/sshik1017/CMIP6/data/CMIP6/CMIP/IPSL/IPSL-CM6A-LR/1pctCO2/r1i1p1f1/day/snw/gr/v20180727', 'stime': '18500101', 'etime': '19991231', 'tracking_id': 'hdl:21.14100/091606a9-5f0c-41a1-b9e2-44097ef8995d', 'contact': 'ipsl-cmip6@listes.ipsl.fr', 'st_size': 648404786, 'st_atime': 1561971470.0, 'st_mtime': 1539054166.0, 'st_ctime': 1539054166.0}}\n",
      "index update:  24\n",
      "============================\n",
      "=============================:  /home/stephan/sshik1017/CMIP6/data/CMIP6/CMIP/IPSL/IPSL-CM6A-LR/1pctCO2/r1i1p1f1/day/wap/gr/v20180727 [] ['wap_day_IPSL-CM6A-LR_1pctCO2_r1i1p1f1_gr_18500101-19491231.nc', 'wap_day_IPSL-CM6A-LR_1pctCO2_r1i1p1f1_gr_19500101-19991231.nc']\n",
      "opening:  /home/stephan/sshik1017/CMIP6/data/CMIP6/CMIP/IPSL/IPSL-CM6A-LR/1pctCO2/r1i1p1f1/day/wap/gr/v20180727/wap_day_IPSL-CM6A-LR_1pctCO2_r1i1p1f1_gr_18500101-19491231.nc\n",
      "opening:  /home/stephan/sshik1017/CMIP6/data/CMIP6/CMIP/IPSL/IPSL-CM6A-LR/1pctCO2/r1i1p1f1/day/wap/gr/v20180727/wap_day_IPSL-CM6A-LR_1pctCO2_r1i1p1f1_gr_19500101-19991231.nc\n",
      "{'wap_day_IPSL-CM6A-LR_1pctCO2_r1i1p1f1_gr_18500101-19491231.nc': {'variable': 'wap', 'table': 'day', 'model': 'IPSL-CM6A-LR', 'experiment': '1pctCO2', 'member': 'r1i1p1f1', 'grid': 'gr', 'time': '18500101-19491231', 'file_name': 'wap_day_IPSL-CM6A-LR_1pctCO2_r1i1p1f1_gr_18500101-19491231.nc', 'project': 'cmip6', 'tracking_id': 'hdl:21.14100/6abc07ae-3f6c-4813-94b1-0669b1a206ca', 'contact': 'ipsl-cmip6@listes.ipsl.fr', 'st_size': 18884382908, 'st_atime': 1561971470.0, 'st_mtime': 1539039102.0, 'st_ctime': 1539039102.0}, 'wap_day_IPSL-CM6A-LR_1pctCO2_r1i1p1f1_gr_19500101-19991231.nc': {'variable': 'wap', 'table': 'day', 'model': 'IPSL-CM6A-LR', 'experiment': '1pctCO2', 'member': 'r1i1p1f1', 'grid': 'gr', 'time': '19500101-19991231', 'file_name': 'wap_day_IPSL-CM6A-LR_1pctCO2_r1i1p1f1_gr_19500101-19991231.nc', 'project': 'cmip6', 'dataset_id': '/home/stephan/sshik1017/CMIP6/data/CMIP6/CMIP/IPSL/IPSL-CM6A-LR/1pctCO2/r1i1p1f1/day/wap/gr/v20180727', 'stime': '19500101', 'etime': '19991231', 'tracking_id': 'hdl:21.14100/0cbeb461-8c4d-4449-b30b-6add594d959d', 'contact': 'ipsl-cmip6@listes.ipsl.fr', 'st_size': 9436235571, 'st_atime': 1561971472.0, 'st_mtime': 1539024098.0, 'st_ctime': 1539024098.0}}\n",
      "index update:  25\n",
      "index update:  26\n",
      "============================\n",
      "=============================:  /home/stephan/sshik1017/CMIP6/data/CMIP6/CMIP/IPSL/IPSL-CM6A-LR/1pctCO2/r1i1p1f1/day/hursmax/gr/v20180727 [] ['hursmax_day_IPSL-CM6A-LR_1pctCO2_r1i1p1f1_gr_18500101-19991231.nc']\n",
      "opening:  /home/stephan/sshik1017/CMIP6/data/CMIP6/CMIP/IPSL/IPSL-CM6A-LR/1pctCO2/r1i1p1f1/day/hursmax/gr/v20180727/hursmax_day_IPSL-CM6A-LR_1pctCO2_r1i1p1f1_gr_18500101-19991231.nc\n",
      "{'hursmax_day_IPSL-CM6A-LR_1pctCO2_r1i1p1f1_gr_18500101-19991231.nc': {'variable': 'hursmax', 'table': 'day', 'model': 'IPSL-CM6A-LR', 'experiment': '1pctCO2', 'member': 'r1i1p1f1', 'grid': 'gr', 'time': '18500101-19991231', 'file_name': 'hursmax_day_IPSL-CM6A-LR_1pctCO2_r1i1p1f1_gr_18500101-19991231.nc', 'project': 'cmip6', 'dataset_id': '/home/stephan/sshik1017/CMIP6/data/CMIP6/CMIP/IPSL/IPSL-CM6A-LR/1pctCO2/r1i1p1f1/day/hursmax/gr/v20180727', 'stime': '18500101', 'etime': '19991231', 'tracking_id': 'hdl:21.14100/a0865bb7-4f4a-416a-8d5a-15df3c08b954', 'contact': 'ipsl-cmip6@listes.ipsl.fr', 'st_size': 2770664757, 'st_atime': 1561971473.0, 'st_mtime': 1539053137.0, 'st_ctime': 1539053137.0}}\n",
      "index update:  27\n",
      "============================\n",
      "=============================:  /home/stephan/sshik1017/CMIP6/data/CMIP6/CMIP/IPSL/IPSL-CM6A-LR/1pctCO2/r1i1p1f1/day/ua/gr/v20180727 [] ['ua_day_IPSL-CM6A-LR_1pctCO2_r1i1p1f1_gr_19500101-19991231.nc']\n",
      "opening:  /home/stephan/sshik1017/CMIP6/data/CMIP6/CMIP/IPSL/IPSL-CM6A-LR/1pctCO2/r1i1p1f1/day/ua/gr/v20180727/ua_day_IPSL-CM6A-LR_1pctCO2_r1i1p1f1_gr_19500101-19991231.nc\n",
      "{'ua_day_IPSL-CM6A-LR_1pctCO2_r1i1p1f1_gr_19500101-19991231.nc': {'variable': 'ua', 'table': 'day', 'model': 'IPSL-CM6A-LR', 'experiment': '1pctCO2', 'member': 'r1i1p1f1', 'grid': 'gr', 'time': '19500101-19991231', 'file_name': 'ua_day_IPSL-CM6A-LR_1pctCO2_r1i1p1f1_gr_19500101-19991231.nc', 'project': 'cmip6', 'dataset_id': '/home/stephan/sshik1017/CMIP6/data/CMIP6/CMIP/IPSL/IPSL-CM6A-LR/1pctCO2/r1i1p1f1/day/ua/gr/v20180727', 'stime': '19500101', 'etime': '19991231', 'tracking_id': 'hdl:21.14100/6a4d5b98-0d77-45a9-b906-06d4d934a13f', 'contact': 'ipsl-cmip6@listes.ipsl.fr', 'st_size': 8981338616, 'st_atime': 1561971473.0, 'st_mtime': 1539029901.0, 'st_ctime': 1539029901.0}}\n",
      "index update:  28\n",
      "============================\n",
      "=============================:  /home/stephan/sshik1017/CMIP6/data/CMIP6/CMIP/IPSL/IPSL-CM6A-LR/1pctCO2/r1i1p1f1/day/hfss/gr/v20180727 [] ['hfss_day_IPSL-CM6A-LR_1pctCO2_r1i1p1f1_gr_18500101-19991231.nc']\n",
      "opening:  /home/stephan/sshik1017/CMIP6/data/CMIP6/CMIP/IPSL/IPSL-CM6A-LR/1pctCO2/r1i1p1f1/day/hfss/gr/v20180727/hfss_day_IPSL-CM6A-LR_1pctCO2_r1i1p1f1_gr_18500101-19991231.nc\n",
      "{'hfss_day_IPSL-CM6A-LR_1pctCO2_r1i1p1f1_gr_18500101-19991231.nc': {'variable': 'hfss', 'table': 'day', 'model': 'IPSL-CM6A-LR', 'experiment': '1pctCO2', 'member': 'r1i1p1f1', 'grid': 'gr', 'time': '18500101-19991231', 'file_name': 'hfss_day_IPSL-CM6A-LR_1pctCO2_r1i1p1f1_gr_18500101-19991231.nc', 'project': 'cmip6', 'dataset_id': '/home/stephan/sshik1017/CMIP6/data/CMIP6/CMIP/IPSL/IPSL-CM6A-LR/1pctCO2/r1i1p1f1/day/hfss/gr/v20180727', 'stime': '18500101', 'etime': '19991231', 'tracking_id': 'hdl:21.14100/5e70b114-8cb7-4aca-a0bb-c9760f3d66e6', 'contact': 'ipsl-cmip6@listes.ipsl.fr', 'st_size': 3717664247, 'st_atime': 1561971474.0, 'st_mtime': 1560565685.0, 'st_ctime': 1560565685.0}}\n",
      "index update:  29\n",
      "============================\n",
      "=============================:  /home/stephan/sshik1017/CMIP6/data/CMIP6/CMIP/IPSL/IPSL-CM6A-LR/1pctCO2/r1i1p1f1/day/rsds/gr/v20180727 [] ['rsds_day_IPSL-CM6A-LR_1pctCO2_r1i1p1f1_gr_18500101-19991231.nc']\n",
      "opening:  /home/stephan/sshik1017/CMIP6/data/CMIP6/CMIP/IPSL/IPSL-CM6A-LR/1pctCO2/r1i1p1f1/day/rsds/gr/v20180727/rsds_day_IPSL-CM6A-LR_1pctCO2_r1i1p1f1_gr_18500101-19991231.nc\n",
      "{'rsds_day_IPSL-CM6A-LR_1pctCO2_r1i1p1f1_gr_18500101-19991231.nc': {'variable': 'rsds', 'table': 'day', 'model': 'IPSL-CM6A-LR', 'experiment': '1pctCO2', 'member': 'r1i1p1f1', 'grid': 'gr', 'time': '18500101-19991231', 'file_name': 'rsds_day_IPSL-CM6A-LR_1pctCO2_r1i1p1f1_gr_18500101-19991231.nc', 'project': 'cmip6', 'dataset_id': '/home/stephan/sshik1017/CMIP6/data/CMIP6/CMIP/IPSL/IPSL-CM6A-LR/1pctCO2/r1i1p1f1/day/rsds/gr/v20180727', 'stime': '18500101', 'etime': '19991231', 'tracking_id': 'hdl:21.14100/da4e3776-5a89-41aa-8653-b0f9d0fd9466', 'contact': 'ipsl-cmip6@listes.ipsl.fr', 'st_size': 3190957884, 'st_atime': 1561971474.0, 'st_mtime': 1539018167.0, 'st_ctime': 1539018167.0}}\n",
      "index update:  30\n",
      "============================\n",
      "=============================:  /home/stephan/sshik1017/CMIP6/data/CMIP6/CMIP/IPSL/IPSL-CM6A-LR/1pctCO2/r1i1p1f1/day/va/gr/v20180727 [] ['va_day_IPSL-CM6A-LR_1pctCO2_r1i1p1f1_gr_19500101-19991231.nc']\n",
      "opening:  /home/stephan/sshik1017/CMIP6/data/CMIP6/CMIP/IPSL/IPSL-CM6A-LR/1pctCO2/r1i1p1f1/day/va/gr/v20180727/va_day_IPSL-CM6A-LR_1pctCO2_r1i1p1f1_gr_19500101-19991231.nc\n",
      "{'va_day_IPSL-CM6A-LR_1pctCO2_r1i1p1f1_gr_19500101-19991231.nc': {'variable': 'va', 'table': 'day', 'model': 'IPSL-CM6A-LR', 'experiment': '1pctCO2', 'member': 'r1i1p1f1', 'grid': 'gr', 'time': '19500101-19991231', 'file_name': 'va_day_IPSL-CM6A-LR_1pctCO2_r1i1p1f1_gr_19500101-19991231.nc', 'project': 'cmip6', 'dataset_id': '/home/stephan/sshik1017/CMIP6/data/CMIP6/CMIP/IPSL/IPSL-CM6A-LR/1pctCO2/r1i1p1f1/day/va/gr/v20180727', 'stime': '19500101', 'etime': '19991231', 'tracking_id': 'hdl:21.14100/f9574d4f-df5b-44bd-afb2-d0655903f1e3', 'contact': 'ipsl-cmip6@listes.ipsl.fr', 'st_size': 9324166398, 'st_atime': 1561971475.0, 'st_mtime': 1539017038.0, 'st_ctime': 1539017038.0}}\n",
      "index update:  31\n",
      "============================\n",
      "=============================:  /home/stephan/sshik1017/CMIP6/data/CMIP6/CMIP/IPSL/IPSL-CM6A-LR/1pctCO2/r1i1p1f1/day/hurs/gr/v20180727 [] ['hurs_day_IPSL-CM6A-LR_1pctCO2_r1i1p1f1_gr_18500101-19991231.nc']\n",
      "opening:  /home/stephan/sshik1017/CMIP6/data/CMIP6/CMIP/IPSL/IPSL-CM6A-LR/1pctCO2/r1i1p1f1/day/hurs/gr/v20180727/hurs_day_IPSL-CM6A-LR_1pctCO2_r1i1p1f1_gr_18500101-19991231.nc\n",
      "{'hurs_day_IPSL-CM6A-LR_1pctCO2_r1i1p1f1_gr_18500101-19991231.nc': {'variable': 'hurs', 'table': 'day', 'model': 'IPSL-CM6A-LR', 'experiment': '1pctCO2', 'member': 'r1i1p1f1', 'grid': 'gr', 'time': '18500101-19991231', 'file_name': 'hurs_day_IPSL-CM6A-LR_1pctCO2_r1i1p1f1_gr_18500101-19991231.nc', 'project': 'cmip6', 'dataset_id': '/home/stephan/sshik1017/CMIP6/data/CMIP6/CMIP/IPSL/IPSL-CM6A-LR/1pctCO2/r1i1p1f1/day/hurs/gr/v20180727', 'stime': '18500101', 'etime': '19991231', 'tracking_id': 'hdl:21.14100/5debdc8c-7ca5-459d-908b-c2424d8a5218', 'contact': 'ipsl-cmip6@listes.ipsl.fr', 'st_size': 3150825399, 'st_atime': 1561971475.0, 'st_mtime': 1554194322.0, 'st_ctime': 1554194322.0}}\n",
      "index update:  32\n",
      "============================\n",
      "=============================:  /home/stephan/sshik1017/CMIP6/data/CMIP6/CMIP/IPSL/IPSL-CM6A-LR/1pctCO2/r1i1p1f1/day/clt/gr/v20180727 [] ['clt_day_IPSL-CM6A-LR_1pctCO2_r1i1p1f1_gr_18500101-19991231.nc']\n",
      "opening:  /home/stephan/sshik1017/CMIP6/data/CMIP6/CMIP/IPSL/IPSL-CM6A-LR/1pctCO2/r1i1p1f1/day/clt/gr/v20180727/clt_day_IPSL-CM6A-LR_1pctCO2_r1i1p1f1_gr_18500101-19991231.nc\n",
      "{'clt_day_IPSL-CM6A-LR_1pctCO2_r1i1p1f1_gr_18500101-19991231.nc': {'variable': 'clt', 'table': 'day', 'model': 'IPSL-CM6A-LR', 'experiment': '1pctCO2', 'member': 'r1i1p1f1', 'grid': 'gr', 'time': '18500101-19991231', 'file_name': 'clt_day_IPSL-CM6A-LR_1pctCO2_r1i1p1f1_gr_18500101-19991231.nc', 'project': 'cmip6', 'dataset_id': '/home/stephan/sshik1017/CMIP6/data/CMIP6/CMIP/IPSL/IPSL-CM6A-LR/1pctCO2/r1i1p1f1/day/clt/gr/v20180727', 'stime': '18500101', 'etime': '19991231', 'tracking_id': 'hdl:21.14100/e4d5113f-9abd-432e-9934-264254f20abd', 'contact': 'ipsl-cmip6@listes.ipsl.fr', 'st_size': 3119020420, 'st_atime': 1561971476.0, 'st_mtime': 1554194334.0, 'st_ctime': 1554194334.0}}\n",
      "index update:  33\n",
      "============================\n",
      "=============================:  /home/stephan/sshik1017/CMIP6/data/CMIP6/CMIP/IPSL/IPSL-CM6A-LR/1pctCO2/r1i1p1f1/day/prc/gr/v20180727 [] ['prc_day_IPSL-CM6A-LR_1pctCO2_r1i1p1f1_gr_18500101-19991231.nc']\n",
      "opening:  /home/stephan/sshik1017/CMIP6/data/CMIP6/CMIP/IPSL/IPSL-CM6A-LR/1pctCO2/r1i1p1f1/day/prc/gr/v20180727/prc_day_IPSL-CM6A-LR_1pctCO2_r1i1p1f1_gr_18500101-19991231.nc\n",
      "{'prc_day_IPSL-CM6A-LR_1pctCO2_r1i1p1f1_gr_18500101-19991231.nc': {'variable': 'prc', 'table': 'day', 'model': 'IPSL-CM6A-LR', 'experiment': '1pctCO2', 'member': 'r1i1p1f1', 'grid': 'gr', 'time': '18500101-19991231', 'file_name': 'prc_day_IPSL-CM6A-LR_1pctCO2_r1i1p1f1_gr_18500101-19991231.nc', 'project': 'cmip6', 'dataset_id': '/home/stephan/sshik1017/CMIP6/data/CMIP6/CMIP/IPSL/IPSL-CM6A-LR/1pctCO2/r1i1p1f1/day/prc/gr/v20180727', 'stime': '18500101', 'etime': '19991231', 'tracking_id': 'hdl:21.14100/fdb57d2f-e827-4eb2-b25d-b0ec5898c383', 'contact': 'ipsl-cmip6@listes.ipsl.fr', 'st_size': 1259876994, 'st_atime': 1561971476.0, 'st_mtime': 1539064043.0, 'st_ctime': 1539064043.0}}\n",
      "index update:  34\n",
      "============================\n",
      "=============================:  /home/stephan/sshik1017/CMIP6/data/CMIP6/CMIP/IPSL/IPSL-CM6A-LR/1pctCO2/r1i1p1f1/day/rsus/gr/v20180727 [] ['rsus_day_IPSL-CM6A-LR_1pctCO2_r1i1p1f1_gr_18500101-19991231.nc']\n",
      "opening:  /home/stephan/sshik1017/CMIP6/data/CMIP6/CMIP/IPSL/IPSL-CM6A-LR/1pctCO2/r1i1p1f1/day/rsus/gr/v20180727/rsus_day_IPSL-CM6A-LR_1pctCO2_r1i1p1f1_gr_18500101-19991231.nc\n",
      "{'rsus_day_IPSL-CM6A-LR_1pctCO2_r1i1p1f1_gr_18500101-19991231.nc': {'variable': 'rsus', 'table': 'day', 'model': 'IPSL-CM6A-LR', 'experiment': '1pctCO2', 'member': 'r1i1p1f1', 'grid': 'gr', 'time': '18500101-19991231', 'file_name': 'rsus_day_IPSL-CM6A-LR_1pctCO2_r1i1p1f1_gr_18500101-19991231.nc', 'project': 'cmip6', 'dataset_id': '/home/stephan/sshik1017/CMIP6/data/CMIP6/CMIP/IPSL/IPSL-CM6A-LR/1pctCO2/r1i1p1f1/day/rsus/gr/v20180727', 'stime': '18500101', 'etime': '19991231', 'tracking_id': 'hdl:21.14100/4549374d-4dd6-4d37-bd83-dd6d69fbe0f0', 'contact': 'ipsl-cmip6@listes.ipsl.fr', 'st_size': 3258577489, 'st_atime': 1561971477.0, 'st_mtime': 1539009588.0, 'st_ctime': 1539009588.0}}\n",
      "index update:  35\n",
      "============================\n",
      "=============================:  /home/stephan/sshik1017/CMIP6/data/CMIP6/CMIP/IPSL/IPSL-CM6A-LR/1pctCO2/r1i1p1f1/day/hur/gr/v20180727 [] ['hur_day_IPSL-CM6A-LR_1pctCO2_r1i1p1f1_gr_19500101-19991231.nc']\n",
      "opening:  /home/stephan/sshik1017/CMIP6/data/CMIP6/CMIP/IPSL/IPSL-CM6A-LR/1pctCO2/r1i1p1f1/day/hur/gr/v20180727/hur_day_IPSL-CM6A-LR_1pctCO2_r1i1p1f1_gr_19500101-19991231.nc\n",
      "{'hur_day_IPSL-CM6A-LR_1pctCO2_r1i1p1f1_gr_19500101-19991231.nc': {'variable': 'hur', 'table': 'day', 'model': 'IPSL-CM6A-LR', 'experiment': '1pctCO2', 'member': 'r1i1p1f1', 'grid': 'gr', 'time': '19500101-19991231', 'file_name': 'hur_day_IPSL-CM6A-LR_1pctCO2_r1i1p1f1_gr_19500101-19991231.nc', 'project': 'cmip6', 'dataset_id': '/home/stephan/sshik1017/CMIP6/data/CMIP6/CMIP/IPSL/IPSL-CM6A-LR/1pctCO2/r1i1p1f1/day/hur/gr/v20180727', 'stime': '19500101', 'etime': '19991231', 'tracking_id': 'hdl:21.14100/fbb06f76-0b0a-404d-9f0c-fa7b112ec740', 'contact': 'ipsl-cmip6@listes.ipsl.fr', 'st_size': 8477491897, 'st_atime': 1561971477.0, 'st_mtime': 1539027255.0, 'st_ctime': 1539027255.0}}\n",
      "index update:  36\n",
      "============================\n",
      "=============================:  /home/stephan/sshik1017/CMIP6/data/CMIP6/CMIP/IPSL/IPSL-CM6A-LR/1pctCO2/r1i1p1f1/day/tasmin/gr/v20180727 [] ['tasmin_day_IPSL-CM6A-LR_1pctCO2_r1i1p1f1_gr_18500101-19991231.nc']\n",
      "opening:  /home/stephan/sshik1017/CMIP6/data/CMIP6/CMIP/IPSL/IPSL-CM6A-LR/1pctCO2/r1i1p1f1/day/tasmin/gr/v20180727/tasmin_day_IPSL-CM6A-LR_1pctCO2_r1i1p1f1_gr_18500101-19991231.nc\n",
      "{'tasmin_day_IPSL-CM6A-LR_1pctCO2_r1i1p1f1_gr_18500101-19991231.nc': {'variable': 'tasmin', 'table': 'day', 'model': 'IPSL-CM6A-LR', 'experiment': '1pctCO2', 'member': 'r1i1p1f1', 'grid': 'gr', 'time': '18500101-19991231', 'file_name': 'tasmin_day_IPSL-CM6A-LR_1pctCO2_r1i1p1f1_gr_18500101-19991231.nc', 'project': 'cmip6', 'dataset_id': '/home/stephan/sshik1017/CMIP6/data/CMIP6/CMIP/IPSL/IPSL-CM6A-LR/1pctCO2/r1i1p1f1/day/tasmin/gr/v20180727', 'stime': '18500101', 'etime': '19991231', 'tracking_id': 'hdl:21.14100/98499e85-760d-4e88-8770-c5f8dc692f20', 'contact': 'ipsl-cmip6@listes.ipsl.fr', 'st_size': 2722950371, 'st_atime': 1561971478.0, 'st_mtime': 1554194352.0, 'st_ctime': 1554194352.0}}\n",
      "index update:  37\n",
      "============================\n",
      "=============================:  /home/stephan/sshik1017/CMIP6/data/CMIP6/CMIP/IPSL/IPSL-CM6A-LR/1pctCO2/r1i1p1f1/day/snc/gr/v20180727 [] ['snc_day_IPSL-CM6A-LR_1pctCO2_r1i1p1f1_gr_18500101-19991231.nc']\n",
      "opening:  /home/stephan/sshik1017/CMIP6/data/CMIP6/CMIP/IPSL/IPSL-CM6A-LR/1pctCO2/r1i1p1f1/day/snc/gr/v20180727/snc_day_IPSL-CM6A-LR_1pctCO2_r1i1p1f1_gr_18500101-19991231.nc\n",
      "{'snc_day_IPSL-CM6A-LR_1pctCO2_r1i1p1f1_gr_18500101-19991231.nc': {'variable': 'snc', 'table': 'day', 'model': 'IPSL-CM6A-LR', 'experiment': '1pctCO2', 'member': 'r1i1p1f1', 'grid': 'gr', 'time': '18500101-19991231', 'file_name': 'snc_day_IPSL-CM6A-LR_1pctCO2_r1i1p1f1_gr_18500101-19991231.nc', 'project': 'cmip6', 'dataset_id': '/home/stephan/sshik1017/CMIP6/data/CMIP6/CMIP/IPSL/IPSL-CM6A-LR/1pctCO2/r1i1p1f1/day/snc/gr/v20180727', 'stime': '18500101', 'etime': '19991231', 'tracking_id': 'hdl:21.14100/ab8fe356-74f2-487f-a5b1-f0cf21f9af4a', 'contact': 'ipsl-cmip6@listes.ipsl.fr', 'st_size': 584900865, 'st_atime': 1561971478.0, 'st_mtime': 1539049554.0, 'st_ctime': 1539049554.0}}\n",
      "index update:  38\n",
      "============================\n",
      "=============================:  /home/stephan/sshik1017/CMIP6/data/CMIP6/CMIP/IPSL/IPSL-CM6A-LR/1pctCO2/r1i1p1f1/day/prsn/gr/v20180727 [] ['prsn_day_IPSL-CM6A-LR_1pctCO2_r1i1p1f1_gr_18500101-19991231.nc']\n",
      "opening:  /home/stephan/sshik1017/CMIP6/data/CMIP6/CMIP/IPSL/IPSL-CM6A-LR/1pctCO2/r1i1p1f1/day/prsn/gr/v20180727/prsn_day_IPSL-CM6A-LR_1pctCO2_r1i1p1f1_gr_18500101-19991231.nc\n",
      "{'prsn_day_IPSL-CM6A-LR_1pctCO2_r1i1p1f1_gr_18500101-19991231.nc': {'variable': 'prsn', 'table': 'day', 'model': 'IPSL-CM6A-LR', 'experiment': '1pctCO2', 'member': 'r1i1p1f1', 'grid': 'gr', 'time': '18500101-19991231', 'file_name': 'prsn_day_IPSL-CM6A-LR_1pctCO2_r1i1p1f1_gr_18500101-19991231.nc', 'project': 'cmip6', 'dataset_id': '/home/stephan/sshik1017/CMIP6/data/CMIP6/CMIP/IPSL/IPSL-CM6A-LR/1pctCO2/r1i1p1f1/day/prsn/gr/v20180727', 'stime': '18500101', 'etime': '19991231', 'tracking_id': 'hdl:21.14100/71141434-166f-44b5-b78a-db9f000ad775', 'contact': 'ipsl-cmip6@listes.ipsl.fr', 'st_size': 1417313003, 'st_atime': 1561971479.0, 'st_mtime': 1539011027.0, 'st_ctime': 1539011027.0}}\n",
      "index update:  39\n",
      "============================\n"
     ]
    }
   ],
   "source": [
    "prefix = \"/home/stephan/sshik1017/CMIP6/data/CMIP6/\"   # mounted via sshfs\n",
    "\n",
    "ipsl_test = \"CMIP/IPSL/IPSL-CM6A-LR/1pctCO2/r1i1p1f1/day\"\n",
    "# prefix = /work/ik1017/            # on mistral \n",
    "pool_tools.index(\"cmip6\",prefix+ipsl_test)"
   ]
  },
  {
   "cell_type": "code",
   "execution_count": 2,
   "metadata": {},
   "outputs": [
    {
     "data": {
      "text/plain": [
       "{'acknowledged': True}"
      ]
     },
     "execution_count": 2,
     "metadata": {},
     "output_type": "execute_result"
    }
   ],
   "source": [
    "from elasticsearch import Elasticsearch\n",
    "epar = [{'host': 'localhost', 'port': 9200}]\n",
    "es = Elasticsearch(epar)\n",
    "\n",
    "es.indices.delete(index=\"cmip6\",ignore=[400,404])"
   ]
  },
  {
   "cell_type": "code",
   "execution_count": 8,
   "metadata": {},
   "outputs": [],
   "source": [
    "from elasticsearch import Elasticsearch\n",
    "def connect_elasticsearch():\n",
    "    _es = None\n",
    "    _es = Elasticsearch([{'host': 'localhost', 'port': 9200}])\n",
    "    if _es.ping():\n",
    "        print('EL connected')\n",
    "    else:\n",
    "        print('ERROR: EL not connected')\n",
    "    return _es"
   ]
  },
  {
   "cell_type": "code",
   "execution_count": 9,
   "metadata": {},
   "outputs": [
    {
     "name": "stdout",
     "output_type": "stream",
     "text": [
      "EL connected\n"
     ]
    }
   ],
   "source": [
    "es = connect_elasticsearch()"
   ]
  },
  {
   "cell_type": "code",
   "execution_count": 19,
   "metadata": {},
   "outputs": [
    {
     "name": "stdout",
     "output_type": "stream",
     "text": [
      "{'mappings': {'properties': {'activity': {'type': 'keyword'},\n",
      "                             'contact': {'type': 'text'},\n",
      "                             'dataset_id': {'type': 'text'},\n",
      "                             'etime': {'type': 'integer'},\n",
      "                             'experiment': {'type': 'keyword'},\n",
      "                             'grid': {'type': 'keyword'},\n",
      "                             'institution': {'type': 'keyword'},\n",
      "                             'lfile': {'type': 'keyword'},\n",
      "                             'member': {'type': 'keyword'},\n",
      "                             'mip_era': {'type': 'keyword'},\n",
      "                             'model': {'type': 'keyword'},\n",
      "                             'project': {'type': 'keyword'},\n",
      "                             'st_atime': {'type': 'float'},\n",
      "                             'st_ctime': {'type': 'float'},\n",
      "                             'st_mtime': {'type': 'float'},\n",
      "                             'st_size': {'type': 'text'},\n",
      "                             'stime': {'type': 'integer'},\n",
      "                             'table': {'type': 'keyword'},\n",
      "                             'time': {'type': 'text'},\n",
      "                             'tracking_id': {'type': 'keyword'},\n",
      "                             'variable': {'type': 'keyword'},\n",
      "                             'version': {'type': 'keyword'}}}}\n"
     ]
    },
    {
     "data": {
      "text/plain": [
       "{'acknowledged': True, 'shards_acknowledged': True, 'index': 'cmip6'}"
      ]
     },
     "execution_count": 19,
     "metadata": {},
     "output_type": "execute_result"
    }
   ],
   "source": [
    "from pindex import config\n",
    "from pprint import pprint\n",
    "if es.indices.exists('cmip6'):\n",
    "   es.indices.delete(index='cmip6')\n",
    "# index settings\n",
    "fcmip6 = config.settings.FACETS['cmip6']\n",
    "\n",
    "# create index\n",
    "settings = {'mappings': {\n",
    "      'properties': fcmip6\n",
    "      }}\n",
    "pprint(settings)\n",
    "es.indices.create(index='cmip6', ignore=400, body=settings)"
   ]
  },
  {
   "cell_type": "code",
   "execution_count": 9,
   "metadata": {},
   "outputs": [
    {
     "data": {
      "text/plain": [
       "{'acknowledged': True, 'shards_acknowledged': True, 'index': 'cmip6'}"
      ]
     },
     "execution_count": 9,
     "metadata": {},
     "output_type": "execute_result"
    }
   ],
   "source": [
    "if es.indices.exists('cmip6'):\n",
    "   es.indices.delete(index='cmip6')\n",
    "# index settings\n",
    "settings = {\n",
    "    \"mappings\": {\n",
    " \n",
    "        \"properties\": {\n",
    "                \"mip-era\": {\n",
    "                    \"type\": \"keyword\"\n",
    "                },\n",
    "                \"activity\": {\n",
    "                    \"type\": \"keyword\"\n",
    "                }, \n",
    "             \"tracking_id\": {\n",
    "                    \"type\": \"keyword\"\n",
    "                },\n",
    "                \"contact\": {\n",
    "                    \"type\": \"keyword\"\n",
    "                },\n",
    "                \"st_size\": {\n",
    "                    \"type\": \"float\"\n",
    "                },\n",
    "                \"st_atime\": {\n",
    "                    \"type\": \"float\"\n",
    "                }, \n",
    "                \"st_mtime\": {\n",
    "                    \"type\": \"keyword\"\n",
    "                },\n",
    "                \"st_ctime\":{\n",
    "                    \"type\": \"keyword\"\n",
    "                },\n",
    "                \"file_name\":{\n",
    "                    \"type\": \"keyword\"\n",
    "                },\n",
    "                \"project\": {\n",
    "                    \"type\": \"keyword\"\n",
    "                },\n",
    "                \"dataset_id\": {\n",
    "                    \"type\": \"text\"\n",
    "                },\n",
    "                \"stime\": {\n",
    "                    \"type\": \"integer\"\n",
    "                },\n",
    "                \"etime\": {\n",
    "                    \"type\": \"integer\"\n",
    "                }, \n",
    "                     \"institution\": {\n",
    "                    \"type\": \"keyword\"\n",
    "                },\n",
    "                \"model\": {\n",
    "                    \"type\": \"keyword\"\n",
    "                },\n",
    "                \"experiment\": {\n",
    "                    \"type\": \"keyword\"\n",
    "                },\n",
    "                \"member\": {\n",
    "                    \"type\": \"keyword\"\n",
    "                },\n",
    "                \"variable\": {\n",
    "                    \"type\": \"keyword\"\n",
    "                },\n",
    "                \"grid\": {\n",
    "                    \"type\": \"keyword\"\n",
    "                },\n",
    "                \"version\": {\n",
    "                    \"type\": \"keyword\"\n",
    "                },\n",
    "                \"lfile\": {\n",
    "                    \"type\": \"keyword\"\n",
    "                },\n",
    "                \"time\": {\n",
    "                    \"type\": \"text\"\n",
    "                },\n",
    "\n",
    "        }\n",
    "     }\n",
    "}\n",
    "# create index\n",
    "es.indices.create(index='cmip6', ignore=400, body=settings)\n"
   ]
  },
  {
   "cell_type": "code",
   "execution_count": null,
   "metadata": {},
   "outputs": [],
   "source": [
    "              "
   ]
  },
  {
   "cell_type": "code",
   "execution_count": null,
   "metadata": {},
   "outputs": [],
   "source": [
    "60 * 60 * 3\n"
   ]
  },
  {
   "cell_type": "code",
   "execution_count": null,
   "metadata": {},
   "outputs": [],
   "source": [
    "from persistqueue import Queue\n",
    "q = Queue(\"mypath\")\n",
    "q.put('a')\n",
    "q.put('b')\n",
    "q.put('c')\n",
    "q.get()"
   ]
  },
  {
   "cell_type": "code",
   "execution_count": null,
   "metadata": {},
   "outputs": [],
   "source": [
    "q.get()"
   ]
  },
  {
   "cell_type": "code",
   "execution_count": null,
   "metadata": {},
   "outputs": [],
   "source": [
    "import os\n",
    "dirpaths  = [f.path for f in os.scandir('/run/media/stephan/Volume/data') if f.is_dir()]\n",
    "dirpaths"
   ]
  },
  {
   "cell_type": "code",
   "execution_count": null,
   "metadata": {},
   "outputs": [],
   "source": [
    "import os\n",
    "tst = os.stat('/run/media/stephan/Volume/data/hus')\n",
    "print(tst)"
   ]
  },
  {
   "cell_type": "code",
   "execution_count": null,
   "metadata": {},
   "outputs": [],
   "source": [
    "import os\n",
    "\n",
    "proj = \"cmip6\"\n",
    "sh = pool_tools.SHelper(proj=proj, start_dir=\"/run/media/stephan/Volume/data\")\n",
    "print(\"SHelper initialized:\", sh.start_dir)\n",
    "es = sh.get_es()\n",
    "print(es)\n",
    "walk = os.walk(sh.start_dir)\n",
    "i = 0\n",
    "\n",
    "for root, dirs, files in walk:\n",
    "    if len(files) > 0: \n",
    "        print(\"=============================: \",root,dirs,files)\n",
    "        res = sh.worker(root, dirs, files)\n",
    "        # update elastic search\n",
    "        i_list = []\n",
    "        for item, i_dict in res.items():\n",
    "             i += 1\n",
    "             print(\"index update: \", i)\n",
    "             if len(i_dict) > 0:\n",
    "                index_res = es.index(index=proj, id=i, body=i_dict)\n",
    "        print(\"============================\")\n"
   ]
  },
  {
   "cell_type": "code",
   "execution_count": null,
   "metadata": {},
   "outputs": [],
   "source": [
    "## bulk update\n",
    "es = Elasticsearch()\n",
    ">>> # k is a generator expression that produces\n",
    "... # a series of dictionaries containing test data.\n",
    "... # The test data are just letter permutations\n",
    "... # created with itertools.permutations.\n",
    "... #\n",
    "... # We then reference k as the iterator that's\n",
    "... # consumed by the elasticsearch.helpers.bulk method.\n",
    ">>> k = ({'_type':'foo', '_index':'test','letters':''.join(letters)}\n",
    "...      for letters in itertools.permutations(string.letters,2))\n",
    "\n",
    ">>> # calling k.next() shows examples\n",
    "... # (while consuming the generator, of course)\n",
    ">>> # each dict contains a doc type, index, and data (at minimum)\n",
    ">>> k.next()\n",
    "{'_type': 'foo', 'letters': 'ab', '_index': 'test'}\n",
    ">>> k.next()\n",
    "{'_type': 'foo', 'letters': 'ac', '_index': 'test'}\n",
    ">>> # create our test index\n",
    ">>> es.indices.create('test')\n",
    "{u'acknowledged': True}\n",
    ">>> helpers.bulk(es,k)\n",
    "(2650, [])\n",
    ">>> # check to make sure we got what we expected...\n",
    ">>> es.count(index='test')"
   ]
  },
  {
   "cell_type": "code",
   "execution_count": 4,
   "metadata": {},
   "outputs": [],
   "source": [
    "q_string = {\"query\": {\n",
    "               \"bool\": {\n",
    "                   \"must\": [\n",
    "                       {\"match\": {\"variable\": \"tas\"}},\n",
    "                       {\"match\": {\"model\":\"GFDL-CM4\"}},\n",
    "                       {\"match\": {\"time\":'015101-025012'}}\n",
    "                                  ]             \n",
    "                      }\n",
    "               }\n",
    "           }\n",
    "r_string = {\"query\": {\n",
    "               \"bool\": {\n",
    "                   \"must\": [\n",
    "                       {\"match\": {\"stime\": \"055101\"}},\n",
    "                       {\"match\": {\"model\":\"GFDL-CM4\"}}                   \n",
    "                                  ]             \n",
    "                      }\n",
    "               }\n",
    "           }\n",
    "\n",
    "r_string = {\"query\": {\n",
    "               \"bool\": {\n",
    "                   \"filter\": [\n",
    "                       {\"term\": {\"etime\":'19991231'}}\n",
    "                   ]\n",
    "                      }\n",
    "               }\n",
    "           }\n",
    "\n",
    "t_string = {\"query\": {\n",
    "              \"filter\" : [\n",
    "                 {\"term\" : { \"etime\": '19991231'}}\n",
    "              ]\n",
    "            }\n",
    "           }\n",
    "\n",
    "\n",
    "tr_id_string =  {\"query\": {\n",
    "               \"bool\": {\n",
    "                   \"filter\": [\n",
    "                       {\"term\": {\"tracking_id\":\"hdl:21.14100/bb6bcc55-8d61-4622-b85f-818b37f5dd2b\"}}\n",
    "                   ]\n",
    "                      }\n",
    "               }\n",
    "           }\n",
    "\n"
   ]
  },
  {
   "cell_type": "code",
   "execution_count": 6,
   "metadata": {},
   "outputs": [
    {
     "ename": "NameError",
     "evalue": "name 'es' is not defined",
     "output_type": "error",
     "traceback": [
      "\u001b[0;31m---------------------------------------------------------------------------\u001b[0m",
      "\u001b[0;31mNameError\u001b[0m                                 Traceback (most recent call last)",
      "\u001b[0;32m<ipython-input-6-3e7175e0363e>\u001b[0m in \u001b[0;36m<module>\u001b[0;34m\u001b[0m\n\u001b[1;32m      1\u001b[0m \u001b[0;32mimport\u001b[0m \u001b[0mpprint\u001b[0m\u001b[0;34m\u001b[0m\u001b[0;34m\u001b[0m\u001b[0m\n\u001b[1;32m      2\u001b[0m \u001b[0mpp\u001b[0m\u001b[0;34m=\u001b[0m\u001b[0mpprint\u001b[0m\u001b[0;34m.\u001b[0m\u001b[0mPrettyPrinter\u001b[0m\u001b[0;34m(\u001b[0m\u001b[0mindent\u001b[0m\u001b[0;34m=\u001b[0m\u001b[0;36m4\u001b[0m\u001b[0;34m)\u001b[0m\u001b[0;34m\u001b[0m\u001b[0;34m\u001b[0m\u001b[0m\n\u001b[0;32m----> 3\u001b[0;31m \u001b[0mres\u001b[0m \u001b[0;34m=\u001b[0m \u001b[0mes\u001b[0m\u001b[0;34m.\u001b[0m\u001b[0msearch\u001b[0m\u001b[0;34m(\u001b[0m\u001b[0mindex\u001b[0m\u001b[0;34m=\u001b[0m\u001b[0;34m\"cmip6\"\u001b[0m\u001b[0;34m,\u001b[0m \u001b[0mbody\u001b[0m\u001b[0;34m=\u001b[0m\u001b[0mtr_id_string\u001b[0m\u001b[0;34m)\u001b[0m\u001b[0;34m\u001b[0m\u001b[0;34m\u001b[0m\u001b[0m\n\u001b[0m\u001b[1;32m      4\u001b[0m \u001b[0mpp\u001b[0m\u001b[0;34m.\u001b[0m\u001b[0mpprint\u001b[0m\u001b[0;34m(\u001b[0m\u001b[0mres\u001b[0m\u001b[0;34m[\u001b[0m\u001b[0;34m'hits'\u001b[0m\u001b[0;34m]\u001b[0m\u001b[0;34m[\u001b[0m\u001b[0;34m'hits'\u001b[0m\u001b[0;34m]\u001b[0m\u001b[0;34m)\u001b[0m\u001b[0;34m\u001b[0m\u001b[0;34m\u001b[0m\u001b[0m\n",
      "\u001b[0;31mNameError\u001b[0m: name 'es' is not defined"
     ]
    }
   ],
   "source": [
    "import pprint\n",
    "pp=pprint.PrettyPrinter(indent=4)\n",
    "res = es.search(index=\"cmip6\", body=tr_id_string)\n",
    "pp.pprint(res['hits']['hits'])"
   ]
  },
  {
   "cell_type": "code",
   "execution_count": null,
   "metadata": {},
   "outputs": [],
   "source": [
    "import redis\n",
    "\n",
    "r = redis.Redis(password='prolog1..')\n"
   ]
  },
  {
   "cell_type": "code",
   "execution_count": null,
   "metadata": {},
   "outputs": [],
   "source": [
    "r.set('foo', 'bar')\n",
    "value = r.get('foo')\n",
    "print(value)"
   ]
  },
  {
   "cell_type": "code",
   "execution_count": null,
   "metadata": {},
   "outputs": [],
   "source": [
    "r.save()"
   ]
  },
  {
   "cell_type": "code",
   "execution_count": null,
   "metadata": {},
   "outputs": [],
   "source": []
  }
 ],
 "metadata": {
  "kernelspec": {
   "display_name": "Python 3",
   "language": "python",
   "name": "python3"
  },
  "language_info": {
   "codemirror_mode": {
    "name": "ipython",
    "version": 3
   },
   "file_extension": ".py",
   "mimetype": "text/x-python",
   "name": "python",
   "nbconvert_exporter": "python",
   "pygments_lexer": "ipython3",
   "version": "3.6.7"
  }
 },
 "nbformat": 4,
 "nbformat_minor": 2
}
