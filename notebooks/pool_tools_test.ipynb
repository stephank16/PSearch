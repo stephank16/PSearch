{
 "cells": [
  {
   "cell_type": "markdown",
   "metadata": {},
   "source": [
    "# Elastic search ingester \n",
    "\n",
    "## Work Plan: \n",
    "\n",
    "- implement project readers in pool_tools\n",
    "   - every reader returns elastic search ingest items\n",
    "- implement directory walker, generating ingest reqests\n",
    "   - ingest request is input to project reader\n",
    "- use http://python-rq.org/ to queue ingest items\n",
    "- use parallel workers to run elastic search ingest items\n",
    "   - each worker maintains an elesticsearch endpoint\n"
   ]
  },
  {
   "cell_type": "code",
   "execution_count": null,
   "metadata": {},
   "outputs": [],
   "source": [
    "from pindex import pool_tools"
   ]
  },
  {
   "cell_type": "markdown",
   "metadata": {},
   "source": [
    "## References\n",
    "- https://janakiev.com/blog/python-filesystem-analysis/"
   ]
  },
  {
   "cell_type": "code",
   "execution_count": 10,
   "metadata": {},
   "outputs": [
    {
     "name": "stdout",
     "output_type": "stream",
     "text": [
      "Collecting rq\n",
      "\u001b[?25l  Downloading https://files.pythonhosted.org/packages/9d/f5/6a302ee297d8031ff955f26c0f38b043972fa5f45708f6865598bdac249f/rq-1.0.tar.gz (45kB)\n",
      "\u001b[K    100% |████████████████████████████████| 51kB 1.7MB/s \n",
      "\u001b[?25hRequirement already satisfied: redis>=3.0.0 in /home/stephan/anaconda3/envs/ana3/lib/python3.6/site-packages (from rq) (3.2.1)\n",
      "Requirement already satisfied: click>=5.0 in /home/stephan/anaconda3/envs/ana3/lib/python3.6/site-packages (from rq) (7.0)\n",
      "Building wheels for collected packages: rq\n",
      "  Building wheel for rq (setup.py) ... \u001b[?25ldone\n",
      "\u001b[?25h  Stored in directory: /home/stephan/.cache/pip/wheels/91/76/0f/0b400b897b4d2b889383bc25d791d6116d6c2ab9044a4ba35a\n",
      "Successfully built rq\n",
      "Installing collected packages: rq\n",
      "Successfully installed rq-1.0\n"
     ]
    }
   ],
   "source": [
    "#!pip install persist-queue[extra]\n",
    "!pip install rq"
   ]
  },
  {
   "cell_type": "code",
   "execution_count": 2,
   "metadata": {},
   "outputs": [
    {
     "name": "stderr",
     "output_type": "stream",
     "text": [
      "Default tempdir '/tmp/tmp3j2i9ke6' is not on the same filesystem with queue path 'mypath',defaulting to 'mypath'.\n"
     ]
    },
    {
     "data": {
      "text/plain": [
       "'a'"
      ]
     },
     "execution_count": 2,
     "metadata": {},
     "output_type": "execute_result"
    }
   ],
   "source": [
    "from persistqueue import Queue\n",
    "q = Queue(\"mypath\")\n",
    "q.put('a')\n",
    "q.put('b')\n",
    "q.put('c')\n",
    "q.get()"
   ]
  },
  {
   "cell_type": "code",
   "execution_count": 3,
   "metadata": {},
   "outputs": [
    {
     "data": {
      "text/plain": [
       "'b'"
      ]
     },
     "execution_count": 3,
     "metadata": {},
     "output_type": "execute_result"
    }
   ],
   "source": [
    "q.get()"
   ]
  },
  {
   "cell_type": "code",
   "execution_count": 7,
   "metadata": {},
   "outputs": [
    {
     "data": {
      "text/plain": [
       "['/run/media/stephan/Volume/data/hus',\n",
       " '/run/media/stephan/Volume/data/pr',\n",
       " '/run/media/stephan/Volume/data/ta',\n",
       " '/run/media/stephan/Volume/data/tas',\n",
       " '/run/media/stephan/Volume/data/tasmax',\n",
       " '/run/media/stephan/Volume/data/tasmin']"
      ]
     },
     "execution_count": 7,
     "metadata": {},
     "output_type": "execute_result"
    }
   ],
   "source": [
    "import os\n",
    "dirpaths  = [f.path for f in os.scandir('/run/media/stephan/Volume/data') if f.is_dir()]\n",
    "dirpaths"
   ]
  },
  {
   "cell_type": "code",
   "execution_count": 10,
   "metadata": {},
   "outputs": [
    {
     "name": "stdout",
     "output_type": "stream",
     "text": [
      "SHelper initialized: /run/media/stephan/Volume/data\n",
      "Elastic search endpoint:  [{'host': 'localhost', 'port': 9200}]\n",
      "<Elasticsearch([{'host': 'localhost', 'port': 9200}])>\n",
      "=============================:  /run/media/stephan/Volume/data/hus ['gr1'] ['hus_day_IPSL-CM6A-LR_abrupt-4xCO2_r10i1p1f1_gr_18501001-18541231.nc']\n",
      "index update:  1\n",
      "============================\n",
      "=============================:  /run/media/stephan/Volume/data/hus/gr1/v20180701 [] ['hus_Amon_GFDL-CM4_piControl_r1i1p1f1_gr1_015101-025012.nc', 'hus_Amon_GFDL-CM4_piControl_r1i1p1f1_gr1_025101-035012.nc', 'hus_Amon_GFDL-CM4_piControl_r1i1p1f1_gr1_035101-045012.nc', 'hus_Amon_GFDL-CM4_piControl_r1i1p1f1_gr1_045101-055012.nc', 'hus_Amon_GFDL-CM4_piControl_r1i1p1f1_gr1_055101-065012.nc']\n",
      "index update:  2\n",
      "index update:  3\n",
      "index update:  4\n",
      "index update:  5\n",
      "index update:  6\n",
      "============================\n",
      "=============================:  /run/media/stephan/Volume/data/pr [] ['pr_Amon_GFDL-AM4_amip_r1i1p1f1_gr1_198001-201412.nc', 'pr_Amon_GFDL-CM4_piControl_r1i1p1f1_gr1_015101-025012.nc', 'pr_Amon_GFDL-CM4_piControl_r1i1p1f1_gr1_025101-035012.nc', 'pr_Amon_GFDL-CM4_piControl_r1i1p1f1_gr1_035101-045012.nc', 'pr_Amon_GFDL-CM4_piControl_r1i1p1f1_gr1_045101-055012.nc', 'pr_Amon_GFDL-CM4_piControl_r1i1p1f1_gr1_055101-065012.nc', 'pr_day_IPSL-CM6A-LR_piControl_r1i1p1f1_gr_18500101-23491231.nc', 'pr_day_IPSL-CM6A-LR_piControl_r1i1p1f1_gr_23500101-28491231.nc', 'pr_day_IPSL-CM6A-LR_piControl_r1i1p1f1_gr_28500101-30491231.nc']\n",
      "index update:  7\n",
      "index update:  8\n",
      "index update:  9\n",
      "index update:  10\n",
      "index update:  11\n",
      "index update:  12\n",
      "index update:  13\n",
      "index update:  14\n",
      "index update:  15\n",
      "============================\n",
      "=============================:  /run/media/stephan/Volume/data/ta ['gr1'] ['ta700_CFday_IPSL-CM6A-LR_1pctCO2_r1i1p1f1_gr_18500101-19991231.nc']\n",
      "index update:  16\n",
      "============================\n",
      "=============================:  /run/media/stephan/Volume/data/ta/gr1/v20180701 [] ['ta_Amon_GFDL-CM4_piControl_r1i1p1f1_gr1_015101-025012.nc', 'ta_Amon_GFDL-CM4_piControl_r1i1p1f1_gr1_025101-035012.nc', 'ta_Amon_GFDL-CM4_piControl_r1i1p1f1_gr1_035101-045012.nc', 'ta_Amon_GFDL-CM4_piControl_r1i1p1f1_gr1_045101-055012.nc', 'ta_Amon_GFDL-CM4_piControl_r1i1p1f1_gr1_055101-065012.nc']\n",
      "index update:  17\n",
      "index update:  18\n",
      "index update:  19\n",
      "index update:  20\n",
      "index update:  21\n",
      "============================\n",
      "=============================:  /run/media/stephan/Volume/data/tas [] ['tas_Amon_CESM2_piControl_r1i1p1f1_gn_000101-009912.nc', 'tas_Amon_CESM2_piControl_r1i1p1f1_gn_010001-019912.nc', 'tas_Amon_CESM2_piControl_r1i1p1f1_gn_020001-029912.nc', 'tas_Amon_CESM2_piControl_r1i1p1f1_gn_030001-039912.nc', 'tas_Amon_CESM2_piControl_r1i1p1f1_gn_040001-049912.nc', 'tas_Amon_CESM2_piControl_r1i1p1f1_gn_050001-059912.nc', 'tas_Amon_CESM2_piControl_r1i1p1f1_gn_060001-069912.nc', 'tas_Amon_CESM2_piControl_r1i1p1f1_gn_070001-079912.nc', 'tas_Amon_CESM2_piControl_r1i1p1f1_gn_080001-089912.nc', 'tas_Amon_CESM2_piControl_r1i1p1f1_gn_090001-099912.nc', 'tas_Amon_CESM2_piControl_r1i1p1f1_gn_100001-109912.nc', 'tas_Amon_CESM2_piControl_r1i1p1f1_gn_110001-120012.nc', 'tas_Amon_GFDL-CM4_piControl_r1i1p1f1_gr1_015101-025012.nc', 'tas_Amon_GFDL-CM4_piControl_r1i1p1f1_gr1_025101-035012.nc', 'tas_Amon_GFDL-CM4_piControl_r1i1p1f1_gr1_035101-045012.nc', 'tas_Amon_GFDL-CM4_piControl_r1i1p1f1_gr1_045101-055012.nc', 'tas_Amon_GFDL-CM4_piControl_r1i1p1f1_gr1_055101-065012.nc']\n",
      "index update:  22\n",
      "index update:  23\n",
      "index update:  24\n",
      "index update:  25\n",
      "index update:  26\n",
      "index update:  27\n",
      "index update:  28\n",
      "index update:  29\n",
      "index update:  30\n",
      "index update:  31\n",
      "index update:  32\n",
      "index update:  33\n",
      "index update:  34\n",
      "index update:  35\n",
      "index update:  36\n",
      "index update:  37\n",
      "index update:  38\n",
      "============================\n",
      "=============================:  /run/media/stephan/Volume/data/tasmax/gr1/v20180701 [] ['tasmax_Amon_GFDL-CM4_piControl_r1i1p1f1_gr1_015101-025012.nc', 'tasmax_Amon_GFDL-CM4_piControl_r1i1p1f1_gr1_025101-035012.nc', 'tasmax_Amon_GFDL-CM4_piControl_r1i1p1f1_gr1_035101-045012.nc', 'tasmax_Amon_GFDL-CM4_piControl_r1i1p1f1_gr1_045101-055012.nc', 'tasmax_Amon_GFDL-CM4_piControl_r1i1p1f1_gr1_055101-065012.nc']\n",
      "index update:  39\n",
      "index update:  40\n",
      "index update:  41\n",
      "index update:  42\n",
      "index update:  43\n",
      "============================\n",
      "=============================:  /run/media/stephan/Volume/data/tasmin/gr1/v20180701 [] ['tasmin_Amon_GFDL-CM4_piControl_r1i1p1f1_gr1_015101-025012.nc', 'tasmin_Amon_GFDL-CM4_piControl_r1i1p1f1_gr1_025101-035012.nc', 'tasmin_Amon_GFDL-CM4_piControl_r1i1p1f1_gr1_035101-045012.nc', 'tasmin_Amon_GFDL-CM4_piControl_r1i1p1f1_gr1_045101-055012.nc', 'tasmin_Amon_GFDL-CM4_piControl_r1i1p1f1_gr1_055101-065012.nc']\n",
      "index update:  44\n",
      "index update:  45\n",
      "index update:  46\n",
      "index update:  47\n",
      "index update:  48\n",
      "============================\n"
     ]
    }
   ],
   "source": [
    "import os\n",
    "\n",
    "proj = \"cmip6\"\n",
    "sh = pool_tools.SHelper(proj=proj, start_dir=\"/run/media/stephan/Volume/data\")\n",
    "print(\"SHelper initialized:\", sh.start_dir)\n",
    "es = sh.get_es()\n",
    "print(es)\n",
    "walk = os.walk(sh.start_dir)\n",
    "i = 0\n",
    "\n",
    "for root, dirs, files in walk:\n",
    "    if len(files) > 0: \n",
    "        print(\"=============================: \",root,dirs,files)\n",
    "        res = sh.worker(root, dirs, files)\n",
    "        # update elastic search\n",
    "        i_list = []\n",
    "        for item, i_dict in res.items():\n",
    "             i += 1\n",
    "             print(\"index update: \", i)\n",
    "             if len(i_dict) > 0:\n",
    "                index_res = es.index(index=proj, id=i, body=i_dict)\n",
    "        print(\"============================\")\n"
   ]
  },
  {
   "cell_type": "code",
   "execution_count": null,
   "metadata": {},
   "outputs": [],
   "source": [
    "## bulk update\n",
    "es = Elasticsearch()\n",
    ">>> # k is a generator expression that produces\n",
    "... # a series of dictionaries containing test data.\n",
    "... # The test data are just letter permutations\n",
    "... # created with itertools.permutations.\n",
    "... #\n",
    "... # We then reference k as the iterator that's\n",
    "... # consumed by the elasticsearch.helpers.bulk method.\n",
    ">>> k = ({'_type':'foo', '_index':'test','letters':''.join(letters)}\n",
    "...      for letters in itertools.permutations(string.letters,2))\n",
    "\n",
    ">>> # calling k.next() shows examples\n",
    "... # (while consuming the generator, of course)\n",
    ">>> # each dict contains a doc type, index, and data (at minimum)\n",
    ">>> k.next()\n",
    "{'_type': 'foo', 'letters': 'ab', '_index': 'test'}\n",
    ">>> k.next()\n",
    "{'_type': 'foo', 'letters': 'ac', '_index': 'test'}\n",
    ">>> # create our test index\n",
    ">>> es.indices.create('test')\n",
    "{u'acknowledged': True}\n",
    ">>> helpers.bulk(es,k)\n",
    "(2650, [])\n",
    ">>> # check to make sure we got what we expected...\n",
    ">>> es.count(index='test')"
   ]
  },
  {
   "cell_type": "code",
   "execution_count": 4,
   "metadata": {},
   "outputs": [],
   "source": [
    "q_string = {\"query\": {\n",
    "               \"bool\": {\n",
    "                   \"must\": [\n",
    "                       {\"match\": {\"variable\": \"tas\"}},\n",
    "                       {\"match\": {\"model\":\"GFDL-CM4\"}},\n",
    "                       {\"match\": {\"time\":'015101-025012'}}\n",
    "                                  ]             \n",
    "                      }\n",
    "               }\n",
    "           }\n",
    "r_string = {\"query\": {\n",
    "               \"bool\": {\n",
    "                   \"must\": [\n",
    "                       {\"match\": {\"stime\": \"055101\"}},\n",
    "                       {\"match\": {\"model\":\"GFDL-CM4\"}}                   \n",
    "                                  ]             \n",
    "                      }\n",
    "               }\n",
    "           }\n",
    "\n",
    "r_string = {\"query\": {\n",
    "               \"bool\": {\n",
    "                   \"filter\": [\n",
    "                       {\"term\": {\"stime\":\"055101\"}}\n",
    "                   ]\n",
    "                      }\n",
    "               }\n",
    "           }\n",
    "\n",
    "t_string = {\"query\": {\n",
    "              \"filter\" : {\n",
    "                 \"term\" : { \"stime\": \"015101\"}\n",
    "                }\n",
    "            }}"
   ]
  },
  {
   "cell_type": "code",
   "execution_count": 5,
   "metadata": {},
   "outputs": [
    {
     "name": "stdout",
     "output_type": "stream",
     "text": [
      "[   {   '_id': '6',\n",
      "        '_index': 'cmip6',\n",
      "        '_score': 0.0,\n",
      "        '_source': {   'dataset_id': '/run/media/stephan/Volume/data/hus/gr1/v20180701',\n",
      "                       'etime': '065012',\n",
      "                       'experiment': 'piControl',\n",
      "                       'file_name': 'hus_Amon_GFDL-CM4_piControl_r1i1p1f1_gr1_055101-065012.nc',\n",
      "                       'grid': 'gr1',\n",
      "                       'member': 'r1i1p1f1',\n",
      "                       'model': 'GFDL-CM4',\n",
      "                       'project': 'cmip6',\n",
      "                       'stime': '055101',\n",
      "                       'table': 'Amon',\n",
      "                       'time': '055101-065012',\n",
      "                       'variable': 'hus'},\n",
      "        '_type': '_doc'},\n",
      "    {   '_id': '21',\n",
      "        '_index': 'cmip6',\n",
      "        '_score': 0.0,\n",
      "        '_source': {   'dataset_id': '/run/media/stephan/Volume/data/ta/gr1/v20180701',\n",
      "                       'etime': '065012',\n",
      "                       'experiment': 'piControl',\n",
      "                       'file_name': 'ta_Amon_GFDL-CM4_piControl_r1i1p1f1_gr1_055101-065012.nc',\n",
      "                       'grid': 'gr1',\n",
      "                       'member': 'r1i1p1f1',\n",
      "                       'model': 'GFDL-CM4',\n",
      "                       'project': 'cmip6',\n",
      "                       'stime': '055101',\n",
      "                       'table': 'Amon',\n",
      "                       'time': '055101-065012',\n",
      "                       'variable': 'ta'},\n",
      "        '_type': '_doc'},\n",
      "    {   '_id': '38',\n",
      "        '_index': 'cmip6',\n",
      "        '_score': 0.0,\n",
      "        '_source': {   'dataset_id': '/run/media/stephan/Volume/data/tas',\n",
      "                       'etime': '065012',\n",
      "                       'experiment': 'piControl',\n",
      "                       'file_name': 'tas_Amon_GFDL-CM4_piControl_r1i1p1f1_gr1_055101-065012.nc',\n",
      "                       'grid': 'gr1',\n",
      "                       'member': 'r1i1p1f1',\n",
      "                       'model': 'GFDL-CM4',\n",
      "                       'project': 'cmip6',\n",
      "                       'stime': '055101',\n",
      "                       'table': 'Amon',\n",
      "                       'time': '055101-065012',\n",
      "                       'variable': 'tas'},\n",
      "        '_type': '_doc'},\n",
      "    {   '_id': '43',\n",
      "        '_index': 'cmip6',\n",
      "        '_score': 0.0,\n",
      "        '_source': {   'dataset_id': '/run/media/stephan/Volume/data/tasmax/gr1/v20180701',\n",
      "                       'etime': '065012',\n",
      "                       'experiment': 'piControl',\n",
      "                       'file_name': 'tasmax_Amon_GFDL-CM4_piControl_r1i1p1f1_gr1_055101-065012.nc',\n",
      "                       'grid': 'gr1',\n",
      "                       'member': 'r1i1p1f1',\n",
      "                       'model': 'GFDL-CM4',\n",
      "                       'project': 'cmip6',\n",
      "                       'stime': '055101',\n",
      "                       'table': 'Amon',\n",
      "                       'time': '055101-065012',\n",
      "                       'variable': 'tasmax'},\n",
      "        '_type': '_doc'},\n",
      "    {   '_id': '48',\n",
      "        '_index': 'cmip6',\n",
      "        '_score': 0.0,\n",
      "        '_source': {   'dataset_id': '/run/media/stephan/Volume/data/tasmin/gr1/v20180701',\n",
      "                       'etime': '065012',\n",
      "                       'experiment': 'piControl',\n",
      "                       'file_name': 'tasmin_Amon_GFDL-CM4_piControl_r1i1p1f1_gr1_055101-065012.nc',\n",
      "                       'grid': 'gr1',\n",
      "                       'member': 'r1i1p1f1',\n",
      "                       'model': 'GFDL-CM4',\n",
      "                       'project': 'cmip6',\n",
      "                       'stime': '055101',\n",
      "                       'table': 'Amon',\n",
      "                       'time': '055101-065012',\n",
      "                       'variable': 'tasmin'},\n",
      "        '_type': '_doc'}]\n"
     ]
    }
   ],
   "source": [
    "import pprint\n",
    "pp=pprint.PrettyPrinter(indent=4)\n",
    "res = es.search(index=\"cmip6\", body=r_string)\n",
    "pp.pprint(res['hits']['hits'])"
   ]
  },
  {
   "cell_type": "code",
   "execution_count": 7,
   "metadata": {},
   "outputs": [],
   "source": [
    "import redis\n",
    "\n",
    "r = redis.Redis(password='prolog1..')\n"
   ]
  },
  {
   "cell_type": "code",
   "execution_count": 8,
   "metadata": {},
   "outputs": [
    {
     "name": "stdout",
     "output_type": "stream",
     "text": [
      "b'bar'\n"
     ]
    }
   ],
   "source": [
    "r.set('foo', 'bar')\n",
    "value = r.get('foo')\n",
    "print(value)"
   ]
  },
  {
   "cell_type": "code",
   "execution_count": 9,
   "metadata": {},
   "outputs": [
    {
     "data": {
      "text/plain": [
       "True"
      ]
     },
     "execution_count": 9,
     "metadata": {},
     "output_type": "execute_result"
    }
   ],
   "source": [
    "r.save()"
   ]
  },
  {
   "cell_type": "code",
   "execution_count": null,
   "metadata": {},
   "outputs": [],
   "source": []
  }
 ],
 "metadata": {
  "kernelspec": {
   "display_name": "Python 3",
   "language": "python",
   "name": "python3"
  },
  "language_info": {
   "codemirror_mode": {
    "name": "ipython",
    "version": 3
   },
   "file_extension": ".py",
   "mimetype": "text/x-python",
   "name": "python",
   "nbconvert_exporter": "python",
   "pygments_lexer": "ipython3",
   "version": "3.6.7"
  }
 },
 "nbformat": 4,
 "nbformat_minor": 2
}
