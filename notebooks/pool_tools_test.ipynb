{
 "cells": [
  {
   "cell_type": "markdown",
   "metadata": {},
   "source": [
    "## References\n",
    "- https://janakiev.com/blog/python-filesystem-analysis/\n",
    "\n",
    "- dependencies:\n",
    "    - (optional - optional extension in the future: pip install persist-queue[extra] ( https://github.com/peter-wangxu/persist-queue ) \n",
    "    - pip install rq ( https://python-rq.org/ ) \n",
    "    \n",
    "- related work\n",
    "    - https://github.com/cedadev/facet-scanner\n",
    "    - https://github.com/cedadev/ceda-elasticsearch-tools"
   ]
  },
  {
   "cell_type": "markdown",
   "metadata": {},
   "source": [
    "# Elastic search ingester \n",
    "\n",
    "## Work Plan: \n",
    "\n",
    "- implement project readers in pool_tools\n",
    "   - every reader returns elastic search ingest items\n",
    "- implement directory walker, generating ingest reqests\n",
    "   - ingest request is input to project reader\n",
    "- track index status information in index itself    \n",
    "- use http://python-rq.org/ to queue ingest items\n",
    "- use parallel workers to run elastic search ingest items\n",
    "   - each worker maintains an elesticsearch endpoint\n"
   ]
  },
  {
   "cell_type": "code",
   "execution_count": null,
   "metadata": {},
   "outputs": [],
   "source": [
    "# for development: auto reload of packages\n",
    "%load_ext autoreload"
   ]
  },
  {
   "cell_type": "code",
   "execution_count": 1,
   "metadata": {},
   "outputs": [],
   "source": [
    "import os\n",
    "from pindex import pool_tools"
   ]
  },
  {
   "cell_type": "code",
   "execution_count": 2,
   "metadata": {},
   "outputs": [
    {
     "name": "stdout",
     "output_type": "stream",
     "text": [
      "Project handler initialized: /work/ik1017/CMIP6/data/CMIP6/CMIP/IPSL/IPSL-CM6A-LR/1pctCO2/r1i1p1f1/Ofx/masscello/gn/\n",
      "=============================:  /work/ik1017/CMIP6/data/CMIP6/CMIP/IPSL/IPSL-CM6A-LR/1pctCO2/r1i1p1f1/Ofx/masscello/gn/v20180727 [] ['masscello_Ofx_IPSL-CM6A-LR_1pctCO2_r1i1p1f1_gn.nc']\n",
      "['masscello', 'Ofx', 'IPSL-CM6A-LR', '1pctCO2', 'r1i1p1f1', 'gn']\n",
      "dict_keys(['variable', 'table', 'model', 'experiment', 'member', 'grid', 'time'])\n",
      "opening:  /work/ik1017/CMIP6/data/CMIP6/CMIP/IPSL/IPSL-CM6A-LR/1pctCO2/r1i1p1f1/Ofx/masscello/gn/v20180727/masscello_Ofx_IPSL-CM6A-LR_1pctCO2_r1i1p1f1_gn.nc\n",
      "{'masscello_Ofx_IPSL-CM6A-LR_1pctCO2_r1i1p1f1_gn.nc': {'variable': 'masscello', 'table': 'Ofx', 'model': 'IPSL-CM6A-LR', 'experiment': '1pctCO2', 'member': 'r1i1p1f1', 'grid': 'gn', 'file_name': 'masscello_Ofx_IPSL-CM6A-LR_1pctCO2_r1i1p1f1_gn.nc', 'project': 'cmip6', 'dataset_id': '/work/ik1017/CMIP6/data/CMIP6/CMIP/IPSL/IPSL-CM6A-LR/1pctCO2/r1i1p1f1/Ofx/masscello/gn/v20180727', 'tracking_id': 'hdl:21.14100/1300474a-47a2-4029-88e1-dd3957b3a537', 'contact': 'ipsl-cmip6@listes.ipsl.fr', 'st_size': 8762397, 'st_atime': 1581081059.0, 'st_mtime': 1539027566.0, 'st_ctime': 1539027566.0}}\n",
      "index update:  1\n",
      "============================\n"
     ]
    }
   ],
   "source": [
    "prefix = \"/work/ik1017/CMIP6/data/CMIP6/\"   # mounted via sshfs\n",
    "\n",
    "#ipsl_test = \"CMIP/IPSL/IPSL-CM6A-LR/1pctCO2/r1i1p1f1/\"\n",
    "ipsl_test = \"CMIP/IPSL/IPSL-CM6A-LR/1pctCO2/r1i1p1f1/Ofx/masscello/gn/\"\n",
    "# prefix = /work/ik1017/            # on mistral \n",
    "#pool_tools.index(\"cmip6\",prefix+ipsl_test)\n",
    "pool_tools.tqueue(\"cmip6\",'_1',prefix+ipsl_test)"
   ]
  },
  {
   "cell_type": "markdown",
   "metadata": {},
   "source": [
    "## Test queries"
   ]
  },
  {
   "cell_type": "code",
   "execution_count": null,
   "metadata": {},
   "outputs": [],
   "source": [
    "5 * 60 / 500"
   ]
  },
  {
   "cell_type": "code",
   "execution_count": null,
   "metadata": {},
   "outputs": [],
   "source": [
    "60 * 60 * 24"
   ]
  },
  {
   "cell_type": "markdown",
   "metadata": {},
   "source": [
    "## Tests with parallel indexing approaches"
   ]
  },
  {
   "cell_type": "code",
   "execution_count": null,
   "metadata": {},
   "outputs": [],
   "source": [
    "from persistqueue import Queue\n",
    "q = Queue(\"/tmp/tst1\")\n",
    "in1 = {'a':'a1','b':'b1'}\n",
    "q.put(in1)\n",
    "q.put('b')\n",
    "q.put('c')\n",
    "q.get()"
   ]
  },
  {
   "cell_type": "code",
   "execution_count": 5,
   "metadata": {},
   "outputs": [
    {
     "data": {
      "text/plain": [
       "{'variable': 'tsl',\n",
       " 'table': 'Lmon',\n",
       " 'model': 'IPSL-CM6A-LR',\n",
       " 'experiment': '1pctCO2',\n",
       " 'member': 'r1i1p1f1',\n",
       " 'grid': 'gr',\n",
       " 'time': '185001-199912',\n",
       " 'file_name': 'tsl_Lmon_IPSL-CM6A-LR_1pctCO2_r1i1p1f1_gr_185001-199912.nc',\n",
       " 'project': 'cmip6',\n",
       " 'dataset_id': '/work/ik1017/CMIP6/data/CMIP6/CMIP/IPSL/IPSL-CM6A-LR/1pctCO2/r1i1p1f1/Lmon/tsl/gr/v20180727',\n",
       " 'stime': '185001',\n",
       " 'etime': '199912',\n",
       " 'tracking_id': 'hdl:21.14100/fb831079-b93b-493d-a7f0-8e03160a9bc7',\n",
       " 'contact': 'ipsl-cmip6@listes.ipsl.fr',\n",
       " 'st_size': 555091391,\n",
       " 'st_atime': 1581077226.0,\n",
       " 'st_mtime': 1539030087.0,\n",
       " 'st_ctime': 1539030087.0}"
      ]
     },
     "execution_count": 5,
     "metadata": {},
     "output_type": "execute_result"
    }
   ],
   "source": [
    "from persistqueue import Queue\n",
    "tq = Queue(\"/tmp/cmip6\")\n",
    "tq.get()\n",
    "tq.get()"
   ]
  },
  {
   "cell_type": "code",
   "execution_count": 4,
   "metadata": {},
   "outputs": [
    {
     "data": {
      "text/plain": [
       "['/work/ik1017/CMIP6/data/CMIP6/CMIP/IPSL/IPSL-CM6A-LR/1pctCO2/r1i1p1f1/Ofx/masscello/gn/v20180727']"
      ]
     },
     "execution_count": 4,
     "metadata": {},
     "output_type": "execute_result"
    }
   ],
   "source": [
    "import os\n",
    "dirpaths  = [f.path for f in os.scandir(prefix+ipsl_test) if f.is_dir()]\n",
    "dirpaths"
   ]
  },
  {
   "cell_type": "code",
   "execution_count": null,
   "metadata": {},
   "outputs": [],
   "source": [
    "q_string = {\"query\": {\n",
    "               \"bool\": {\n",
    "                   \"must\": [\n",
    "                       {\"match\": {\"variable\": \"tas\"}},\n",
    "                       {\"match\": {\"model\":\"GFDL-CM4\"}},\n",
    "                       {\"match\": {\"time\":'015101-025012'}}\n",
    "                                  ]             \n",
    "                      }\n",
    "               }\n",
    "           }\n",
    "r_string = {\"query\": {\n",
    "               \"bool\": {\n",
    "                   \"must\": [\n",
    "                       {\"match\": {\"stime\": \"055101\"}},\n",
    "                       {\"match\": {\"model\":\"GFDL-CM4\"}}                   \n",
    "                                  ]             \n",
    "                      }\n",
    "               }\n",
    "           }\n",
    "\n",
    "r_string = {\"query\": {\n",
    "               \"bool\": {\n",
    "                   \"filter\": [\n",
    "                       {\"term\": {\"etime\":'19991231'}}\n",
    "                   ]\n",
    "                      }\n",
    "               }\n",
    "           }\n",
    "\n",
    "t_string = {\"query\": {\n",
    "              \"filter\" : [\n",
    "                 {\"term\" : { \"etime\": '19991231'}}\n",
    "              ]\n",
    "            }\n",
    "           }\n",
    "\n",
    "\n",
    "tr_id_string =  {\"query\": {\n",
    "               \"bool\": {\n",
    "                   \"filter\": [\n",
    "                       {\"term\": {\"tracking_id\":\"hdl:21.14100/bb6bcc55-8d61-4622-b85f-818b37f5dd2b\"}}\n",
    "                   ]\n",
    "                      }\n",
    "               }\n",
    "           }\n",
    "\n"
   ]
  },
  {
   "cell_type": "code",
   "execution_count": null,
   "metadata": {},
   "outputs": [],
   "source": [
    "import pprint\n",
    "pp=pprint.PrettyPrinter(indent=4)\n",
    "res = es.search(index=\"cmip6\", body=tr_id_string)\n",
    "pp.pprint(res['hits']['hits'])"
   ]
  },
  {
   "cell_type": "code",
   "execution_count": null,
   "metadata": {},
   "outputs": [],
   "source": [
    "import redis\n",
    "\n",
    "r = redis.Redis(password='prolog1..')\n"
   ]
  },
  {
   "cell_type": "code",
   "execution_count": null,
   "metadata": {},
   "outputs": [],
   "source": [
    "r.set('foo', 'bar')\n",
    "value = r.get('foo')\n",
    "print(value)"
   ]
  },
  {
   "cell_type": "code",
   "execution_count": null,
   "metadata": {},
   "outputs": [],
   "source": [
    "r.save()"
   ]
  },
  {
   "cell_type": "code",
   "execution_count": null,
   "metadata": {},
   "outputs": [],
   "source": []
  }
 ],
 "metadata": {
  "kernelspec": {
   "display_name": "Python 3",
   "language": "python",
   "name": "python3"
  },
  "language_info": {
   "codemirror_mode": {
    "name": "ipython",
    "version": 3
   },
   "file_extension": ".py",
   "mimetype": "text/x-python",
   "name": "python",
   "nbconvert_exporter": "python",
   "pygments_lexer": "ipython3",
   "version": "3.6.7"
  }
 },
 "nbformat": 4,
 "nbformat_minor": 4
}
