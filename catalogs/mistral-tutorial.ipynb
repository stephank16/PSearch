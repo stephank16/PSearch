{
 "cells": [
  {
   "cell_type": "markdown",
   "metadata": {},
   "source": [
    "# Tutorial\n",
    "\n",
    "## Motivation\n",
    "\n",
    "\n",
    "Project efforts such as the [Coupled Model Intercomparison Project (CMIP)](https://www.wcrp-climate.org/wgcm-cmip) and other coordinated climate model runs (like CORDEX, Miklip, MPI-M Large Ensemble ..) produce a huge of amount climate data persisted on tape, disk storage, object storage components across multiple (in the order of ~ 300,000) data assets. These data assets are stored in netCDF and more recently [Zarr](https://zarr.readthedocs.io/en/stable/) formats. Finding, investigating, loading these assets into data array containers such as xarray can be a daunting task due to the large number of files a user may be interested in. Intake-esm aims to address these issues by providing necessary functionality for searching, discovering, data access/loading. \n",
    "\n",
    "## Overview \n",
    "\n",
    "`intake-esm` is a data cataloging utility built on top of [intake](https://github.com/intake/intake), [pandas](https://pandas.pydata.org/), and [xarray](https://xarray.pydata.org/en/stable/), and it's pretty awesome! \n"
   ]
  },
  {
   "cell_type": "markdown",
   "metadata": {},
   "source": [
    "## Opening a collection\n",
    "\n",
    "First step is to point ``intake-esm`` to an ESM (Earth System Model) collection definition file, which is a JSON file that conforms to the [ESM Collection Specification](https://github.com/NCAR/esm-collection-spec). The collection JSON file can be stored on a local filesystem or can be hosted on a remote server. When provided a link/path to an esm collection file, `intake-esm` establishes a link to a database (CSV file) that contains assets (e.g. file) locations and associated metadata (i.e., which experiement, model, the come from). \n",
    "\n",
    "\n",
    "For demonstration purposes, we will be using the CMIP6 data hosted in Pangeo's Google Storage. For this data collection, we will be using the Pangeo cloud collection file stored [here](https://raw.githubusercontent.com/NCAR/intake-esm-datastore/master/catalogs/pangeo-cmip6.json).\n",
    "\n",
    "\n",
    "<div class=\"alert alert-info\">\n",
    "\n",
    "**Note:** \n",
    "    \n",
    "\n",
    "More collection examples are available in [intake-esm-datastore](https://github.com/NCAR/intake-esm-datastore) GitHub repository. \n",
    "    \n",
    "    \n",
    "</div>\n"
   ]
  },
  {
   "cell_type": "markdown",
   "metadata": {},
   "source": [
    "Because `intake-esm` is an `intake` plugin, the plugin automatically appears in the set of known\n",
    "plugins in the intake registry, and an associated ``intake.open_esm_datastore`` function is created at import time."
   ]
  },
  {
   "cell_type": "code",
   "execution_count": 1,
   "metadata": {},
   "outputs": [],
   "source": [
    "import intake"
   ]
  },
  {
   "cell_type": "code",
   "execution_count": 2,
   "metadata": {},
   "outputs": [
    {
     "data": {
      "text/plain": [
       "{'yaml_file_cat': intake.catalog.local.YAMLFileCatalog,\n",
       " 'yaml_files_cat': intake.catalog.local.YAMLFilesCatalog,\n",
       " 'remote-xarray': intake_xarray.xarray_container.RemoteXarray,\n",
       " 'catalog': intake.catalog.base.Catalog,\n",
       " 'csv': intake.source.csv.CSVSource,\n",
       " 'intake_remote': intake.catalog.base.RemoteCatalog,\n",
       " 'ndzarr': intake.source.zarr.ZarrArraySource,\n",
       " 'numpy': intake.source.npy.NPySource,\n",
       " 'textfiles': intake.source.textfiles.TextFilesSource,\n",
       " 'netcdf': intake_xarray.netcdf.NetCDFSource,\n",
       " 'opendap': intake_xarray.opendap.OpenDapSource,\n",
       " 'rasterio': intake_xarray.raster.RasterIOSource,\n",
       " 'xarray_image': intake_xarray.image.ImageSource,\n",
       " 'zarr': intake_xarray.xzarr.ZarrSource,\n",
       " 'esm_datastore': intake_esm.core.esm_datastore}"
      ]
     },
     "execution_count": 2,
     "metadata": {},
     "output_type": "execute_result"
    }
   ],
   "source": [
    "intake.registry"
   ]
  },
  {
   "cell_type": "markdown",
   "metadata": {},
   "source": [
    "Let's now open a collection catalog for CMIP6 data residing in Pangeo's Google storage. "
   ]
  },
  {
   "cell_type": "code",
   "execution_count": 3,
   "metadata": {},
   "outputs": [
    {
     "data": {
      "text/plain": [
       "glade-cmip6-ESM Collection with 1638544 entries:\n",
       "\t> 19 activity_id(s)\n",
       "\n",
       "\t> 23 institution_id(s)\n",
       "\n",
       "\t> 48 source_id(s)\n",
       "\n",
       "\t> 166 experiment_id(s)\n",
       "\n",
       "\t> 272 member_id(s)\n",
       "\n",
       "\t> 38 table_id(s)\n",
       "\n",
       "\t> 1089 variable_id(s)\n",
       "\n",
       "\t> 11 grid_label(s)\n",
       "\n",
       "\t> 60 dcpp_init_year(s)\n",
       "\n",
       "\t> 290 version(s)\n",
       "\n",
       "\t> 17805 time_range(s)\n",
       "\n",
       "\t> 1638544 path(s)"
      ]
     },
     "execution_count": 3,
     "metadata": {},
     "output_type": "execute_result"
    }
   ],
   "source": [
    "url = \"https://raw.githubusercontent.com/stephank16/PSearch/master/catalogs/mistral-cmip6.json\"\n",
    "col = intake.open_esm_datastore(url)\n",
    "col"
   ]
  },
  {
   "cell_type": "markdown",
   "metadata": {},
   "source": [
    "Since `intake-esm` is build on top of [pandas](https://pandas.pydata.org/pandas-docs/stable), it is possible to view the `pandas.DataFrame` as follows."
   ]
  },
  {
   "cell_type": "code",
   "execution_count": 4,
   "metadata": {},
   "outputs": [
    {
     "data": {
      "text/html": [
       "<div>\n",
       "<style scoped>\n",
       "    .dataframe tbody tr th:only-of-type {\n",
       "        vertical-align: middle;\n",
       "    }\n",
       "\n",
       "    .dataframe tbody tr th {\n",
       "        vertical-align: top;\n",
       "    }\n",
       "\n",
       "    .dataframe thead th {\n",
       "        text-align: right;\n",
       "    }\n",
       "</style>\n",
       "<table border=\"1\" class=\"dataframe\">\n",
       "  <thead>\n",
       "    <tr style=\"text-align: right;\">\n",
       "      <th></th>\n",
       "      <th>activity_id</th>\n",
       "      <th>institution_id</th>\n",
       "      <th>source_id</th>\n",
       "      <th>experiment_id</th>\n",
       "      <th>member_id</th>\n",
       "      <th>table_id</th>\n",
       "      <th>variable_id</th>\n",
       "      <th>grid_label</th>\n",
       "      <th>dcpp_init_year</th>\n",
       "      <th>version</th>\n",
       "      <th>time_range</th>\n",
       "      <th>path</th>\n",
       "    </tr>\n",
       "  </thead>\n",
       "  <tbody>\n",
       "    <tr>\n",
       "      <th>0</th>\n",
       "      <td>AerChemMIP</td>\n",
       "      <td>NOAA-GFDL</td>\n",
       "      <td>GFDL-ESM4</td>\n",
       "      <td>piClim-aer</td>\n",
       "      <td>r1i1p1f1</td>\n",
       "      <td>Lmon</td>\n",
       "      <td>mrsos</td>\n",
       "      <td>gr1</td>\n",
       "      <td>NaN</td>\n",
       "      <td>v20180701</td>\n",
       "      <td>000101-003012</td>\n",
       "      <td>/mnt/lustre02/work/ik1017/CMIP6/data/CMIP6/Aer...</td>\n",
       "    </tr>\n",
       "    <tr>\n",
       "      <th>1</th>\n",
       "      <td>AerChemMIP</td>\n",
       "      <td>NOAA-GFDL</td>\n",
       "      <td>GFDL-ESM4</td>\n",
       "      <td>piClim-aer</td>\n",
       "      <td>r1i1p1f1</td>\n",
       "      <td>Lmon</td>\n",
       "      <td>mrso</td>\n",
       "      <td>gr1</td>\n",
       "      <td>NaN</td>\n",
       "      <td>v20180701</td>\n",
       "      <td>000101-003012</td>\n",
       "      <td>/mnt/lustre02/work/ik1017/CMIP6/data/CMIP6/Aer...</td>\n",
       "    </tr>\n",
       "    <tr>\n",
       "      <th>2</th>\n",
       "      <td>AerChemMIP</td>\n",
       "      <td>NOAA-GFDL</td>\n",
       "      <td>GFDL-ESM4</td>\n",
       "      <td>piClim-aer</td>\n",
       "      <td>r1i1p1f1</td>\n",
       "      <td>Lmon</td>\n",
       "      <td>mrro</td>\n",
       "      <td>gr1</td>\n",
       "      <td>NaN</td>\n",
       "      <td>v20180701</td>\n",
       "      <td>000101-003012</td>\n",
       "      <td>/mnt/lustre02/work/ik1017/CMIP6/data/CMIP6/Aer...</td>\n",
       "    </tr>\n",
       "    <tr>\n",
       "      <th>3</th>\n",
       "      <td>AerChemMIP</td>\n",
       "      <td>NOAA-GFDL</td>\n",
       "      <td>GFDL-ESM4</td>\n",
       "      <td>piClim-aer</td>\n",
       "      <td>r1i1p1f1</td>\n",
       "      <td>Lmon</td>\n",
       "      <td>mrros</td>\n",
       "      <td>gr1</td>\n",
       "      <td>NaN</td>\n",
       "      <td>v20180701</td>\n",
       "      <td>000101-003012</td>\n",
       "      <td>/mnt/lustre02/work/ik1017/CMIP6/data/CMIP6/Aer...</td>\n",
       "    </tr>\n",
       "    <tr>\n",
       "      <th>4</th>\n",
       "      <td>AerChemMIP</td>\n",
       "      <td>NOAA-GFDL</td>\n",
       "      <td>GFDL-ESM4</td>\n",
       "      <td>piClim-aer</td>\n",
       "      <td>r1i1p1f1</td>\n",
       "      <td>Amon</td>\n",
       "      <td>rlus</td>\n",
       "      <td>gr1</td>\n",
       "      <td>NaN</td>\n",
       "      <td>v20180701</td>\n",
       "      <td>000101-003012</td>\n",
       "      <td>/mnt/lustre02/work/ik1017/CMIP6/data/CMIP6/Aer...</td>\n",
       "    </tr>\n",
       "  </tbody>\n",
       "</table>\n",
       "</div>"
      ],
      "text/plain": [
       "  activity_id institution_id  source_id experiment_id member_id table_id  \\\n",
       "0  AerChemMIP      NOAA-GFDL  GFDL-ESM4    piClim-aer  r1i1p1f1     Lmon   \n",
       "1  AerChemMIP      NOAA-GFDL  GFDL-ESM4    piClim-aer  r1i1p1f1     Lmon   \n",
       "2  AerChemMIP      NOAA-GFDL  GFDL-ESM4    piClim-aer  r1i1p1f1     Lmon   \n",
       "3  AerChemMIP      NOAA-GFDL  GFDL-ESM4    piClim-aer  r1i1p1f1     Lmon   \n",
       "4  AerChemMIP      NOAA-GFDL  GFDL-ESM4    piClim-aer  r1i1p1f1     Amon   \n",
       "\n",
       "  variable_id grid_label  dcpp_init_year    version     time_range  \\\n",
       "0       mrsos        gr1             NaN  v20180701  000101-003012   \n",
       "1        mrso        gr1             NaN  v20180701  000101-003012   \n",
       "2        mrro        gr1             NaN  v20180701  000101-003012   \n",
       "3       mrros        gr1             NaN  v20180701  000101-003012   \n",
       "4        rlus        gr1             NaN  v20180701  000101-003012   \n",
       "\n",
       "                                                path  \n",
       "0  /mnt/lustre02/work/ik1017/CMIP6/data/CMIP6/Aer...  \n",
       "1  /mnt/lustre02/work/ik1017/CMIP6/data/CMIP6/Aer...  \n",
       "2  /mnt/lustre02/work/ik1017/CMIP6/data/CMIP6/Aer...  \n",
       "3  /mnt/lustre02/work/ik1017/CMIP6/data/CMIP6/Aer...  \n",
       "4  /mnt/lustre02/work/ik1017/CMIP6/data/CMIP6/Aer...  "
      ]
     },
     "execution_count": 4,
     "metadata": {},
     "output_type": "execute_result"
    }
   ],
   "source": [
    "col.df.head()"
   ]
  },
  {
   "cell_type": "markdown",
   "metadata": {},
   "source": [
    "It is possible to interact with the `DataFrame`; for instance, we can see what the \"attributes\" of the datasets are by printing the columns."
   ]
  },
  {
   "cell_type": "code",
   "execution_count": 5,
   "metadata": {},
   "outputs": [
    {
     "data": {
      "text/plain": [
       "Index(['activity_id', 'institution_id', 'source_id', 'experiment_id',\n",
       "       'member_id', 'table_id', 'variable_id', 'grid_label', 'dcpp_init_year',\n",
       "       'version', 'time_range', 'path'],\n",
       "      dtype='object')"
      ]
     },
     "execution_count": 5,
     "metadata": {},
     "output_type": "execute_result"
    }
   ],
   "source": [
    "col.df.columns"
   ]
  },
  {
   "cell_type": "markdown",
   "metadata": {},
   "source": [
    "## Search and discovery\n",
    "\n",
    "### Finding unique entries\n",
    "Let's query the data to see what models (\"source_id\"), experiments (\"experiment_id\") and temporal frequencies (\"table_id\") are available."
   ]
  },
  {
   "cell_type": "code",
   "execution_count": 6,
   "metadata": {},
   "outputs": [
    {
     "name": "stdout",
     "output_type": "stream",
     "text": [
      "{'experiment_id': {'count': 166,\n",
      "                   'values': ['piClim-aer', 'histSST-piCH4', 'histSST-piNTCF',\n",
      "                              'hist-1950HC', 'histSST-1950HC', 'piClim-2xVOC',\n",
      "                              'piClim-2xDMS', 'piClim-2xdust', 'piClim-BC',\n",
      "                              'piClim-2xNOx', 'piClim-NTCF', 'hist-piAer',\n",
      "                              'piClim-2xfire', 'piClim-control', 'piClim-CH4',\n",
      "                              'piClim-SO2', 'ssp370-lowNTCF', 'piClim-OC',\n",
      "                              'histSST-piAer', 'ssp370SST-lowAer', 'histSST',\n",
      "                              'piClim-2xss', 'hist-piNTCF', 'ssp370SST',\n",
      "                              'ssp370SST-lowBC', 'ssp370SST-lowNTCF', 'ssp370',\n",
      "                              'piClim-VOC', 'piClim-NOx', 'piClim-HC',\n",
      "                              'piClim-O3', 'piClim-N2O', 'histSST-piN2O',\n",
      "                              'ssp370SST-ssp126Lu', '1pctCO2-rad',\n",
      "                              '1pctCO2-bgc', 'hist-bgc', 'esm-ssp585',\n",
      "                              'ssp534-over-bgc', 'ssp585-bgc',\n",
      "                              'esm-pi-cdr-pulse', '1pctCO2-cdr',\n",
      "                              'esm-pi-CO2pulse', 'abrupt-0p5xCO2',\n",
      "                              'abrupt-2xCO2', 'aqua-control-lwoff', 'amip-p4K',\n",
      "                              'aqua-4xCO2', 'aqua-control', 'amip-future4K',\n",
      "                              'amip-p4K-lwoff', 'amip-4xCO2', 'aqua-p4K',\n",
      "                              'amip-piForcing', 'abrupt-solp4p', 'amip-m4K',\n",
      "                              'amip', 'aqua-p4K-lwoff', 'abrupt-solm4p',\n",
      "                              'amip-lwoff', 'piSST', 'a4SST', 'a4SSTice',\n",
      "                              'piSST-4xCO2-rad', 'piSST-4xCO2',\n",
      "                              'a4SSTice-4xCO2', 'amip-a4SST-4xCO2', 'piSST-pxK',\n",
      "                              'hist-GHG', '1pctCO2', 'abrupt-4xCO2',\n",
      "                              'piControl', 'hist-nat', 'historical', 'ssp585',\n",
      "                              'ssp126', 'ssp245', 'esm-piControl', 'esm-hist',\n",
      "                              'piControl-spinup', 'esm-piControl-spinup',\n",
      "                              'hist-sol', 'hist-volc', 'hist-aer',\n",
      "                              'hist-stratO3', 'ssp245-nat', 'ssp245-stratO3',\n",
      "                              'hist-CO2', 'ssp245-GHG', 'ssp245-aer',\n",
      "                              'dcppC-forecast-addAgung',\n",
      "                              'dcppC-hindcast-noAgung',\n",
      "                              'dcppC-forecast-addPinatubo', 'dcppA-assim',\n",
      "                              'dcppC-hindcast-noPinatubo',\n",
      "                              'dcppC-forecast-addElChichon',\n",
      "                              'dcppC-hindcast-noElChichon', 'dcppA-hindcast',\n",
      "                              'dcppC-ipv-NexTrop-pos', 'dcppC-amv-neg',\n",
      "                              'dcppC-amv-Trop-pos', 'dcppC-pac-control',\n",
      "                              'dcppC-amv-pos', 'dcppC-pac-pacemaker',\n",
      "                              'dcppC-atl-pacemaker', 'dcppC-ipv-NexTrop-neg',\n",
      "                              'dcppC-ipv-pos', 'dcppC-amv-Trop-neg',\n",
      "                              'dcppC-ipv-neg', 'dcppC-atl-control',\n",
      "                              'dcppC-amv-ExTrop-pos', 'dcppC-amv-ExTrop-neg',\n",
      "                              'faf-heat', 'faf-water', 'faf-stress', 'faf-all',\n",
      "                              'faf-passiveheat', 'amip-hist', 'amip-hld',\n",
      "                              'amip-TIP', 'amip-TIP-nosh', 'hist-resAMO',\n",
      "                              'hist-resIPO', 'G1', 'G6solar', 'G6sulfur',\n",
      "                              'control-1950', 'hist-1950', 'highresSST-present',\n",
      "                              '1pctCO2-4xext', 'land-hist', 'land-hist-cruNcep',\n",
      "                              'land-hist-princeton', 'esm-ssp585-ssp126Lu',\n",
      "                              'deforest-globe', 'hist-noLu', 'ssp126-ssp370Lu',\n",
      "                              'ssp370-ssp126Lu', 'land-cCO2', 'land-noLu',\n",
      "                              'land-noFire', 'land-crop-noFert',\n",
      "                              'land-hist-altStartYear', 'land-cClim', 'omip1',\n",
      "                              'pdSST-pdSIC', 'pdSST-piArcSIC',\n",
      "                              'pdSST-futArcSIC', 'piSST-pdSIC',\n",
      "                              'midPliocene-eoi400', 'midHolocene', 'lig127k',\n",
      "                              'lgm', 'piClim-4xCO2', 'piClim-lu', 'piClim-ghg',\n",
      "                              'piClim-anthro', 'piClim-histall',\n",
      "                              'piClim-histaer', 'piClim-histghg',\n",
      "                              'piClim-spAer-aer', 'piClim-spAer-anthro',\n",
      "                              'ssp119', 'ssp534-over', 'ssp460', 'ssp434']},\n",
      " 'source_id': {'count': 48,\n",
      "               'values': ['GFDL-ESM4', 'UKESM1-0-LL', 'MIROC6', 'BCC-ESM1',\n",
      "                          'CESM2-WACCM', 'CESM2', 'MRI-ESM2-0', 'NorESM2-LM',\n",
      "                          'CNRM-ESM2-1', 'GISS-E2-1-G', 'CanESM5',\n",
      "                          'BCC-CSM2-MR', 'GISS-E2-1-H', 'GFDL-CM4',\n",
      "                          'IPSL-CM6A-LR', 'CNRM-CM6-1', 'GISS-E2-1-G-CC',\n",
      "                          'AWI-CM-1-1-MR', 'FGOALS-f3-L', 'FGOALS-g3',\n",
      "                          'GFDL-AM4', 'CAMS-CSM1-0', 'HadGEM3-GC31-LL',\n",
      "                          'HadGEM3-GC31-MM', 'EC-Earth3-LR', 'EC-Earth3',\n",
      "                          'EC-Earth3-Veg', 'MIROC-ES2L', 'MCM-UA-1-0',\n",
      "                          'E3SM-1-0', 'MPI-ESM1-2-HR', 'NESM3', 'NorESM1-F',\n",
      "                          'NorCPM1', 'SAM0-UNICON', 'ECMWF-IFS-HR',\n",
      "                          'ECMWF-IFS-LR', 'CMCC-CM2-HR4', 'CMCC-CM2-VHR4',\n",
      "                          'HadGEM3-GC31-HM', 'HadGEM3-GC31-LM', 'NICAM16-7S',\n",
      "                          'NICAM16-9S', 'NICAM16-8S', 'IPSL-CM6A-ATM-HR',\n",
      "                          'MRI-AGCM3-2-H', 'MRI-AGCM3-2-S', 'CNRM-CM6-1-HR']},\n",
      " 'table_id': {'count': 38,\n",
      "              'values': ['Lmon', 'Amon', 'day', 'LImon', 'AERmon', 'CFmon',\n",
      "                         'Emon', 'SImon', 'SIday', 'Omon', 'fx', 'Oyr', 'Ofx',\n",
      "                         'Eyr', 'Eday', 'AERmonZ', 'Oday', '3hr', '6hrLev',\n",
      "                         'AERday', 'EmonZ', 'CFday', 'Oclim', 'Esubhr',\n",
      "                         'CFsubhr', '6hrPlev', '6hrPlevPt', 'Odec', 'CF3hr',\n",
      "                         'E3hrPt', 'E3hr', 'EdayZ', 'Efx', 'AERhr', 'ImonAnt',\n",
      "                         'ImonGre', 'E1hr', 'IfxGre']}}\n"
     ]
    }
   ],
   "source": [
    "import pprint \n",
    "uni_dict = col.unique(['source_id', 'experiment_id', 'table_id'])\n",
    "pprint.pprint(uni_dict, compact=True)"
   ]
  },
  {
   "cell_type": "markdown",
   "metadata": {},
   "source": [
    "### Searching for specific datasets\n",
    "\n",
    "\n",
    "One of the features supported in ``intake-esm`` is querying the collection catalog.\n",
    "This feature is provided via the ``search()`` method. The ``search()`` method allows the user to\n",
    "specify a query by using keyword arguments. This method returns a subset of the collection catalog\n",
    "with all the entries that match the provided query.\n",
    "\n",
    "Let's find all the dissolved oxygen data at annual frequency from the ocean for the `historical` and `ssp585` experiments."
   ]
  },
  {
   "cell_type": "code",
   "execution_count": 7,
   "metadata": {},
   "outputs": [
    {
     "data": {
      "text/html": [
       "<div>\n",
       "<style scoped>\n",
       "    .dataframe tbody tr th:only-of-type {\n",
       "        vertical-align: middle;\n",
       "    }\n",
       "\n",
       "    .dataframe tbody tr th {\n",
       "        vertical-align: top;\n",
       "    }\n",
       "\n",
       "    .dataframe thead th {\n",
       "        text-align: right;\n",
       "    }\n",
       "</style>\n",
       "<table border=\"1\" class=\"dataframe\">\n",
       "  <thead>\n",
       "    <tr style=\"text-align: right;\">\n",
       "      <th></th>\n",
       "      <th>activity_id</th>\n",
       "      <th>institution_id</th>\n",
       "      <th>source_id</th>\n",
       "      <th>experiment_id</th>\n",
       "      <th>member_id</th>\n",
       "      <th>table_id</th>\n",
       "      <th>variable_id</th>\n",
       "      <th>grid_label</th>\n",
       "      <th>dcpp_init_year</th>\n",
       "      <th>version</th>\n",
       "      <th>time_range</th>\n",
       "      <th>path</th>\n",
       "    </tr>\n",
       "  </thead>\n",
       "  <tbody>\n",
       "    <tr>\n",
       "      <th>566487</th>\n",
       "      <td>CMIP</td>\n",
       "      <td>BCC</td>\n",
       "      <td>BCC-CSM2-MR</td>\n",
       "      <td>historical</td>\n",
       "      <td>r3i1p1f1</td>\n",
       "      <td>Amon</td>\n",
       "      <td>pr</td>\n",
       "      <td>gn</td>\n",
       "      <td>NaN</td>\n",
       "      <td>v20181119</td>\n",
       "      <td>185001-201412</td>\n",
       "      <td>/mnt/lustre02/work/ik1017/CMIP6/data/CMIP6/CMI...</td>\n",
       "    </tr>\n",
       "  </tbody>\n",
       "</table>\n",
       "</div>"
      ],
      "text/plain": [
       "       activity_id institution_id    source_id experiment_id member_id  \\\n",
       "566487        CMIP            BCC  BCC-CSM2-MR    historical  r3i1p1f1   \n",
       "\n",
       "       table_id variable_id grid_label  dcpp_init_year    version  \\\n",
       "566487     Amon          pr         gn             NaN  v20181119   \n",
       "\n",
       "           time_range                                               path  \n",
       "566487  185001-201412  /mnt/lustre02/work/ik1017/CMIP6/data/CMIP6/CMI...  "
      ]
     },
     "execution_count": 7,
     "metadata": {},
     "output_type": "execute_result"
    }
   ],
   "source": [
    "\n",
    "#cat = col.search(experiment_id=['historical'], variable_id='pr', table_id=\"3hr\", source_id='MPI-ESM1-2-HR',\n",
    "#                 grid_label='gn', member_id=\"r1i1p1f1\")\n",
    "cat = col.search(source_id=['BCC-CSM2-MR', 'CNRM-CM6-1', 'CNRM-ESM2-1'],                     \n",
    "                 experiment_id=['historical'], variable_id='pr',\n",
    "                 table_id='Amon', grid_label='gn',member_id=\"r3i1p1f1\")\n",
    "cat.df"
   ]
  },
  {
   "cell_type": "code",
   "execution_count": 8,
   "metadata": {},
   "outputs": [
    {
     "data": {
      "text/plain": [
       "(1, 1638544)"
      ]
     },
     "execution_count": 8,
     "metadata": {},
     "output_type": "execute_result"
    }
   ],
   "source": [
    "len(cat.df), len(col.df)"
   ]
  },
  {
   "cell_type": "markdown",
   "metadata": {},
   "source": [
    "You can get summary information by using `.nunique()` and `.unique()` methods:"
   ]
  },
  {
   "cell_type": "code",
   "execution_count": 9,
   "metadata": {},
   "outputs": [
    {
     "name": "stdout",
     "output_type": "stream",
     "text": [
      "{   'activity_id': {'count': 1, 'values': ['CMIP']},\n",
      "    'source_id': {'count': 1, 'values': ['BCC-CSM2-MR']}}\n"
     ]
    }
   ],
   "source": [
    "pprint.pprint(cat.unique(columns=[\"source_id\", \"activity_id\"]), indent=4)"
   ]
  },
  {
   "cell_type": "code",
   "execution_count": 10,
   "metadata": {},
   "outputs": [
    {
     "data": {
      "text/plain": [
       "activity_id       1\n",
       "institution_id    1\n",
       "source_id         1\n",
       "experiment_id     1\n",
       "member_id         1\n",
       "table_id          1\n",
       "variable_id       1\n",
       "grid_label        1\n",
       "dcpp_init_year    0\n",
       "version           1\n",
       "time_range        1\n",
       "path              1\n",
       "dtype: int64"
      ]
     },
     "execution_count": 10,
     "metadata": {},
     "output_type": "execute_result"
    }
   ],
   "source": [
    "cat.nunique()"
   ]
  },
  {
   "cell_type": "markdown",
   "metadata": {},
   "source": [
    "## Loading data\n",
    "\n",
    "The best part about `intake-esm` is that it enables loading data directly into an [xarray.Dataset](http://xarray.pydata.org/en/stable/api.html#dataset).\n",
    "\n",
    "Note that data on the cloud are in \n",
    "[zarr](https://zarr.readthedocs.io/en/stable/) and data on \n",
    "[mistral](https://www.dkrz.de/up/de-services/de-data-management/de-cmip-data-pool) are stored as \n",
    "[netCDF](https://www.unidata.ucar.edu/software/netcdf/) files. This is opaque to the user!\n",
    "\n",
    "`intake-esm` has rules for aggegating datasets; these rules are defined in the collection-specification file."
   ]
  },
  {
   "cell_type": "code",
   "execution_count": 11,
   "metadata": {},
   "outputs": [
    {
     "name": "stdout",
     "output_type": "stream",
     "text": [
      "\n",
      "xarray will load netCDF datasets with dask using a single chunk for all arrays.\n",
      "For effective chunking, please provide chunks in cdf_kwargs.\n",
      "For example: cdf_kwargs={'chunks': {'time': 36}}\n",
      "\n",
      "--> The keys in the returned dictionary of datasets are constructed as follows:\n",
      "\t'activity_id.institution_id.source_id.experiment_id.table_id.grid_label'\n",
      "\n",
      "--> There will be 1 group(s)\n"
     ]
    }
   ],
   "source": [
    "dset_dict = cat.to_dataset_dict()"
   ]
  },
  {
   "cell_type": "markdown",
   "metadata": {},
   "source": [
    "`dset_dict` is a dictionary of `xarray.Dataset`'s; its keys are constructed to refer to compatible groups."
   ]
  },
  {
   "cell_type": "code",
   "execution_count": 12,
   "metadata": {},
   "outputs": [
    {
     "data": {
      "text/plain": [
       "dict_keys(['CMIP.BCC.BCC-CSM2-MR.historical.Amon.gn'])"
      ]
     },
     "execution_count": 12,
     "metadata": {},
     "output_type": "execute_result"
    }
   ],
   "source": [
    "dset_dict.keys()"
   ]
  },
  {
   "cell_type": "markdown",
   "metadata": {},
   "source": [
    "We can access a particular dataset as follows:"
   ]
  },
  {
   "cell_type": "code",
   "execution_count": 13,
   "metadata": {},
   "outputs": [
    {
     "data": {
      "text/plain": [
       "<xarray.Dataset>\n",
       "Dimensions:    (bnds: 2, lat: 160, lon: 320, member_id: 1, time: 1980)\n",
       "Coordinates:\n",
       "  * member_id  (member_id) <U8 'r3i1p1f1'\n",
       "  * lat        (lat) float64 -89.14 -88.03 -86.91 -85.79 ... 86.91 88.03 89.14\n",
       "  * lon        (lon) float64 0.0 1.125 2.25 3.375 ... 355.5 356.6 357.8 358.9\n",
       "  * time       (time) object 1850-01-16 12:00:00 ... 2014-12-16 12:00:00\n",
       "Dimensions without coordinates: bnds\n",
       "Data variables:\n",
       "    lon_bnds   (lon, bnds) float64 dask.array<chunksize=(320, 2), meta=np.ndarray>\n",
       "    lat_bnds   (lat, bnds) float64 dask.array<chunksize=(160, 2), meta=np.ndarray>\n",
       "    time_bnds  (time, bnds) object dask.array<chunksize=(1980, 2), meta=np.ndarray>\n",
       "    pr         (member_id, time, lat, lon) float32 dask.array<chunksize=(1, 1980, 160, 320), meta=np.ndarray>\n",
       "Attributes:\n",
       "    Conventions:            CF-1.7 CMIP-6.2\n",
       "    activity_id:            CMIP\n",
       "    branch_method:          Standard\n",
       "    branch_time_in_child:   0.0\n",
       "    branch_time_in_parent:  2439.0\n",
       "    comment:                The model integration starts from the piControl e...\n",
       "    contact:                Dr. Tongwen Wu(twwu@cma.gov.cn)\n",
       "    creation_date:          2018-11-19T03:26:44Z\n",
       "    data_specs_version:     01.00.27\n",
       "    description:            DECK: historical\n",
       "    experiment:             all-forcing simulation of the recent past\n",
       "    experiment_id:          historical\n",
       "    external_variables:     areacella\n",
       "    forcing_index:          1\n",
       "    frequency:              mon\n",
       "    further_info_url:       https://furtherinfo.es-doc.org/CMIP6.BCC.BCC-CSM2...\n",
       "    grid:                   T106\n",
       "    grid_label:             gn\n",
       "    history:                2018-11-19T03:26:44Z ; CMOR rewrote data to be co...\n",
       "    initialization_index:   1\n",
       "    institution:            Beijing Climate Center, Beijing 100081, China\n",
       "    institution_id:         BCC\n",
       "    mip_era:                CMIP6\n",
       "    nominal_resolution:     100 km\n",
       "    parent_activity_id:     CMIP\n",
       "    parent_experiment_id:   piControl\n",
       "    parent_mip_era:         CMIP6\n",
       "    parent_source_id:       BCC-CSM2-MR\n",
       "    parent_time_units:      days since 1850-01-01\n",
       "    parent_variant_label:   r3i1p1f1\n",
       "    physics_index:          1\n",
       "    product:                model-output\n",
       "    realization_index:      3\n",
       "    realm:                  atmos\n",
       "    references:             Model described by Tongwen Wu et al. (JGR 2013; J...\n",
       "    run_variant:            forcing: greenhouse gases,solar constant,aerosol,...\n",
       "    source:                 BCC-CSM 2 MR (2017):   aerosol: none  atmos: BCC_...\n",
       "    source_id:              BCC-CSM2-MR\n",
       "    source_type:            AOGCM\n",
       "    sub_experiment:         none\n",
       "    sub_experiment_id:      none\n",
       "    table_id:               Amon\n",
       "    table_info:             Creation Date:(30 July 2018) MD5:e53ff52009d0b97d...\n",
       "    title:                  BCC-CSM2-MR output prepared for CMIP6\n",
       "    tracking_id:            hdl:21.14100/7dec8e28-0701-4360-8a72-c5147495e89f\n",
       "    variable_id:            pr\n",
       "    variant_label:          r3i1p1f1\n",
       "    license:                CMIP6 model data produced by BCC is licensed unde...\n",
       "    cmor_version:           3.3.2"
      ]
     },
     "execution_count": 13,
     "metadata": {},
     "output_type": "execute_result"
    }
   ],
   "source": [
    "#ds = dset_dict['CMIP.MPI-M.MPI-ESM1-2-HR.historical.3hr.gn']\n",
    "ds = dset_dict['CMIP.BCC.BCC-CSM2-MR.historical.Amon.gn']\n",
    "ds"
   ]
  },
  {
   "cell_type": "markdown",
   "metadata": {},
   "source": [
    "Let's create a quick plot for a slice of the data:"
   ]
  },
  {
   "cell_type": "code",
   "execution_count": 14,
   "metadata": {},
   "outputs": [
    {
     "data": {
      "text/plain": [
       "<matplotlib.collections.QuadMesh at 0x7fbb4ffe1d30>"
      ]
     },
     "execution_count": 14,
     "metadata": {},
     "output_type": "execute_result"
    },
    {
     "data": {
      "image/png": "[encoded data removed]",
      "text/plain": [
       "<Figure size 432x288 with 2 Axes>"
      ]
     },
     "metadata": {
      "needs_background": "light"
     },
     "output_type": "display_data"
    }
   ],
   "source": [
    "%matplotlib inline\n",
    "ds.pr.isel(time=0).plot()"
   ]
  },
  {
   "cell_type": "markdown",
   "metadata": {},
   "source": [
    "We can execute more searches against the original catalog and/or against a subset of the original catalog:"
   ]
  },
  {
   "cell_type": "code",
   "execution_count": null,
   "metadata": {},
   "outputs": [],
   "source": [
    "%%time\n",
    "cat_fx = col.search(table_id='Ofx', grid_label='gn',\n",
    "                    variable_id='volcello')\n",
    "cat_fx.df.head()"
   ]
  },
  {
   "cell_type": "code",
   "execution_count": null,
   "metadata": {},
   "outputs": [],
   "source": [
    "%%time\n",
    "a = cat_fx.search(source_id=\"CESM2\")\n",
    "a.df.head()"
   ]
  },
  {
   "cell_type": "code",
   "execution_count": null,
   "metadata": {},
   "outputs": [],
   "source": [
    "len(cat_fx.df), len(a.df)"
   ]
  }
 ],
 "metadata": {
  "kernelspec": {
   "display_name": "Python [conda env:intake] *",
   "language": "python",
   "name": "conda-env-intake-py"
  },
  "language_info": {
   "codemirror_mode": {
    "name": "ipython",
    "version": 3
   },
   "file_extension": ".py",
   "mimetype": "text/x-python",
   "name": "python",
   "nbconvert_exporter": "python",
   "pygments_lexer": "ipython3",
   "version": "3.7.3"
  }
 },
 "nbformat": 4,
 "nbformat_minor": 4
}
